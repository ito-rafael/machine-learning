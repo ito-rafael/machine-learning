{
  "nbformat": 4,
  "nbformat_minor": 0,
  "metadata": {
    "colab": {
      "name": "IMDb - Sentiment analysis (Rafael Ito).ipynb",
      "provenance": [],
      "collapsed_sections": []
    },
    "kernelspec": {
      "name": "python3",
      "display_name": "Python 3"
    },
    "accelerator": "GPU"
  },
  "cells": [
    {
      "cell_type": "markdown",
      "metadata": {
        "id": "aibQMqn3rEp8",
        "colab_type": "text"
      },
      "source": [
        "# Sentiment analysis"
      ]
    },
    {
      "cell_type": "markdown",
      "metadata": {
        "id": "399F2GKforfi",
        "colab_type": "text"
      },
      "source": [
        "Author: **Rafael Ito**  \n",
        "e-mail: ito.rafael@gmail.com"
      ]
    },
    {
      "cell_type": "markdown",
      "metadata": {
        "id": "eV7swfVuBvgm",
        "colab_type": "text"
      },
      "source": [
        "## 0. Dataset and Description\n",
        "\n",
        "**Name:**  IMDb  \n",
        "**Description:** this notebook uses the IMDb dataset which contains movie reviews classified as either positive or negative review. The aim is to perform a supervised learning for sentiment classification."
      ]
    },
    {
      "cell_type": "markdown",
      "metadata": {
        "id": "ZnLtgkmhr0y0",
        "colab_type": "text"
      },
      "source": [
        "## 1. Libraries and packages"
      ]
    },
    {
      "cell_type": "markdown",
      "metadata": {
        "id": "wF94hPU1HWt9",
        "colab_type": "text"
      },
      "source": [
        "### 1.1 Install packages"
      ]
    },
    {
      "cell_type": "code",
      "metadata": {
        "id": "44YWHZaqwDo4",
        "colab_type": "code",
        "colab": {}
      },
      "source": [
        "!pip install -q \\\n",
        "    numpy       \\\n",
        "    torch       \\\n",
        "    sklearn     \\\n",
        "    skorch      \\\n",
        "    matplotlib  "
      ],
      "execution_count": 0,
      "outputs": []
    },
    {
      "cell_type": "markdown",
      "metadata": {
        "id": "F-lNBFD0HcPb",
        "colab_type": "text"
      },
      "source": [
        "### 1.2 Import libraries"
      ]
    },
    {
      "cell_type": "code",
      "metadata": {
        "id": "XYPw4vBWq_nd",
        "colab_type": "code",
        "colab": {}
      },
      "source": [
        "#-------------------------------------------------\n",
        "# general\n",
        "#-------------------\n",
        "import numpy as np\n",
        "import pandas as pd\n",
        "import re\n",
        "#-------------------------------------------------\n",
        "# PyTorch\n",
        "#-------------------\n",
        "import torch\n",
        "from torch.utils.data import TensorDataset\n",
        "import torch.nn.functional as F\n",
        "#-------------------------------------------------\n",
        "# skorch\n",
        "#-------------------\n",
        "#from skorch import NeuralNetClassifier\n",
        "#-------------------------------------------------\n",
        "# scikit-learn\n",
        "#-------------------\n",
        "from sklearn.feature_extraction.text import CountVectorizer\n",
        "from sklearn.preprocessing import OneHotEncoder\n",
        "# metrics\n",
        "from sklearn.metrics import confusion_matrix\n",
        "from sklearn.metrics import accuracy_score\n",
        "from sklearn.metrics import precision_score\n",
        "from sklearn.metrics import f1_score\n",
        "#-------------------------------------------------\n",
        "# data visualization\n",
        "#-------------------\n",
        "import matplotlib.pyplot as plt\n",
        "import seaborn as sns\n",
        "#-------------------------------------------------\n",
        "# additional config\n",
        "#-------------------\n",
        "# random seed generator\n",
        "torch.manual_seed(42);"
      ],
      "execution_count": 0,
      "outputs": []
    },
    {
      "cell_type": "markdown",
      "metadata": {
        "id": "Rmn8887vHg2C",
        "colab_type": "text"
      },
      "source": [
        "### 1.3 Check device"
      ]
    },
    {
      "cell_type": "code",
      "metadata": {
        "id": "YXc7eeN9HjNh",
        "colab_type": "code",
        "colab": {
          "base_uri": "https://localhost:8080/",
          "height": 36
        },
        "outputId": "34ff086f-217a-4008-a0fc-289238fd8036"
      },
      "source": [
        "device = torch.device('cpu')\n",
        "if torch.cuda.is_available():\n",
        "    device = torch.device('cuda')\n",
        "print('Device:', device)"
      ],
      "execution_count": 3,
      "outputs": [
        {
          "output_type": "stream",
          "text": [
            "Device: cuda\n"
          ],
          "name": "stdout"
        }
      ]
    },
    {
      "cell_type": "markdown",
      "metadata": {
        "id": "CmnUYDiAnfZ_",
        "colab_type": "text"
      },
      "source": [
        "### 1.4 Function to plot confusion matrix"
      ]
    },
    {
      "cell_type": "code",
      "metadata": {
        "id": "z7-aEqs_nhpf",
        "colab_type": "code",
        "colab": {}
      },
      "source": [
        "#https://gist.github.com/shaypal5/94c53d765083101efc0240d776a23823\n",
        "def print_confusion_matrix(confusion_matrix, class_names, title=None, normalize=False, cmap=plt.cm.Blues, figsize = (10,7), fontsize=14):\n",
        "    # normalized or raw CM\n",
        "    if normalize:\n",
        "        confusion_matrix = confusion_matrix.astype('float') / confusion_matrix.sum(axis=1)[:, np.newaxis]\n",
        "        fmt = '.2f'\n",
        "    else:\n",
        "        fmt = 'd'\n",
        "    #----------------------------\n",
        "    df_cm = pd.DataFrame(confusion_matrix, index=class_names, columns=class_names)\n",
        "    fig = plt.figure(figsize=figsize)\n",
        "    try:\n",
        "        heatmap = sns.heatmap(df_cm, annot=True, fmt=fmt, cmap=cmap)\n",
        "    except ValueError:\n",
        "        raise ValueError(\"Confusion matrix values must be integers.\")\n",
        "    #----------------------------\n",
        "    # fix matplotlib 3.1.1 bug\n",
        "    #heatmap.get_ylim() --> (5.5, 0.5)\n",
        "    #heatmap.set_ylim(6.0, 0)\n",
        "    #----------------------------\n",
        "    heatmap.yaxis.set_ticklabels(heatmap.yaxis.get_ticklabels(), rotation=0, ha='right', fontsize=fontsize)\n",
        "    heatmap.xaxis.set_ticklabels(heatmap.xaxis.get_ticklabels(), rotation=45, ha='right', fontsize=fontsize)\n",
        "    plt.title(title)\n",
        "    plt.ylabel('True label')\n",
        "    plt.xlabel('Predicted label')\n",
        "    return fig"
      ],
      "execution_count": 0,
      "outputs": []
    },
    {
      "cell_type": "markdown",
      "metadata": {
        "id": "C4IayX1HsCyC",
        "colab_type": "text"
      },
      "source": [
        "## 2. Dataset"
      ]
    },
    {
      "cell_type": "markdown",
      "metadata": {
        "id": "QS8YeBbWH7rF",
        "colab_type": "text"
      },
      "source": [
        "### 2.1 Download"
      ]
    },
    {
      "cell_type": "code",
      "metadata": {
        "id": "be58QXZjoBWl",
        "colab_type": "code",
        "colab": {
          "base_uri": "https://localhost:8080/",
          "height": 56
        },
        "outputId": "dd780097-a8cc-4a05-e379-b57ec56ee740"
      },
      "source": [
        "# download dataset\n",
        "!wget -nc http://files.fast.ai/data/examples/imdb_sample.tgz\n",
        "!tar -xzf imdb_sample.tgz"
      ],
      "execution_count": 5,
      "outputs": [
        {
          "output_type": "stream",
          "text": [
            "File ‘imdb_sample.tgz’ already there; not retrieving.\n",
            "\n"
          ],
          "name": "stdout"
        }
      ]
    },
    {
      "cell_type": "markdown",
      "metadata": {
        "id": "LWGpvacBsdW_",
        "colab_type": "text"
      },
      "source": [
        "### 2.2 Dataset preparation"
      ]
    },
    {
      "cell_type": "code",
      "metadata": {
        "id": "IhhTEAagAr0f",
        "colab_type": "code",
        "colab": {}
      },
      "source": [
        "# read csv spreadsheet\n",
        "df = pd.read_csv('imdb_sample/texts.csv')"
      ],
      "execution_count": 0,
      "outputs": []
    },
    {
      "cell_type": "markdown",
      "metadata": {
        "id": "0ZoSUNHgA4LH",
        "colab_type": "text"
      },
      "source": [
        "Input"
      ]
    },
    {
      "cell_type": "code",
      "metadata": {
        "id": "8TbZZ7zR35kj",
        "colab_type": "code",
        "colab": {}
      },
      "source": [
        "# getting only the 'text' column as a list\n",
        "corpus = df['text'].tolist()"
      ],
      "execution_count": 0,
      "outputs": []
    },
    {
      "cell_type": "code",
      "metadata": {
        "id": "KENPCIRQ641J",
        "colab_type": "code",
        "colab": {}
      },
      "source": [
        "# scikit-learn\n",
        "vectorizer = CountVectorizer()\n",
        "X_sparse = vectorizer.fit_transform(corpus)\n",
        "vocab = vectorizer.get_feature_names()"
      ],
      "execution_count": 0,
      "outputs": []
    },
    {
      "cell_type": "code",
      "metadata": {
        "id": "RvwZXd_q35eA",
        "colab_type": "code",
        "colab": {}
      },
      "source": [
        "X = torch.tensor(X_sparse.toarray(), dtype=torch.float32)"
      ],
      "execution_count": 0,
      "outputs": []
    },
    {
      "cell_type": "markdown",
      "metadata": {
        "id": "o2-NiY0gAyTd",
        "colab_type": "text"
      },
      "source": [
        "Target"
      ]
    },
    {
      "cell_type": "code",
      "metadata": {
        "id": "r12oI6jBv-Ey",
        "colab_type": "code",
        "colab": {}
      },
      "source": [
        "# Pandas\n",
        "target_pd = df['label']\n",
        "# NumPy\n",
        "target_np = target_pd.to_numpy().reshape(-1,1)"
      ],
      "execution_count": 0,
      "outputs": []
    },
    {
      "cell_type": "code",
      "metadata": {
        "id": "nhkoCpst1V95",
        "colab_type": "code",
        "colab": {}
      },
      "source": [
        "# one-hot encoder\n",
        "from sklearn.preprocessing import OneHotEncoder\n",
        "enc = OneHotEncoder()\n",
        "target_oh = enc.fit_transform(target_np)"
      ],
      "execution_count": 0,
      "outputs": []
    },
    {
      "cell_type": "code",
      "metadata": {
        "id": "uwAxSlbc-GrK",
        "colab_type": "code",
        "colab": {}
      },
      "source": [
        "# PyTorch\n",
        "target = torch.tensor(target_oh[:,1].toarray(), dtype=torch.int64)\n",
        "target = torch.squeeze(target, 1)"
      ],
      "execution_count": 0,
      "outputs": []
    },
    {
      "cell_type": "markdown",
      "metadata": {
        "id": "UoCDR4p0BYcy",
        "colab_type": "text"
      },
      "source": [
        "### 2.3 PyTorch dataset creation"
      ]
    },
    {
      "cell_type": "code",
      "metadata": {
        "id": "2a8kAF4zCAol",
        "colab_type": "code",
        "colab": {}
      },
      "source": [
        "# create dataset\n",
        "ds = TensorDataset(X, target)"
      ],
      "execution_count": 0,
      "outputs": []
    },
    {
      "cell_type": "code",
      "metadata": {
        "id": "XqDLadMAAUQb",
        "colab_type": "code",
        "colab": {}
      },
      "source": [
        "# split in training, validation and test sets\n",
        "ds_train, ds_val, ds_test = torch.utils.data.random_split(ds, (600, 200, 200))"
      ],
      "execution_count": 0,
      "outputs": []
    },
    {
      "cell_type": "markdown",
      "metadata": {
        "id": "UPsgbfqGsm5V",
        "colab_type": "text"
      },
      "source": [
        "### 2.4 PyTorch loader creation\n",
        "\n",
        "- BATCH_SIZE definition\n",
        "- training dataset\n",
        "- validation dataset"
      ]
    },
    {
      "cell_type": "code",
      "metadata": {
        "id": "9sESeX_SqoXr",
        "colab_type": "code",
        "colab": {}
      },
      "source": [
        "BATCH_SIZE_TRAIN = 100\n",
        "BATCH_SIZE_VAL   = 100\n",
        "BATCH_SIZE_TEST  = 100\n",
        "#-------------------------------------------------\n",
        "# training data loader\n",
        "dl_train = torch.utils.data.DataLoader(\n",
        "              dataset=ds_train, \n",
        "              drop_last = False,\n",
        "              shuffle = False,\n",
        "              #batch_size = BATCH_SIZE)\n",
        "              batch_size = BATCH_SIZE_TRAIN)\n",
        "#-------------------------------------------------\n",
        "# validation data loader\n",
        "dl_val   = torch.utils.data.DataLoader(\n",
        "              dataset = ds_val,\n",
        "              drop_last = False,\n",
        "              shuffle = False,\n",
        "              #batch_size = BATCH_SIZE)\n",
        "              batch_size = BATCH_SIZE_VAL)\n",
        "#-------------------------------------------------\n",
        "# test data loader\n",
        "dl_test   = torch.utils.data.DataLoader(\n",
        "              dataset = ds_test,\n",
        "              drop_last = False,\n",
        "              shuffle = False,\n",
        "              #batch_size = BATCH_SIZE)\n",
        "              batch_size = BATCH_SIZE_TEST)"
      ],
      "execution_count": 0,
      "outputs": []
    },
    {
      "cell_type": "markdown",
      "metadata": {
        "id": "XFwZVZfQssoV",
        "colab_type": "text"
      },
      "source": [
        "### 2.5 Verifying shape, batch data type from loader and optionally its visualization"
      ]
    },
    {
      "cell_type": "code",
      "metadata": {
        "id": "NQbDl3QVql8m",
        "colab_type": "code",
        "colab": {
          "base_uri": "https://localhost:8080/",
          "height": 75
        },
        "outputId": "31c2ec8b-e540-4ae2-d117-840a882fbc24"
      },
      "source": [
        "tx, ty = iter(dl_train).next()\n",
        "print('train:', tx.shape, tx.dtype, ty.shape, ty.dtype)\n",
        "tx, ty = iter(dl_val).next()\n",
        "print('val:', tx.shape, tx.dtype, ty.shape, ty.dtype)\n",
        "print('last batch size:', len(ds_train)%BATCH_SIZE_TRAIN, len(ds_val)%BATCH_SIZE_VAL)"
      ],
      "execution_count": 16,
      "outputs": [
        {
          "output_type": "stream",
          "text": [
            "train: torch.Size([100, 18668]) torch.float32 torch.Size([100]) torch.int64\n",
            "val: torch.Size([100, 18668]) torch.float32 torch.Size([100]) torch.int64\n",
            "last batch size: 0 0\n"
          ],
          "name": "stdout"
        }
      ]
    },
    {
      "cell_type": "markdown",
      "metadata": {
        "id": "Bw_Z9cMgs8Kf",
        "colab_type": "text"
      },
      "source": [
        "## 3. Network Model"
      ]
    },
    {
      "cell_type": "markdown",
      "metadata": {
        "id": "7vn0r32bamG7",
        "colab_type": "text"
      },
      "source": [
        "### 3.1 Network class definition"
      ]
    },
    {
      "cell_type": "code",
      "metadata": {
        "id": "HY7n0S0vq-1Z",
        "colab_type": "code",
        "colab": {}
      },
      "source": [
        "'''\n",
        "L1 (1st layer): 18668 inputs, 1000 outputs\n",
        "L2 (2nd layer):  1000 inputs, 1000 outputs\n",
        "L3 (3rd layer):  1000 inputs,    2 outputs\n",
        "'''\n",
        "class NN(torch.nn.Module):\n",
        "    def __init__(self):\n",
        "        super(NN, self).__init__()\n",
        "        self.L1 = torch.nn.Linear(in_features=18668,  out_features=10000)\n",
        "        self.L1D = torch.nn.Dropout(0.5)\n",
        "        self.L2 = torch.nn.Linear(in_features=10000,  out_features=1000)\n",
        "        self.L2D = torch.nn.Dropout(0.5)\n",
        "        self.L3 = torch.nn.Linear(in_features=1000,  out_features=2)\n",
        "\n",
        "    def forward(self, x):\n",
        "        #-------------------\n",
        "        # dense layer, ReLU, dropout\n",
        "        x = self.L1(x)\n",
        "        x = F.relu(x)\n",
        "        x = self.L1D(x)\n",
        "        #-------------------\n",
        "        # dense layer, ReLU, dropout\n",
        "        x = self.L2(x)\n",
        "        x = F.relu(x)\n",
        "        x = self.L2D(x)\n",
        "        #-------------------\n",
        "        # dense layer\n",
        "        x = self.L3(x)\n",
        "        #-------------------\n",
        "        return x"
      ],
      "execution_count": 0,
      "outputs": []
    },
    {
      "cell_type": "markdown",
      "metadata": {
        "id": "r6NbQ9ygasBE",
        "colab_type": "text"
      },
      "source": [
        "### 3.2 Network instantiation"
      ]
    },
    {
      "cell_type": "code",
      "metadata": {
        "id": "bIRZSsqNq_Zl",
        "colab_type": "code",
        "colab": {
          "base_uri": "https://localhost:8080/",
          "height": 153
        },
        "outputId": "c3ea8640-aaf8-49e4-e628-3371babc9712"
      },
      "source": [
        "model = NN()\n",
        "model.to(device)"
      ],
      "execution_count": 18,
      "outputs": [
        {
          "output_type": "execute_result",
          "data": {
            "text/plain": [
              "NN(\n",
              "  (L1): Linear(in_features=18668, out_features=10000, bias=True)\n",
              "  (L1D): Dropout(p=0.5, inplace=False)\n",
              "  (L2): Linear(in_features=10000, out_features=1000, bias=True)\n",
              "  (L2D): Dropout(p=0.5, inplace=False)\n",
              "  (L3): Linear(in_features=1000, out_features=2, bias=True)\n",
              ")"
            ]
          },
          "metadata": {
            "tags": []
          },
          "execution_count": 18
        }
      ]
    },
    {
      "cell_type": "markdown",
      "metadata": {
        "id": "WFcCML_SayNO",
        "colab_type": "text"
      },
      "source": [
        "### 3.3 Network predict with few samples of batch from loader"
      ]
    },
    {
      "cell_type": "code",
      "metadata": {
        "id": "IX2K9fQ3rAkO",
        "colab_type": "code",
        "outputId": "fccd7673-37fa-49c3-d334-e997457ccf78",
        "colab": {
          "base_uri": "https://localhost:8080/",
          "height": 36
        }
      },
      "source": [
        "model(ds_train[0][0].to(device))"
      ],
      "execution_count": 19,
      "outputs": [
        {
          "output_type": "execute_result",
          "data": {
            "text/plain": [
              "tensor([-0.1350,  0.0137], device='cuda:0', grad_fn=<AddBackward0>)"
            ]
          },
          "metadata": {
            "tags": []
          },
          "execution_count": 19
        }
      ]
    },
    {
      "cell_type": "markdown",
      "metadata": {
        "id": "gqbHi424bDid",
        "colab_type": "text"
      },
      "source": [
        "## 4. Network training"
      ]
    },
    {
      "cell_type": "markdown",
      "metadata": {
        "id": "o4_rINNlbH17",
        "colab_type": "text"
      },
      "source": [
        "### 4.1 Training definitions\n",
        "\n",
        "- number of epochs\n",
        "- optimizer and LR (learning rate)\n",
        "- loss function\n"
      ]
    },
    {
      "cell_type": "code",
      "metadata": {
        "id": "07mvkthGrcVe",
        "colab_type": "code",
        "colab": {}
      },
      "source": [
        "# Training parameters\n",
        "EPOCH = 100\n",
        "LR = 0.04\n",
        "loss_func = torch.nn.CrossEntropyLoss()\n",
        "opt = torch.optim.SGD(model.parameters(), lr=LR)\n",
        "# loss history\n",
        "loss_his = []\n",
        "loss_val_his = []"
      ],
      "execution_count": 0,
      "outputs": []
    },
    {
      "cell_type": "markdown",
      "metadata": {
        "id": "Mifo0jGebd6z",
        "colab_type": "text"
      },
      "source": [
        "### 4.2 Training loop"
      ]
    },
    {
      "cell_type": "code",
      "metadata": {
        "id": "gmZtFWUqrgeu",
        "colab_type": "code",
        "outputId": "0e248190-dc44-43dc-a5bf-16f85b27b9cf",
        "colab": {
          "base_uri": "https://localhost:8080/",
          "height": 1000
        }
      },
      "source": [
        "N_SAMPLES = len(ds_train)\n",
        "for epoch in range(EPOCH):\n",
        "    print('epoch =', epoch, end='; ')\n",
        "    #-------------------------------------------------\n",
        "    # training mode\n",
        "    #-------------------\n",
        "    model.train()\n",
        "    score_train = 0.\n",
        "    for b_i, (b_x, b_y) in enumerate(dl_train):   # for each training step\n",
        "        b_x, b_y = b_x.to(device), b_y.to(device)\n",
        "        y_logitos = model(b_x)\n",
        "        loss = loss_func(y_logitos, b_y)\n",
        "        opt.zero_grad()                 # clear gradients for next train\n",
        "        loss.backward()                 # backpropagation, compute gradients\n",
        "        opt.step()                      # apply gradients\n",
        "        #-------------------\n",
        "        y_pred = torch.argmax(y_logitos, dim=1)\n",
        "        score_train += (b_y == y_pred).sum()\n",
        "    loss_his.append(loss.item())    # trainint loss history\n",
        "    acc_train = score_train / N_SAMPLES\n",
        "    #-------------------------------------------------\n",
        "    # evaluation mode\n",
        "    #-------------------\n",
        "    model.eval()\n",
        "    score_val = 0.\n",
        "    for b_ival, (b_xval, b_yval) in enumerate(dl_val):\n",
        "        b_xval, b_yval = b_xval.to(device), b_yval.to(device)\n",
        "        y_logitos = model(b_xval)\n",
        "        loss_val = loss_func(y_logitos, b_yval)\n",
        "        yval_pred = torch.argmax(y_logitos, dim=1)\n",
        "        score_val += (b_yval == yval_pred).sum()\n",
        "    loss_val_his.append(loss_val.item())    # validation loss history\n",
        "    acc_val = score_val / len(ds_val)\n",
        "    #-------------------------------------------------\n",
        "    print('loss_train = {0:.4f}'.format(loss_his[-1]), end='; ')\n",
        "    print('loss_val = {0:.4f}'.format(loss_val_his[-1]), end='; ')\n",
        "    print('acc_train = {0:.4f}'.format(acc_train), end='; ')\n",
        "    print('acc_val = {0:.4f}'.format(acc_val), end='\\n')"
      ],
      "execution_count": 21,
      "outputs": [
        {
          "output_type": "stream",
          "text": [
            "epoch = 0; loss_train = 0.6939; loss_val = 0.6904; acc_train = 0.4950; acc_val = 0.6550\n",
            "epoch = 1; loss_train = 0.6844; loss_val = 0.6849; acc_train = 0.6183; acc_val = 0.6700\n",
            "epoch = 2; loss_train = 0.6783; loss_val = 0.6782; acc_train = 0.6333; acc_val = 0.6600\n",
            "epoch = 3; loss_train = 0.6659; loss_val = 0.6701; acc_train = 0.6483; acc_val = 0.7050\n",
            "epoch = 4; loss_train = 0.6613; loss_val = 0.6602; acc_train = 0.6933; acc_val = 0.6950\n",
            "epoch = 5; loss_train = 0.6444; loss_val = 0.6510; acc_train = 0.6733; acc_val = 0.7000\n",
            "epoch = 6; loss_train = 0.6461; loss_val = 0.6403; acc_train = 0.6717; acc_val = 0.6950\n",
            "epoch = 7; loss_train = 0.6317; loss_val = 0.6284; acc_train = 0.6800; acc_val = 0.6950\n",
            "epoch = 8; loss_train = 0.6178; loss_val = 0.6193; acc_train = 0.6817; acc_val = 0.7050\n",
            "epoch = 9; loss_train = 0.6033; loss_val = 0.6091; acc_train = 0.7033; acc_val = 0.7000\n",
            "epoch = 10; loss_train = 0.5885; loss_val = 0.6004; acc_train = 0.6833; acc_val = 0.7000\n",
            "epoch = 11; loss_train = 0.5686; loss_val = 0.5933; acc_train = 0.6883; acc_val = 0.7050\n",
            "epoch = 12; loss_train = 0.5743; loss_val = 0.5885; acc_train = 0.7033; acc_val = 0.6950\n",
            "epoch = 13; loss_train = 0.5644; loss_val = 0.5797; acc_train = 0.6950; acc_val = 0.7150\n",
            "epoch = 14; loss_train = 0.5498; loss_val = 0.5766; acc_train = 0.6800; acc_val = 0.7100\n",
            "epoch = 15; loss_train = 0.5361; loss_val = 0.5672; acc_train = 0.7033; acc_val = 0.7100\n",
            "epoch = 16; loss_train = 0.5304; loss_val = 0.5628; acc_train = 0.7150; acc_val = 0.7150\n",
            "epoch = 17; loss_train = 0.5450; loss_val = 0.5651; acc_train = 0.7000; acc_val = 0.7050\n",
            "epoch = 18; loss_train = 0.5155; loss_val = 0.5546; acc_train = 0.7100; acc_val = 0.7150\n",
            "epoch = 19; loss_train = 0.5270; loss_val = 0.5598; acc_train = 0.7450; acc_val = 0.6850\n",
            "epoch = 20; loss_train = 0.4846; loss_val = 0.5441; acc_train = 0.7100; acc_val = 0.7500\n",
            "epoch = 21; loss_train = 0.4732; loss_val = 0.5349; acc_train = 0.7833; acc_val = 0.7500\n",
            "epoch = 22; loss_train = 0.5315; loss_val = 0.7814; acc_train = 0.7933; acc_val = 0.6400\n",
            "epoch = 23; loss_train = 0.4917; loss_val = 0.5550; acc_train = 0.6483; acc_val = 0.7350\n",
            "epoch = 24; loss_train = 0.4537; loss_val = 0.5665; acc_train = 0.8267; acc_val = 0.7250\n",
            "epoch = 25; loss_train = 0.4908; loss_val = 0.5669; acc_train = 0.7300; acc_val = 0.7400\n",
            "epoch = 26; loss_train = 0.4800; loss_val = 0.6617; acc_train = 0.8333; acc_val = 0.6650\n",
            "epoch = 27; loss_train = 0.4702; loss_val = 0.5353; acc_train = 0.6783; acc_val = 0.7500\n",
            "epoch = 28; loss_train = 0.4153; loss_val = 0.5032; acc_train = 0.8383; acc_val = 0.7650\n",
            "epoch = 29; loss_train = 0.4367; loss_val = 0.5126; acc_train = 0.7300; acc_val = 0.7650\n",
            "epoch = 30; loss_train = 0.3833; loss_val = 0.4923; acc_train = 0.8450; acc_val = 0.7700\n",
            "epoch = 31; loss_train = 0.8170; loss_val = 0.6209; acc_train = 0.7433; acc_val = 0.5850\n",
            "epoch = 32; loss_train = 0.4064; loss_val = 0.5152; acc_train = 0.7650; acc_val = 0.7500\n",
            "epoch = 33; loss_train = 0.4138; loss_val = 0.6147; acc_train = 0.8567; acc_val = 0.6800\n",
            "epoch = 34; loss_train = 0.4231; loss_val = 0.5218; acc_train = 0.7317; acc_val = 0.7800\n",
            "epoch = 35; loss_train = 0.3383; loss_val = 0.4850; acc_train = 0.8817; acc_val = 0.7700\n",
            "epoch = 36; loss_train = 0.3115; loss_val = 0.4865; acc_train = 0.9000; acc_val = 0.7550\n",
            "epoch = 37; loss_train = 0.4670; loss_val = 1.3271; acc_train = 0.8750; acc_val = 0.5750\n",
            "epoch = 38; loss_train = 0.3744; loss_val = 0.4943; acc_train = 0.7183; acc_val = 0.7900\n",
            "epoch = 39; loss_train = 0.4624; loss_val = 0.6894; acc_train = 0.8450; acc_val = 0.5700\n",
            "epoch = 40; loss_train = 0.3558; loss_val = 0.4864; acc_train = 0.7667; acc_val = 0.7900\n",
            "epoch = 41; loss_train = 0.3117; loss_val = 0.4919; acc_train = 0.9100; acc_val = 0.7600\n",
            "epoch = 42; loss_train = 0.5660; loss_val = 1.2405; acc_train = 0.8633; acc_val = 0.5850\n",
            "epoch = 43; loss_train = 0.3324; loss_val = 0.4794; acc_train = 0.7250; acc_val = 0.7900\n",
            "epoch = 44; loss_train = 0.2893; loss_val = 0.4762; acc_train = 0.9300; acc_val = 0.7350\n",
            "epoch = 45; loss_train = 0.3363; loss_val = 0.4678; acc_train = 0.7850; acc_val = 0.7900\n",
            "epoch = 46; loss_train = 0.2690; loss_val = 0.4692; acc_train = 0.9233; acc_val = 0.7600\n",
            "epoch = 47; loss_train = 0.2611; loss_val = 0.5817; acc_train = 0.9383; acc_val = 0.7500\n",
            "epoch = 48; loss_train = 0.3282; loss_val = 0.4966; acc_train = 0.7883; acc_val = 0.7700\n",
            "epoch = 49; loss_train = 0.2298; loss_val = 0.4309; acc_train = 0.9450; acc_val = 0.7750\n",
            "epoch = 50; loss_train = 0.6381; loss_val = 0.5165; acc_train = 0.7483; acc_val = 0.6700\n",
            "epoch = 51; loss_train = 0.2447; loss_val = 0.4429; acc_train = 0.8950; acc_val = 0.7800\n",
            "epoch = 52; loss_train = 0.2100; loss_val = 0.4571; acc_train = 0.9583; acc_val = 0.7750\n",
            "epoch = 53; loss_train = 0.1944; loss_val = 0.4790; acc_train = 0.9567; acc_val = 0.7500\n",
            "epoch = 54; loss_train = 0.2470; loss_val = 0.8884; acc_train = 0.9450; acc_val = 0.6950\n",
            "epoch = 55; loss_train = 0.2953; loss_val = 0.4598; acc_train = 0.7883; acc_val = 0.7900\n",
            "epoch = 56; loss_train = 0.2081; loss_val = 0.4335; acc_train = 0.9617; acc_val = 0.7850\n",
            "epoch = 57; loss_train = 0.1739; loss_val = 0.4104; acc_train = 0.9567; acc_val = 0.7850\n",
            "epoch = 58; loss_train = 0.4157; loss_val = 0.5332; acc_train = 0.7750; acc_val = 0.6600\n",
            "epoch = 59; loss_train = 0.2078; loss_val = 0.4322; acc_train = 0.8750; acc_val = 0.7900\n",
            "epoch = 60; loss_train = 0.2087; loss_val = 0.5513; acc_train = 0.9600; acc_val = 0.7450\n",
            "epoch = 61; loss_train = 0.7767; loss_val = 1.9133; acc_train = 0.8917; acc_val = 0.5400\n",
            "epoch = 62; loss_train = 0.1979; loss_val = 0.4443; acc_train = 0.8850; acc_val = 0.7700\n",
            "epoch = 63; loss_train = 0.1485; loss_val = 0.4255; acc_train = 0.9750; acc_val = 0.7800\n",
            "epoch = 64; loss_train = 0.1276; loss_val = 0.4480; acc_train = 0.9783; acc_val = 0.7800\n",
            "epoch = 65; loss_train = 0.1112; loss_val = 0.4249; acc_train = 0.9900; acc_val = 0.7800\n",
            "epoch = 66; loss_train = 0.1009; loss_val = 0.4353; acc_train = 0.9867; acc_val = 0.7850\n",
            "epoch = 67; loss_train = 0.0906; loss_val = 0.4595; acc_train = 0.9883; acc_val = 0.7750\n",
            "epoch = 68; loss_train = 0.0818; loss_val = 0.4601; acc_train = 0.9883; acc_val = 0.7650\n",
            "epoch = 69; loss_train = 0.0776; loss_val = 0.4349; acc_train = 0.9933; acc_val = 0.7950\n",
            "epoch = 70; loss_train = 0.0704; loss_val = 0.4269; acc_train = 0.9933; acc_val = 0.7900\n",
            "epoch = 71; loss_train = 0.0671; loss_val = 0.4809; acc_train = 0.9933; acc_val = 0.7700\n",
            "epoch = 72; loss_train = 0.0668; loss_val = 0.4573; acc_train = 0.9967; acc_val = 0.7850\n",
            "epoch = 73; loss_train = 0.0533; loss_val = 0.4388; acc_train = 0.9967; acc_val = 0.7800\n",
            "epoch = 74; loss_train = 0.0489; loss_val = 0.4115; acc_train = 0.9983; acc_val = 0.7600\n",
            "epoch = 75; loss_train = 0.0500; loss_val = 0.4455; acc_train = 0.9967; acc_val = 0.7950\n",
            "epoch = 76; loss_train = 0.0498; loss_val = 0.4686; acc_train = 1.0000; acc_val = 0.7900\n",
            "epoch = 77; loss_train = 0.0442; loss_val = 0.4311; acc_train = 0.9983; acc_val = 0.7600\n",
            "epoch = 78; loss_train = 0.0384; loss_val = 0.4318; acc_train = 1.0000; acc_val = 0.7600\n",
            "epoch = 79; loss_train = 0.0392; loss_val = 0.4448; acc_train = 1.0000; acc_val = 0.7650\n",
            "epoch = 80; loss_train = 0.0355; loss_val = 0.4389; acc_train = 1.0000; acc_val = 0.7600\n",
            "epoch = 81; loss_train = 0.0291; loss_val = 0.4312; acc_train = 1.0000; acc_val = 0.7650\n",
            "epoch = 82; loss_train = 0.0290; loss_val = 0.4426; acc_train = 1.0000; acc_val = 0.7600\n",
            "epoch = 83; loss_train = 0.0292; loss_val = 0.4673; acc_train = 1.0000; acc_val = 0.7750\n",
            "epoch = 84; loss_train = 0.0270; loss_val = 0.4495; acc_train = 1.0000; acc_val = 0.7650\n",
            "epoch = 85; loss_train = 0.0218; loss_val = 0.4508; acc_train = 1.0000; acc_val = 0.7700\n",
            "epoch = 86; loss_train = 0.0209; loss_val = 0.4506; acc_train = 1.0000; acc_val = 0.7700\n",
            "epoch = 87; loss_train = 0.0184; loss_val = 0.4459; acc_train = 1.0000; acc_val = 0.7700\n",
            "epoch = 88; loss_train = 0.0212; loss_val = 0.4509; acc_train = 1.0000; acc_val = 0.7700\n",
            "epoch = 89; loss_train = 0.0183; loss_val = 0.4505; acc_train = 1.0000; acc_val = 0.7700\n",
            "epoch = 90; loss_train = 0.0202; loss_val = 0.4634; acc_train = 1.0000; acc_val = 0.7800\n",
            "epoch = 91; loss_train = 0.0166; loss_val = 0.4573; acc_train = 1.0000; acc_val = 0.7700\n",
            "epoch = 92; loss_train = 0.0171; loss_val = 0.4592; acc_train = 1.0000; acc_val = 0.7750\n",
            "epoch = 93; loss_train = 0.0183; loss_val = 0.4650; acc_train = 1.0000; acc_val = 0.7700\n",
            "epoch = 94; loss_train = 0.0156; loss_val = 0.4605; acc_train = 1.0000; acc_val = 0.7650\n",
            "epoch = 95; loss_train = 0.0148; loss_val = 0.4651; acc_train = 1.0000; acc_val = 0.7750\n",
            "epoch = 96; loss_train = 0.0155; loss_val = 0.4647; acc_train = 1.0000; acc_val = 0.7550\n",
            "epoch = 97; loss_train = 0.0149; loss_val = 0.4715; acc_train = 1.0000; acc_val = 0.7700\n",
            "epoch = 98; loss_train = 0.0149; loss_val = 0.4714; acc_train = 1.0000; acc_val = 0.7750\n",
            "epoch = 99; loss_train = 0.0127; loss_val = 0.4693; acc_train = 1.0000; acc_val = 0.7700\n"
          ],
          "name": "stdout"
        }
      ]
    },
    {
      "cell_type": "markdown",
      "metadata": {
        "id": "v6aK9evCbmB2",
        "colab_type": "text"
      },
      "source": [
        "## 5. Training evaluation\n",
        "\n",
        "- metrics:\n",
        "  - accuracy\n",
        "  - confusion matrix\n",
        "  - others"
      ]
    },
    {
      "cell_type": "markdown",
      "metadata": {
        "id": "l0gce53NhzuH",
        "colab_type": "text"
      },
      "source": [
        "### 5.1 Training Loss"
      ]
    },
    {
      "cell_type": "code",
      "metadata": {
        "id": "aIey4Ob7r3kn",
        "colab_type": "code",
        "outputId": "3e613e60-de24-4677-886c-02971aa9288a",
        "colab": {
          "base_uri": "https://localhost:8080/",
          "height": 295
        }
      },
      "source": [
        "# plot training loss\n",
        "plt.plot(loss_his, label='training loss', color='blue')\n",
        "#-------------------------------------------------\n",
        "# axis label\n",
        "plt.xlabel('Epochs')\n",
        "plt.ylabel('CE Loss')\n",
        "# title\n",
        "plt.title('Training loss')\n",
        "#-------------------------------------------------\n",
        "plt.autoscale(axis='x', tight=True) # axis adjust\n",
        "plt.grid(True) # add grid\n",
        "#plt.legend() # add legend\n",
        "plt.show()"
      ],
      "execution_count": 22,
      "outputs": [
        {
          "output_type": "display_data",
          "data": {
            "image/png": "[encoded data removed]",
            "text/plain": [
              "<Figure size 432x288 with 1 Axes>"
            ]
          },
          "metadata": {
            "tags": []
          }
        }
      ]
    },
    {
      "cell_type": "markdown",
      "metadata": {
        "id": "F-PIiPLehyNG",
        "colab_type": "text"
      },
      "source": [
        "### 5.2 Validation Loss"
      ]
    },
    {
      "cell_type": "code",
      "metadata": {
        "id": "4XjpUYdOhwEx",
        "colab_type": "code",
        "outputId": "11459df3-be77-4404-9337-27908ba0ef2d",
        "colab": {
          "base_uri": "https://localhost:8080/",
          "height": 295
        }
      },
      "source": [
        "# plot validation loss\n",
        "plt.plot(loss_val_his, label='validation loss', color='red')\n",
        "#-------------------------------------------------\n",
        "# axis label\n",
        "plt.xlabel('Epochs')\n",
        "plt.ylabel('CE Loss')\n",
        "# title\n",
        "plt.title('Validation loss')\n",
        "#-------------------------------------------------\n",
        "plt.autoscale(axis='x', tight=True) # axis adjust\n",
        "plt.grid(True) # add grid\n",
        "#plt.legend() # add legend\n",
        "plt.show()"
      ],
      "execution_count": 23,
      "outputs": [
        {
          "output_type": "display_data",
          "data": {
            "image/png": "[encoded data removed]",
            "text/plain": [
              "<Figure size 432x288 with 1 Axes>"
            ]
          },
          "metadata": {
            "tags": []
          }
        }
      ]
    },
    {
      "cell_type": "markdown",
      "metadata": {
        "id": "thGUnNmdiqa6",
        "colab_type": "text"
      },
      "source": [
        "### 5.3 Zoom at the minimum of CE loss curve"
      ]
    },
    {
      "cell_type": "code",
      "metadata": {
        "id": "zP5L2Gk4iraH",
        "colab_type": "code",
        "outputId": "7ce5c8a4-9de8-48f0-a434-565813ff1273",
        "colab": {
          "base_uri": "https://localhost:8080/",
          "height": 314
        }
      },
      "source": [
        "BEST_EPOCH = loss_val_his.index(min(loss_val_his)) + 1\n",
        "print('Epoch with minimum validation loss =', BEST_EPOCH)\n",
        "#-------------------------------------------------\n",
        "# plots\n",
        "plt.plot(range(max(1,BEST_EPOCH-2),min(EPOCH,BEST_EPOCH+3)), loss_val_his[max(1,BEST_EPOCH-3):min(EPOCH-1,BEST_EPOCH+2)], 'green')\n",
        "plt.xlabel('Epochs')\n",
        "plt.ylabel('CE loss')\n",
        "plt.autoscale(axis='x', tight=True)\n",
        "plt.title('Progression of validation loss acording to epochs')\n",
        "plt.grid(True)\n",
        "plt.show()"
      ],
      "execution_count": 24,
      "outputs": [
        {
          "output_type": "stream",
          "text": [
            "Epoch with minimum validation loss = 58\n"
          ],
          "name": "stdout"
        },
        {
          "output_type": "display_data",
          "data": {
            "image/png": "[encoded data removed]",
            "text/plain": [
              "<Figure size 432x288 with 1 Axes>"
            ]
          },
          "metadata": {
            "tags": []
          }
        }
      ]
    },
    {
      "cell_type": "markdown",
      "metadata": {
        "id": "_8Xzipr2B9to",
        "colab_type": "text"
      },
      "source": [
        "### 5.4 Print the final values of the main training monitoring variables:\n",
        "- loss function final value:\n",
        "- metrics final values:"
      ]
    },
    {
      "cell_type": "code",
      "metadata": {
        "id": "VEVVlMqVs69I",
        "colab_type": "code",
        "outputId": "b827baf1-1fbc-48c5-edc1-2cfc196b6013",
        "colab": {
          "base_uri": "https://localhost:8080/",
          "height": 114
        }
      },
      "source": [
        "print('last training loss = {0:.4f}'.format(loss_his[-1]))\n",
        "print('last validation loss = {0:.4f}'.format(loss_val_his[-1]))\n",
        "#-------------------------------------------------\n",
        "print('#-------------------------------------------------')\n",
        "print('last train accuracy = {0:.4f}'.format(acc_train.item()))\n",
        "print('last validation accuracy = {0:.4f}'.format(acc_val.item()))"
      ],
      "execution_count": 25,
      "outputs": [
        {
          "output_type": "stream",
          "text": [
            "last training loss = 0.0127\n",
            "last validation loss = 0.4693\n",
            "#-------------------------------------------------\n",
            "last train accuracy = 1.0000\n",
            "last validation accuracy = 0.7700\n"
          ],
          "name": "stdout"
        }
      ]
    },
    {
      "cell_type": "markdown",
      "metadata": {
        "id": "TMf_MmZ5qcCg",
        "colab_type": "text"
      },
      "source": [
        "## 6. Final training"
      ]
    },
    {
      "cell_type": "code",
      "metadata": {
        "id": "dBNqh-1ToAg1",
        "colab_type": "code",
        "colab": {
          "base_uri": "https://localhost:8080/",
          "height": 36
        },
        "outputId": "fd919e62-f850-4e41-bd9f-4550d028e18e"
      },
      "source": [
        "print('Train until epoch:', BEST_EPOCH)"
      ],
      "execution_count": 26,
      "outputs": [
        {
          "output_type": "stream",
          "text": [
            "Train until epoch: 58\n"
          ],
          "name": "stdout"
        }
      ]
    },
    {
      "cell_type": "markdown",
      "metadata": {
        "id": "fxGG0Lq3hQ31",
        "colab_type": "text"
      },
      "source": [
        "### 6.1 Merge training and validation datasets"
      ]
    },
    {
      "cell_type": "code",
      "metadata": {
        "id": "O-4BWI8_lUsC",
        "colab_type": "code",
        "colab": {}
      },
      "source": [
        "ds_final = ds_train + ds_val"
      ],
      "execution_count": 0,
      "outputs": []
    },
    {
      "cell_type": "markdown",
      "metadata": {
        "id": "IIE9VM5vlkfl",
        "colab_type": "text"
      },
      "source": [
        "### 6.2 PyTorch DataLoader"
      ]
    },
    {
      "cell_type": "code",
      "metadata": {
        "id": "vceLOPgqlvN-",
        "colab_type": "code",
        "colab": {}
      },
      "source": [
        "dl_final  = torch.utils.data.DataLoader(\n",
        "            dataset = ds_final,\n",
        "            drop_last = False,\n",
        "            shuffle = False,\n",
        "            batch_size = BATCH_SIZE_TRAIN)"
      ],
      "execution_count": 0,
      "outputs": []
    },
    {
      "cell_type": "markdown",
      "metadata": {
        "id": "DZWpECdAhYtp",
        "colab_type": "text"
      },
      "source": [
        "### 6.2 Early stopping"
      ]
    },
    {
      "cell_type": "code",
      "metadata": {
        "id": "XwKEXJfOhrDN",
        "colab_type": "code",
        "colab": {
          "base_uri": "https://localhost:8080/",
          "height": 1000
        },
        "outputId": "0211c8a1-58a5-4c9d-d5cf-2e407cb833ec"
      },
      "source": [
        "loss_final = []\n",
        "N_SAMPLES = len(ds_train)\n",
        "for epoch in range(BEST_EPOCH):\n",
        "    print('epoch =', epoch, end='; ')\n",
        "    #-------------------------------------------------\n",
        "    # training mode\n",
        "    #-------------------\n",
        "    model.train()\n",
        "    score_final = 0.\n",
        "    for b_i, (b_x, b_y) in enumerate(dl_final):\n",
        "        b_x, b_y = b_x.to(device), b_y.to(device)\n",
        "        y_logitos = model(b_x)\n",
        "        loss = loss_func(y_logitos, b_y)\n",
        "        opt.zero_grad()                 # clear gradients for next train\n",
        "        loss.backward()                 # backpropagation, compute gradients\n",
        "        opt.step()                      # apply gradients\n",
        "        #-------------------\n",
        "        y_pred = torch.argmax(y_logitos, dim=1)\n",
        "        score_final += (b_y == y_pred).sum()\n",
        "    acc_final = score_final / N_SAMPLES\n",
        "    loss_final.append(loss.item())            # trainint loss history\n",
        "    acc_final = score_final / len(ds_final)\n",
        "    #-------------------------------------------------\n",
        "    print('loss_final = {0:.4f}'.format(loss_final[-1]), end='; ')\n",
        "    print('acc_final = {0:.4f}'.format(acc_final), end='\\n')"
      ],
      "execution_count": 29,
      "outputs": [
        {
          "output_type": "stream",
          "text": [
            "epoch = 0; loss_final = 0.5341; acc_final = 0.9387\n",
            "epoch = 1; loss_final = 0.6176; acc_final = 0.7462\n",
            "epoch = 2; loss_final = 0.3925; acc_final = 0.8450\n",
            "epoch = 3; loss_final = 0.4924; acc_final = 0.8438\n",
            "epoch = 4; loss_final = 0.3775; acc_final = 0.8413\n",
            "epoch = 5; loss_final = 0.5827; acc_final = 0.8375\n",
            "epoch = 6; loss_final = 0.3001; acc_final = 0.8850\n",
            "epoch = 7; loss_final = 0.3618; acc_final = 0.8462\n",
            "epoch = 8; loss_final = 0.2797; acc_final = 0.9688\n",
            "epoch = 9; loss_final = 0.3688; acc_final = 0.8425\n",
            "epoch = 10; loss_final = 0.5641; acc_final = 0.9450\n",
            "epoch = 11; loss_final = 0.3811; acc_final = 0.8650\n",
            "epoch = 12; loss_final = 0.4414; acc_final = 0.8462\n",
            "epoch = 13; loss_final = 0.2466; acc_final = 0.9162\n",
            "epoch = 14; loss_final = 0.1703; acc_final = 0.9862\n",
            "epoch = 15; loss_final = 0.1548; acc_final = 0.9850\n",
            "epoch = 16; loss_final = 0.2627; acc_final = 0.9800\n",
            "epoch = 17; loss_final = 0.3193; acc_final = 0.8175\n",
            "epoch = 18; loss_final = 0.2074; acc_final = 0.9712\n",
            "epoch = 19; loss_final = 1.4817; acc_final = 0.9025\n",
            "epoch = 20; loss_final = 0.1974; acc_final = 0.8900\n",
            "epoch = 21; loss_final = 1.3049; acc_final = 0.9262\n",
            "epoch = 22; loss_final = 0.1969; acc_final = 0.9262\n",
            "epoch = 23; loss_final = 0.1512; acc_final = 0.9937\n",
            "epoch = 24; loss_final = 3.0010; acc_final = 0.8737\n",
            "epoch = 25; loss_final = 0.1852; acc_final = 0.9912\n",
            "epoch = 26; loss_final = 0.1508; acc_final = 0.9925\n",
            "epoch = 27; loss_final = 0.1415; acc_final = 0.9900\n",
            "epoch = 28; loss_final = 0.1398; acc_final = 0.9900\n",
            "epoch = 29; loss_final = 0.1995; acc_final = 0.8287\n",
            "epoch = 30; loss_final = 0.1249; acc_final = 0.9912\n",
            "epoch = 31; loss_final = 0.0930; acc_final = 0.9950\n",
            "epoch = 32; loss_final = 0.0742; acc_final = 0.9975\n",
            "epoch = 33; loss_final = 0.0680; acc_final = 0.9962\n",
            "epoch = 34; loss_final = 0.0620; acc_final = 0.9975\n",
            "epoch = 35; loss_final = 0.0546; acc_final = 0.9987\n",
            "epoch = 36; loss_final = 0.0536; acc_final = 0.9987\n",
            "epoch = 37; loss_final = 0.0435; acc_final = 0.9987\n",
            "epoch = 38; loss_final = 0.0407; acc_final = 0.9987\n",
            "epoch = 39; loss_final = 0.0416; acc_final = 0.9987\n",
            "epoch = 40; loss_final = 0.0317; acc_final = 0.9987\n",
            "epoch = 41; loss_final = 0.0318; acc_final = 1.0000\n",
            "epoch = 42; loss_final = 0.0287; acc_final = 1.0000\n",
            "epoch = 43; loss_final = 0.0270; acc_final = 1.0000\n",
            "epoch = 44; loss_final = 0.0250; acc_final = 1.0000\n",
            "epoch = 45; loss_final = 0.0301; acc_final = 1.0000\n",
            "epoch = 46; loss_final = 0.0279; acc_final = 1.0000\n",
            "epoch = 47; loss_final = 0.0218; acc_final = 1.0000\n",
            "epoch = 48; loss_final = 0.0189; acc_final = 1.0000\n",
            "epoch = 49; loss_final = 0.0165; acc_final = 1.0000\n",
            "epoch = 50; loss_final = 0.0170; acc_final = 1.0000\n",
            "epoch = 51; loss_final = 0.0163; acc_final = 1.0000\n",
            "epoch = 52; loss_final = 0.0184; acc_final = 1.0000\n",
            "epoch = 53; loss_final = 0.0177; acc_final = 1.0000\n",
            "epoch = 54; loss_final = 0.0152; acc_final = 1.0000\n",
            "epoch = 55; loss_final = 0.0141; acc_final = 1.0000\n",
            "epoch = 56; loss_final = 0.0140; acc_final = 1.0000\n",
            "epoch = 57; loss_final = 0.0148; acc_final = 1.0000\n"
          ],
          "name": "stdout"
        }
      ]
    },
    {
      "cell_type": "markdown",
      "metadata": {
        "id": "XKTY_W1wkXch",
        "colab_type": "text"
      },
      "source": [
        "## 7. Metrics on test set"
      ]
    },
    {
      "cell_type": "markdown",
      "metadata": {
        "id": "vvPMDpb8n32I",
        "colab_type": "text"
      },
      "source": [
        "### 7.1 Accuracy"
      ]
    },
    {
      "cell_type": "code",
      "metadata": {
        "id": "qJiD5v3Ir703",
        "colab_type": "code",
        "colab": {
          "base_uri": "https://localhost:8080/",
          "height": 153
        },
        "outputId": "c286d0c4-8bc3-42fd-c9a6-3b4f28901075"
      },
      "source": [
        "# load model in CPU\n",
        "model.to('cpu');\n",
        "# evaluation mode\n",
        "model.eval()"
      ],
      "execution_count": 30,
      "outputs": [
        {
          "output_type": "execute_result",
          "data": {
            "text/plain": [
              "NN(\n",
              "  (L1): Linear(in_features=18668, out_features=10000, bias=True)\n",
              "  (L1D): Dropout(p=0.5, inplace=False)\n",
              "  (L2): Linear(in_features=10000, out_features=1000, bias=True)\n",
              "  (L2D): Dropout(p=0.5, inplace=False)\n",
              "  (L3): Linear(in_features=1000, out_features=2, bias=True)\n",
              ")"
            ]
          },
          "metadata": {
            "tags": []
          },
          "execution_count": 30
        }
      ]
    },
    {
      "cell_type": "code",
      "metadata": {
        "id": "4TuQISj8rUiG",
        "colab_type": "code",
        "colab": {}
      },
      "source": [
        "# y_true\n",
        "y_true = ds_test[:][1]"
      ],
      "execution_count": 0,
      "outputs": []
    },
    {
      "cell_type": "code",
      "metadata": {
        "id": "6wXUcabMkQZE",
        "colab_type": "code",
        "colab": {}
      },
      "source": [
        "# y_pred\n",
        "score = 0.\n",
        "y_logitos = model(ds_test[:][0])\n",
        "y_pred = torch.argmax(y_logitos, dim=1)"
      ],
      "execution_count": 0,
      "outputs": []
    },
    {
      "cell_type": "code",
      "metadata": {
        "id": "8w3ttQcyrXSw",
        "colab_type": "code",
        "colab": {
          "base_uri": "https://localhost:8080/",
          "height": 36
        },
        "outputId": "38d37425-84bd-46df-a382-24433cdde7bc"
      },
      "source": [
        "# accuracy\n",
        "score += (y_true == y_pred).sum()\n",
        "acc_test = score / len(ds_test[:][0])\n",
        "acc_test.item()"
      ],
      "execution_count": 33,
      "outputs": [
        {
          "output_type": "execute_result",
          "data": {
            "text/plain": [
              "0.8149999976158142"
            ]
          },
          "metadata": {
            "tags": []
          },
          "execution_count": 33
        }
      ]
    },
    {
      "cell_type": "markdown",
      "metadata": {
        "id": "-20zJRKVn8tn",
        "colab_type": "text"
      },
      "source": [
        "### 7.2 Confusion matrix"
      ]
    },
    {
      "cell_type": "code",
      "metadata": {
        "id": "i9qPaBp7rF-R",
        "colab_type": "code",
        "colab": {}
      },
      "source": [
        "cm = confusion_matrix(y_true, y_pred)\n",
        "classes = enc.get_feature_names()"
      ],
      "execution_count": 0,
      "outputs": []
    },
    {
      "cell_type": "code",
      "metadata": {
        "id": "9v4ZvKB5nJ5J",
        "colab_type": "code",
        "colab": {
          "base_uri": "https://localhost:8080/",
          "height": 282
        },
        "outputId": "56bf8d78-5315-4e7c-8ae3-8f8377f2e9e8"
      },
      "source": [
        "# CM raw\n",
        "cm_raw = print_confusion_matrix(cm, classes, title='Confusion Matrix', normalize=False, cmap=plt.cm.Blues, fontsize=10, figsize = (5,3))"
      ],
      "execution_count": 35,
      "outputs": [
        {
          "output_type": "display_data",
          "data": {
            "image/png": "[encoded data removed]",
            "text/plain": [
              "<Figure size 360x216 with 2 Axes>"
            ]
          },
          "metadata": {
            "tags": []
          }
        }
      ]
    },
    {
      "cell_type": "code",
      "metadata": {
        "id": "93uNywPSnwnJ",
        "colab_type": "code",
        "colab": {
          "base_uri": "https://localhost:8080/",
          "height": 282
        },
        "outputId": "1a70475b-3811-4a1d-a52e-09dc501e6e14"
      },
      "source": [
        "# CM normalized\n",
        "cm_norm = print_confusion_matrix(cm, classes, title='Confusion Matrix normalized', normalize=True, cmap=plt.cm.Blues, fontsize=10, figsize = (5,3))"
      ],
      "execution_count": 36,
      "outputs": [
        {
          "output_type": "display_data",
          "data": {
            "image/png": "[encoded data removed]",
            "text/plain": [
              "<Figure size 360x216 with 2 Axes>"
            ]
          },
          "metadata": {
            "tags": []
          }
        }
      ]
    },
    {
      "cell_type": "markdown",
      "metadata": {
        "id": "I_SzvT7Tn1mx",
        "colab_type": "text"
      },
      "source": [
        "### 7.3 F1-score (macro, micro and weighted)"
      ]
    },
    {
      "cell_type": "code",
      "metadata": {
        "id": "PdsW-lsg52tF",
        "colab_type": "code",
        "colab": {}
      },
      "source": [
        "macro = f1_score(y_true, y_pred, average='macro')\n",
        "micro = f1_score(y_true, y_pred, average='micro')\n",
        "weighted = f1_score(y_true, y_pred, average='weighted')"
      ],
      "execution_count": 0,
      "outputs": []
    },
    {
      "cell_type": "code",
      "metadata": {
        "id": "AWnLOjG50mZ2",
        "colab_type": "code",
        "outputId": "b268a99a-2401-402c-f84e-59e27aef0df5",
        "colab": {
          "base_uri": "https://localhost:8080/",
          "height": 75
        }
      },
      "source": [
        "print('F1-score macro =', macro)\n",
        "print('F1-score micro =', micro)\n",
        "print('F1-score weighted =', weighted)"
      ],
      "execution_count": 38,
      "outputs": [
        {
          "output_type": "stream",
          "text": [
            "F1-score macro = 0.813953488372093\n",
            "F1-score micro = 0.815\n",
            "F1-score weighted = 0.8150697674418604\n"
          ],
          "name": "stdout"
        }
      ]
    },
    {
      "cell_type": "markdown",
      "metadata": {
        "id": "o-ZMZrl5LT07",
        "colab_type": "text"
      },
      "source": [
        "### 7.4 Accuracy and Precision"
      ]
    },
    {
      "cell_type": "code",
      "metadata": {
        "id": "kC6rLq1RJTvf",
        "colab_type": "code",
        "colab": {}
      },
      "source": [
        "acc = accuracy_score(y_true, y_pred)\n",
        "prec = precision_score(y_true, y_pred, average='macro')"
      ],
      "execution_count": 0,
      "outputs": []
    },
    {
      "cell_type": "code",
      "metadata": {
        "id": "r1ZSEi0_LPoV",
        "colab_type": "code",
        "outputId": "cecabcde-86e9-4fde-eafd-7151b2cb2090",
        "colab": {
          "base_uri": "https://localhost:8080/",
          "height": 56
        }
      },
      "source": [
        "print('Accuracy score = ', acc, sep='')\n",
        "print('Precision score = ', prec, sep='')"
      ],
      "execution_count": 40,
      "outputs": [
        {
          "output_type": "stream",
          "text": [
            "Accuracy score = 0.815\n",
            "Precision score = 0.8137373128328811\n"
          ],
          "name": "stdout"
        }
      ]
    },
    {
      "cell_type": "markdown",
      "metadata": {
        "id": "q45GvKDwPbri",
        "colab_type": "text"
      },
      "source": [
        "### 7.5 Precision, Recall and F1-Score for each class"
      ]
    },
    {
      "cell_type": "code",
      "metadata": {
        "id": "XKyQhAEbPcAz",
        "colab_type": "code",
        "outputId": "c6946aad-7af6-466d-efde-b0ec50ac8233",
        "colab": {
          "base_uri": "https://localhost:8080/",
          "height": 191
        }
      },
      "source": [
        "from sklearn.metrics import classification_report as cr\n",
        "print(cr(y_true, y_pred))"
      ],
      "execution_count": 41,
      "outputs": [
        {
          "output_type": "stream",
          "text": [
            "              precision    recall  f1-score   support\n",
            "\n",
            "           0       0.83      0.82      0.83       108\n",
            "           1       0.80      0.80      0.80        92\n",
            "\n",
            "    accuracy                           0.81       200\n",
            "   macro avg       0.81      0.81      0.81       200\n",
            "weighted avg       0.82      0.81      0.82       200\n",
            "\n"
          ],
          "name": "stdout"
        }
      ]
    },
    {
      "cell_type": "markdown",
      "metadata": {
        "id": "zJyhNSYht4vz",
        "colab_type": "text"
      },
      "source": [
        "## End of the notebook"
      ]
    }
  ]
}