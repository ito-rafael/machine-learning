{
  "nbformat": 4,
  "nbformat_minor": 0,
  "metadata": {
    "colab": {
      "name": "IMDb - Sentiment analysis with  (Rafael Ito).ipynb",
      "provenance": [],
      "collapsed_sections": [],
      "toc_visible": true
    },
    "kernelspec": {
      "name": "python3",
      "display_name": "Python 3"
    },
    "accelerator": "GPU"
  },
  "cells": [
    {
      "cell_type": "markdown",
      "metadata": {
        "id": "aibQMqn3rEp8",
        "colab_type": "text"
      },
      "source": [
        "# Sentiment analysis"
      ]
    },
    {
      "cell_type": "markdown",
      "metadata": {
        "id": "399F2GKforfi",
        "colab_type": "text"
      },
      "source": [
        "Author: **Rafael Ito**  \n",
        "e-mail: ito.rafael@gmail.com"
      ]
    },
    {
      "cell_type": "markdown",
      "metadata": {
        "id": "eV7swfVuBvgm",
        "colab_type": "text"
      },
      "source": [
        "## 0. Dataset and Description\n",
        "\n",
        "**Name:**  IMDb  \n",
        "**Description:** this notebook uses the IMDb dataset which contains movie reviews classified as either positive or negative review. The aim is to perform a supervised learning for sentiment classification using as features either TF-IDF representationr or word embeddings using GloVe."
      ]
    },
    {
      "cell_type": "markdown",
      "metadata": {
        "id": "ZnLtgkmhr0y0",
        "colab_type": "text"
      },
      "source": [
        "## 1. Libraries and packages"
      ]
    },
    {
      "cell_type": "markdown",
      "metadata": {
        "id": "wF94hPU1HWt9",
        "colab_type": "text"
      },
      "source": [
        "### 1.1 Install packages"
      ]
    },
    {
      "cell_type": "code",
      "metadata": {
        "id": "44YWHZaqwDo4",
        "colab_type": "code",
        "colab": {}
      },
      "source": [
        "!pip install -q \\\n",
        "    numpy       \\\n",
        "    torch       \\\n",
        "    sklearn     \\\n",
        "    skorch      \\\n",
        "    matplotlib  "
      ],
      "execution_count": 0,
      "outputs": []
    },
    {
      "cell_type": "markdown",
      "metadata": {
        "id": "F-lNBFD0HcPb",
        "colab_type": "text"
      },
      "source": [
        "### 1.2 Import libraries"
      ]
    },
    {
      "cell_type": "code",
      "metadata": {
        "id": "XYPw4vBWq_nd",
        "colab_type": "code",
        "colab": {
          "base_uri": "https://localhost:8080/",
          "height": 79
        },
        "outputId": "aaa98d03-2b47-4142-b05d-96aa6b2420e7"
      },
      "source": [
        "#-------------------------------------------------\n",
        "# general\n",
        "#-------------------\n",
        "import numpy as np\n",
        "import pandas as pd\n",
        "import nltk\n",
        "import re\n",
        "#-------------------------------------------------\n",
        "# PyTorch\n",
        "#-------------------\n",
        "import torch\n",
        "from torch.utils.data import TensorDataset\n",
        "from torchtext.vocab import GloVe\n",
        "import torch.nn.functional as F\n",
        "#-------------------------------------------------\n",
        "# skorch\n",
        "#-------------------\n",
        "#from skorch import NeuralNetClassifier\n",
        "#-------------------------------------------------\n",
        "# scikit-learn\n",
        "#-------------------\n",
        "from sklearn.feature_extraction.text import TfidfVectorizer\n",
        "from sklearn.preprocessing import OneHotEncoder\n",
        "# metrics\n",
        "from sklearn.metrics import confusion_matrix\n",
        "from sklearn.metrics import accuracy_score\n",
        "from sklearn.metrics import precision_score\n",
        "from sklearn.metrics import f1_score\n",
        "#-------------------------------------------------\n",
        "# data visualization\n",
        "#-------------------\n",
        "import matplotlib.pyplot as plt\n",
        "import seaborn as sns\n",
        "#-------------------------------------------------\n",
        "# additional config\n",
        "#-------------------\n",
        "# random seed generator\n",
        "torch.manual_seed(42);"
      ],
      "execution_count": 2,
      "outputs": [
        {
          "output_type": "stream",
          "text": [
            "/usr/local/lib/python3.6/dist-packages/statsmodels/tools/_testing.py:19: FutureWarning: pandas.util.testing is deprecated. Use the functions in the public API at pandas.testing instead.\n",
            "  import pandas.util.testing as tm\n"
          ],
          "name": "stderr"
        }
      ]
    },
    {
      "cell_type": "markdown",
      "metadata": {
        "id": "Rmn8887vHg2C",
        "colab_type": "text"
      },
      "source": [
        "### 1.3 Check device"
      ]
    },
    {
      "cell_type": "code",
      "metadata": {
        "id": "YXc7eeN9HjNh",
        "colab_type": "code",
        "outputId": "554510e0-48f7-4b39-c8f7-c78bae0f6716",
        "colab": {
          "base_uri": "https://localhost:8080/",
          "height": 38
        }
      },
      "source": [
        "device = torch.device('cpu')\n",
        "if torch.cuda.is_available():\n",
        "    device = torch.device('cuda')\n",
        "print('Device:', device)"
      ],
      "execution_count": 3,
      "outputs": [
        {
          "output_type": "stream",
          "text": [
            "Device: cuda\n"
          ],
          "name": "stdout"
        }
      ]
    },
    {
      "cell_type": "markdown",
      "metadata": {
        "id": "Fb_hxbel26WM",
        "colab_type": "text"
      },
      "source": [
        "### 1.4 Constants definition"
      ]
    },
    {
      "cell_type": "code",
      "metadata": {
        "id": "pf3IfhKW2474",
        "colab_type": "code",
        "colab": {}
      },
      "source": [
        "# choose if the features to be used will be TF-IDF or word embeddings\n",
        "TFIDF = True\n",
        "#TFIDF = False\n",
        "#-------------------\n",
        "# define the size of embeddings (options: 50, 100, 200, 300)\n",
        "EMBEDDING_DIM = 300"
      ],
      "execution_count": 0,
      "outputs": []
    },
    {
      "cell_type": "markdown",
      "metadata": {
        "id": "g8cTjVNEoJkJ",
        "colab_type": "text"
      },
      "source": [
        "## 2. Custom functions and classes"
      ]
    },
    {
      "cell_type": "markdown",
      "metadata": {
        "id": "P9DFW3xLoWD4",
        "colab_type": "text"
      },
      "source": [
        "### 2.1 Functions"
      ]
    },
    {
      "cell_type": "markdown",
      "metadata": {
        "id": "GeSe31BerbWp",
        "colab_type": "text"
      },
      "source": [
        "Function that calculates the number of parameters of a network"
      ]
    },
    {
      "cell_type": "code",
      "metadata": {
        "id": "K1jFrB_fs9E-",
        "colab_type": "code",
        "colab": {}
      },
      "source": [
        "'''\n",
        "description:\n",
        "    - given a model, this function returns its number of parameters (weight, bias)\n",
        "#-------------------\n",
        "positional args:\n",
        "    - model [torch.nn.Module]: instance of the network\n",
        "optional args:\n",
        "    - verbose (default=False) [bool]: if True, print a report with the parameters of each layer\n",
        "#-------------------\n",
        "return:\n",
        "    - [int] total parameters of the network\n",
        "''';"
      ],
      "execution_count": 0,
      "outputs": []
    },
    {
      "cell_type": "code",
      "metadata": {
        "id": "-1XBjqgNritp",
        "colab_type": "code",
        "colab": {}
      },
      "source": [
        "def nparam(model, verbose=False):\n",
        "    if(verbose):\n",
        "        i = 0\n",
        "        total = 0\n",
        "        for name, param in model.named_parameters():\n",
        "            if (param.requires_grad):\n",
        "                #print('layer ', i, ' name: ', name)\n",
        "                j = 1\n",
        "                for dim in param.data.shape:\n",
        "                    j = j * dim\n",
        "                print('layer ', i, ': ', name, '; parameters: ', j, sep='')\n",
        "                i += 1\n",
        "                total += j\n",
        "        print('total parameters = ', total)\n",
        "        return\n",
        "    else:\n",
        "        #pytorch_total_params = sum(p.numel() for p in model.parameters() if p.requires_grad)\n",
        "        return sum(p.numel() for p in model.parameters())"
      ],
      "execution_count": 0,
      "outputs": []
    },
    {
      "cell_type": "markdown",
      "metadata": {
        "id": "CmnUYDiAnfZ_",
        "colab_type": "text"
      },
      "source": [
        "Function to plot confusion matrix"
      ]
    },
    {
      "cell_type": "code",
      "metadata": {
        "id": "079BiJjGssWN",
        "colab_type": "code",
        "colab": {}
      },
      "source": [
        "'''\n",
        "description:\n",
        "    - this function plots the confusion matrix (normalized or not) \n",
        "    using Matplotlib and seaborn in a nice way using heatmap.\n",
        "#-------------------\n",
        "positional args:\n",
        "    - confusion_matrix  [numpy.ndarray]:    ex.: array([[88, 19],[22, 71]])\n",
        "    - class_names       [list of str]:      ex.: ['negative', 'positive']\n",
        "\n",
        "optional args:\n",
        "    - title     (default=None)          [str]:      title of the plot\n",
        "    - normalize (default=False)         [bool]:     values raw or normalized\n",
        "    - cmap      (default=plt.cm.Blues)     \\\n",
        "       [matplotlib.colors.LinearSegmentedColormap]: colormap to be used\n",
        "    - fig_size   (default=(10,7))        [tuple]:    size of the figure\n",
        "    - fontsize  (default=14)            [int]:      size of the text\n",
        "#-------------------\n",
        "return:\n",
        "  - fig [matplotlib.figure.Figure]: confusion matrix plotted in a nice way!\n",
        "''';"
      ],
      "execution_count": 0,
      "outputs": []
    },
    {
      "cell_type": "code",
      "metadata": {
        "id": "z7-aEqs_nhpf",
        "colab_type": "code",
        "colab": {}
      },
      "source": [
        "#https://gist.github.com/shaypal5/94c53d765083101efc0240d776a23823\n",
        "def print_confusion_matrix(confusion_matrix, class_names, title=None, normalize=False, cmap=plt.cm.Blues, figsize = (10,7), fontsize=14):\n",
        "    # normalized or raw CM\n",
        "    if normalize:\n",
        "        confusion_matrix = confusion_matrix.astype('float') / confusion_matrix.sum(axis=1)[:, np.newaxis]\n",
        "        fmt = '.2f'\n",
        "    else:\n",
        "        fmt = 'd'\n",
        "    #----------------------------\n",
        "    df_cm = pd.DataFrame(confusion_matrix, index=class_names, columns=class_names)\n",
        "    fig = plt.figure(figsize=figsize)\n",
        "    try:\n",
        "        heatmap = sns.heatmap(df_cm, annot=True, fmt=fmt, cmap=cmap)\n",
        "    except ValueError:\n",
        "        raise ValueError(\"Confusion matrix values must be integers.\")\n",
        "    #----------------------------\n",
        "    # fix matplotlib 3.1.1 bug\n",
        "    #heatmap.get_ylim() --> (5.5, 0.5)\n",
        "    #heatmap.set_ylim(6.0, 0)\n",
        "    #----------------------------\n",
        "    heatmap.yaxis.set_ticklabels(heatmap.yaxis.get_ticklabels(), rotation=0, ha='right', fontsize=fontsize)\n",
        "    heatmap.xaxis.set_ticklabels(heatmap.xaxis.get_ticklabels(), rotation=45, ha='right', fontsize=fontsize)\n",
        "    plt.title(title)\n",
        "    plt.ylabel('True label')\n",
        "    plt.xlabel('Predicted label')\n",
        "    return fig"
      ],
      "execution_count": 0,
      "outputs": []
    },
    {
      "cell_type": "markdown",
      "metadata": {
        "id": "0KqWxd9RmXWz",
        "colab_type": "text"
      },
      "source": [
        "Function that preprocess a document, returning the mean of word embeddings"
      ]
    },
    {
      "cell_type": "code",
      "metadata": {
        "id": "cRZpxDIfmMEB",
        "colab_type": "code",
        "colab": {}
      },
      "source": [
        "'''\n",
        "description:\n",
        "    this function receives as parameter a document [str] and do the following:\n",
        "      - convert to lower case,\n",
        "      - split in tokens,\n",
        "      - remove stop words\n",
        "return:\n",
        "    mean of the word embeddings of all tokens in the document\n",
        "''';"
      ],
      "execution_count": 0,
      "outputs": []
    },
    {
      "cell_type": "code",
      "metadata": {
        "id": "wDtylQ8uQL8H",
        "colab_type": "code",
        "colab": {}
      },
      "source": [
        "def pre_processing(sentence, embedding=GloVe(name='6B', dim=300, cache='./glove_dir')):\n",
        "    sentence = sentence.lower()                 # convert to lower case\n",
        "    sentence = re.sub(\"[^\\w]\", \" \",  sentence)  # match word characters [a-zA-Z0-9_]\n",
        "    sentence = sentence.split()                 # split in tokens\n",
        "    #---------------------------\n",
        "    vectors = []\n",
        "    is_first = True\n",
        "    # remove stop words\n",
        "    for token in sentence:\n",
        "        if token not in stopwords: \n",
        "            if is_first:\n",
        "                vectors = embedding[token].reshape(1,-1)\n",
        "                is_first = False\n",
        "            else:\n",
        "                vectors = torch.cat((vectors, embedding[token].reshape(1,-1)), dim=0)\n",
        "    return torch.mean(vectors, dim=0)"
      ],
      "execution_count": 0,
      "outputs": []
    },
    {
      "cell_type": "markdown",
      "metadata": {
        "id": "me1XVMkAfzxo",
        "colab_type": "text"
      },
      "source": [
        "### 2.2 Classes"
      ]
    },
    {
      "cell_type": "markdown",
      "metadata": {
        "id": "ICTToEJMmt-n",
        "colab_type": "text"
      },
      "source": [
        "Class used for training in training loop"
      ]
    },
    {
      "cell_type": "code",
      "metadata": {
        "id": "_1PNzzsk498M",
        "colab_type": "code",
        "colab": {}
      },
      "source": [
        "'''\n",
        "description:\n",
        "    this class is used during the training loop for TRAINING\n",
        "\n",
        "parameters:\n",
        "    - device\n",
        "    - model\n",
        "    - dataloader\n",
        "    - loss_function\n",
        "    - optimizer\n",
        "\n",
        "return:\n",
        "    np.mean(loss_his()) [numpy.float64]: mean of losses of all mini-batches in one epoch\n",
        "    score_train.item()  [float]:         accuracy calculated over one epoch  \n",
        "''';"
      ],
      "execution_count": 0,
      "outputs": []
    },
    {
      "cell_type": "code",
      "metadata": {
        "id": "DYaNeQ2irejs",
        "colab_type": "code",
        "colab": {}
      },
      "source": [
        "class TrainingLoop():\n",
        "    def __init__(self, device, model, dataloader, loss_function, optimizer):\n",
        "        self.device = device\n",
        "        self.model = model\n",
        "        self.dataloader = dataloader\n",
        "        self.loss_function = loss_function\n",
        "        self.optimizer = optimizer\n",
        "\n",
        "    def __call__(self):\n",
        "        # training mode\n",
        "        self.model.train()\n",
        "        loss_his = np.zeros(len(self.dataloader))\n",
        "        score_train = 0.\n",
        "        for b_i, (b_x, b_y) in enumerate(self.dataloader):   # for each training step\n",
        "            b_x, b_y = b_x.to(self.device), b_y.to(self.device)\n",
        "            y_logitos = self.model(b_x)\n",
        "            loss = self.loss_function(y_logitos, b_y)\n",
        "            self.optimizer.zero_grad()  # clear gradients for next train\n",
        "            loss.backward()             # backpropagation, compute gradients\n",
        "            self.optimizer.step()        # apply gradients\n",
        "            #-------------------\n",
        "            y_pred = torch.argmax(y_logitos, dim=1)\n",
        "            score_train += (b_y == y_pred).sum()\n",
        "            loss_his[b_i] = loss.item()\n",
        "        return np.mean(loss_his), score_train.item()"
      ],
      "execution_count": 0,
      "outputs": []
    },
    {
      "cell_type": "markdown",
      "metadata": {
        "id": "JofgQZ-cm3Bd",
        "colab_type": "text"
      },
      "source": [
        "Class used for validation in training loop"
      ]
    },
    {
      "cell_type": "code",
      "metadata": {
        "colab_type": "code",
        "id": "P6j1VO3w6Qee",
        "colab": {}
      },
      "source": [
        "'''\n",
        "description:\n",
        "    this class is used during the training loop for VALIDATION\n",
        "\n",
        "parameters:\n",
        "    - device\n",
        "    - model\n",
        "    - dataloader\n",
        "    - loss_function\n",
        "\n",
        "return:\n",
        "    np.mean(loss_his()) [numpy.float64]: mean of losses of all mini-batches in one epoch\n",
        "    score_valid.item()  [float]:         accuracy calculated over one epoch  \n",
        "''';"
      ],
      "execution_count": 0,
      "outputs": []
    },
    {
      "cell_type": "code",
      "metadata": {
        "id": "A0qgFjIBurL1",
        "colab_type": "code",
        "colab": {}
      },
      "source": [
        "class ValidatingLoop():\n",
        "    def __init__(self, device, model, dataloader, loss_function):\n",
        "        self.device = device\n",
        "        self.model = model\n",
        "        self.dataloader = dataloader\n",
        "        self.loss_function = loss_function\n",
        "\n",
        "    def __call__(self):\n",
        "        # evaluation mode\n",
        "        self.model.eval()\n",
        "        loss_his = np.zeros(len(self.dataloader))\n",
        "        score_valid = 0.\n",
        "        for b_ival, (b_xval, b_yval) in enumerate(self.dataloader):\n",
        "            b_xval, b_yval = b_xval.to(self.device), b_yval.to(self.device)\n",
        "            y_logitos = self.model(b_xval)\n",
        "            loss_valid = self.loss_function(y_logitos, b_yval)\n",
        "            yval_pred = torch.argmax(y_logitos, dim=1)\n",
        "            score_valid += (b_yval == yval_pred).sum()\n",
        "            loss_his[b_ival] = loss_valid.item()\n",
        "        return np.mean(loss_his), score_valid"
      ],
      "execution_count": 0,
      "outputs": []
    },
    {
      "cell_type": "markdown",
      "metadata": {
        "id": "C4IayX1HsCyC",
        "colab_type": "text"
      },
      "source": [
        "## 3. Dataset"
      ]
    },
    {
      "cell_type": "markdown",
      "metadata": {
        "id": "QS8YeBbWH7rF",
        "colab_type": "text"
      },
      "source": [
        "### 3.1 Download dataset"
      ]
    },
    {
      "cell_type": "code",
      "metadata": {
        "id": "be58QXZjoBWl",
        "colab_type": "code",
        "outputId": "7ba9e559-784f-4cf9-8823-715b78744f62",
        "colab": {
          "base_uri": "https://localhost:8080/",
          "height": 59
        }
      },
      "source": [
        "# download dataset\n",
        "!wget -nc http://files.fast.ai/data/examples/imdb_sample.tgz\n",
        "!tar -xzf imdb_sample.tgz"
      ],
      "execution_count": 15,
      "outputs": [
        {
          "output_type": "stream",
          "text": [
            "File ‘imdb_sample.tgz’ already there; not retrieving.\n",
            "\n"
          ],
          "name": "stdout"
        }
      ]
    },
    {
      "cell_type": "markdown",
      "metadata": {
        "id": "qGaOXbAGk_IG",
        "colab_type": "text"
      },
      "source": [
        "### 3.2 Download embeddings"
      ]
    },
    {
      "cell_type": "code",
      "metadata": {
        "id": "_vfFwWCWxc07",
        "colab_type": "code",
        "colab": {}
      },
      "source": [
        "# !wget -nc http://nlp.stanford.edu/data/glove.6B.zip\n",
        "# !unzip -o glove.6B.zip -d glove_dir"
      ],
      "execution_count": 0,
      "outputs": []
    },
    {
      "cell_type": "markdown",
      "metadata": {
        "id": "9ugoqCqNwnuu",
        "colab_type": "text"
      },
      "source": [
        "Loading word embeddings with gensin"
      ]
    },
    {
      "cell_type": "code",
      "metadata": {
        "id": "Db7UYxCow5GF",
        "colab_type": "code",
        "colab": {}
      },
      "source": [
        "# import gensim.downloader as api\n",
        "\n",
        "# word2vec_model = api.load(\"glove-wiki-gigaword-300\")\n",
        "# print(word2vec_model.vectors.shape)\n",
        "# print(word2vec_model.index2word)"
      ],
      "execution_count": 0,
      "outputs": []
    },
    {
      "cell_type": "markdown",
      "metadata": {
        "id": "73B7smEnxdVZ",
        "colab_type": "text"
      },
      "source": [
        "Loading word embeddings with torchtext"
      ]
    },
    {
      "cell_type": "code",
      "metadata": {
        "id": "A_05Xh0L05tI",
        "colab_type": "code",
        "colab": {}
      },
      "source": [
        "from torchtext.vocab import GloVe\n",
        "glove_embedding = GloVe(name='6B', dim=EMBEDDING_DIM, cache='./glove_dir')"
      ],
      "execution_count": 0,
      "outputs": []
    },
    {
      "cell_type": "code",
      "metadata": {
        "id": "jnizgoBh08w8",
        "colab_type": "code",
        "outputId": "79a310ae-dfae-41e3-c49f-000e394b5e0b",
        "colab": {
          "base_uri": "https://localhost:8080/",
          "height": 79
        }
      },
      "source": [
        "print(glove_embedding.vectors.shape)\n",
        "print('First 20 words and its index:', list(glove_embedding.stoi.items())[:20])"
      ],
      "execution_count": 19,
      "outputs": [
        {
          "output_type": "stream",
          "text": [
            "torch.Size([400000, 300])\n",
            "First 20 words and its index: [('the', 0), (',', 1), ('.', 2), ('of', 3), ('to', 4), ('and', 5), ('in', 6), ('a', 7), ('\"', 8), (\"'s\", 9), ('for', 10), ('-', 11), ('that', 12), ('on', 13), ('is', 14), ('was', 15), ('said', 16), ('with', 17), ('he', 18), ('as', 19)]\n"
          ],
          "name": "stdout"
        }
      ]
    },
    {
      "cell_type": "code",
      "metadata": {
        "id": "tFkUxOyEp29i",
        "colab_type": "code",
        "outputId": "3980611c-dd9b-4b24-e0d2-6a2269c11be0",
        "colab": {
          "base_uri": "https://localhost:8080/",
          "height": 38
        }
      },
      "source": [
        "glove_embedding['the'].shape"
      ],
      "execution_count": 20,
      "outputs": [
        {
          "output_type": "execute_result",
          "data": {
            "text/plain": [
              "torch.Size([300])"
            ]
          },
          "metadata": {
            "tags": []
          },
          "execution_count": 20
        }
      ]
    },
    {
      "cell_type": "markdown",
      "metadata": {
        "id": "LWGpvacBsdW_",
        "colab_type": "text"
      },
      "source": [
        "### 3.3 Dataset preparation"
      ]
    },
    {
      "cell_type": "code",
      "metadata": {
        "id": "IhhTEAagAr0f",
        "colab_type": "code",
        "colab": {}
      },
      "source": [
        "# read csv spreadsheet\n",
        "df = pd.read_csv('imdb_sample/texts.csv')"
      ],
      "execution_count": 0,
      "outputs": []
    },
    {
      "cell_type": "markdown",
      "metadata": {
        "id": "_7pkQlN9uv0R",
        "colab_type": "text"
      },
      "source": [
        "training-validation split"
      ]
    },
    {
      "cell_type": "code",
      "metadata": {
        "id": "56fqaVspuQZx",
        "colab_type": "code",
        "outputId": "a52e0393-1d47-4acc-8978-c3b067510646",
        "colab": {
          "base_uri": "https://localhost:8080/",
          "height": 59
        }
      },
      "source": [
        "train = df[df['is_valid'] == False]\n",
        "valid = df[df['is_valid'] == True]\n",
        "#---------------------------\n",
        "print('treino.shape:', train.shape)\n",
        "print('valid.shape:', valid.shape)"
      ],
      "execution_count": 22,
      "outputs": [
        {
          "output_type": "stream",
          "text": [
            "treino.shape: (800, 3)\n",
            "valid.shape: (200, 3)\n"
          ],
          "name": "stdout"
        }
      ]
    },
    {
      "cell_type": "markdown",
      "metadata": {
        "id": "412UBDH6hpCO",
        "colab_type": "text"
      },
      "source": [
        "Corpus"
      ]
    },
    {
      "cell_type": "code",
      "metadata": {
        "id": "8TbZZ7zR35kj",
        "colab_type": "code",
        "colab": {}
      },
      "source": [
        "# use only training\n",
        "corpus = train['text'].tolist()\n",
        "# use training and validation\n",
        "#corpus = df['text'].tolist()"
      ],
      "execution_count": 0,
      "outputs": []
    },
    {
      "cell_type": "code",
      "metadata": {
        "id": "KENPCIRQ641J",
        "colab_type": "code",
        "outputId": "104b70b0-1fd5-4033-fb60-e685520934d9",
        "colab": {
          "base_uri": "https://localhost:8080/",
          "height": 38
        }
      },
      "source": [
        "# scikit-learn\n",
        "vectorizer = TfidfVectorizer()\n",
        "vectorizer.fit(corpus)\n",
        "vocab = vectorizer.get_feature_names()\n",
        "#---------------------------\n",
        "vocab_size = len(vocab)\n",
        "print('vocab size:', vocab_size)"
      ],
      "execution_count": 24,
      "outputs": [
        {
          "output_type": "stream",
          "text": [
            "vocab size: 16461\n"
          ],
          "name": "stdout"
        }
      ]
    },
    {
      "cell_type": "markdown",
      "metadata": {
        "id": "0ZoSUNHgA4LH",
        "colab_type": "text"
      },
      "source": [
        "Input"
      ]
    },
    {
      "cell_type": "code",
      "metadata": {
        "colab_type": "code",
        "outputId": "55065d56-3724-493c-f604-6b13f5ac6796",
        "id": "BoX61hQWAgb_",
        "colab": {
          "base_uri": "https://localhost:8080/",
          "height": 38
        }
      },
      "source": [
        "# slice pandas dataframe\n",
        "X_train_pd = train['text']\n",
        "X_valid_pd = valid['text']\n",
        "#---------------------------\n",
        "print(type(X_train_pd))"
      ],
      "execution_count": 25,
      "outputs": [
        {
          "output_type": "stream",
          "text": [
            "<class 'pandas.core.series.Series'>\n"
          ],
          "name": "stdout"
        }
      ]
    },
    {
      "cell_type": "markdown",
      "metadata": {
        "id": "kPfD6UN1G281",
        "colab_type": "text"
      },
      "source": [
        "TF-IDF"
      ]
    },
    {
      "cell_type": "code",
      "metadata": {
        "id": "9p7zOFQ8n-Jv",
        "colab_type": "code",
        "outputId": "136e2d55-7a37-462d-9a5b-9fa334897dac",
        "colab": {
          "base_uri": "https://localhost:8080/",
          "height": 80
        }
      },
      "source": [
        "# transform using TF-IDF\n",
        "X_train_sparse = vectorizer.transform(X_train_pd)\n",
        "X_valid_sparse = vectorizer.transform(X_valid_pd)\n",
        "#---------------------------\n",
        "# convert from sparse matrix to tensor\n",
        "X_train_tfidf = torch.tensor(X_train_sparse.toarray(), dtype=torch.float32)\n",
        "X_valid_tfidf = torch.tensor(X_valid_sparse.toarray(), dtype=torch.float32)\n",
        "#---------------------------\n",
        "print('type of \"X_train_sparse\":', type(X_train_sparse))\n",
        "print('type of \"X_train\":', type(X_train_tfidf))\n",
        "print(X_train_tfidf.shape)"
      ],
      "execution_count": 26,
      "outputs": [
        {
          "output_type": "stream",
          "text": [
            "type of \"X_train_sparse\": <class 'scipy.sparse.csr.csr_matrix'>\n",
            "type of \"X_train\": <class 'torch.Tensor'>\n",
            "torch.Size([800, 16461])\n"
          ],
          "name": "stdout"
        }
      ]
    },
    {
      "cell_type": "markdown",
      "metadata": {
        "id": "ff-MVMe6G58o",
        "colab_type": "text"
      },
      "source": [
        "Mean of embeddings"
      ]
    },
    {
      "cell_type": "code",
      "metadata": {
        "id": "J2luO_w7NK7H",
        "colab_type": "code",
        "outputId": "62c4833d-a927-4125-ad0f-86cc312188d7",
        "colab": {
          "base_uri": "https://localhost:8080/",
          "height": 59
        }
      },
      "source": [
        "# convert from pandas to list\n",
        "X_train_list = X_train_pd.tolist()\n",
        "X_valid_list = X_valid_pd.tolist()\n",
        "print(type(X_train_pd))\n",
        "print(type(X_train_list))"
      ],
      "execution_count": 27,
      "outputs": [
        {
          "output_type": "stream",
          "text": [
            "<class 'pandas.core.series.Series'>\n",
            "<class 'list'>\n"
          ],
          "name": "stdout"
        }
      ]
    },
    {
      "cell_type": "code",
      "metadata": {
        "id": "E4OIFqfTJ66H",
        "colab_type": "code",
        "outputId": "290b5771-e7f6-437e-9c6e-3eb7e5ce8c16",
        "colab": {
          "base_uri": "https://localhost:8080/",
          "height": 101
        }
      },
      "source": [
        "# get English stopwords\n",
        "nltk.download('stopwords')\n",
        "stopwords = nltk.corpus.stopwords.words('english')\n",
        "# print first 15 stop words\n",
        "print(stopwords[:10])\n",
        "# print number of stopwords\n",
        "len(stopwords)"
      ],
      "execution_count": 28,
      "outputs": [
        {
          "output_type": "stream",
          "text": [
            "[nltk_data] Downloading package stopwords to /root/nltk_data...\n",
            "[nltk_data]   Package stopwords is already up-to-date!\n",
            "['i', 'me', 'my', 'myself', 'we', 'our', 'ours', 'ourselves', 'you', \"you're\"]\n"
          ],
          "name": "stdout"
        },
        {
          "output_type": "execute_result",
          "data": {
            "text/plain": [
              "179"
            ]
          },
          "metadata": {
            "tags": []
          },
          "execution_count": 28
        }
      ]
    },
    {
      "cell_type": "code",
      "metadata": {
        "id": "mof7XuDEpIvk",
        "colab_type": "code",
        "colab": {
          "base_uri": "https://localhost:8080/",
          "height": 59
        },
        "outputId": "658b573a-57b2-4526-92e8-897838e9a07a"
      },
      "source": [
        "# converting list (str) in word embeddings\n",
        "# training\n",
        "X_train_emb = torch.zeros(len(X_train_list),glove_embedding.dim)\n",
        "for i, document in enumerate(X_train_list):\n",
        "    X_train_emb[i] = pre_processing(X_train_list[i], embedding=glove_embedding)\n",
        "#---------------------------\n",
        "# validation\n",
        "X_valid_emb = torch.zeros(len(X_valid_list),glove_embedding.dim)\n",
        "for i, document in enumerate(X_valid_list):\n",
        "    X_valid_emb[i] = pre_processing(X_valid_list[i], embedding=glove_embedding)\n",
        "#---------------------------\n",
        "print(X_train_emb.shape)\n",
        "print(X_valid_emb.shape)"
      ],
      "execution_count": 29,
      "outputs": [
        {
          "output_type": "stream",
          "text": [
            "torch.Size([800, 300])\n",
            "torch.Size([200, 300])\n"
          ],
          "name": "stdout"
        }
      ]
    },
    {
      "cell_type": "markdown",
      "metadata": {
        "id": "UufFsBWGvbGM",
        "colab_type": "text"
      },
      "source": [
        "Target"
      ]
    },
    {
      "cell_type": "code",
      "metadata": {
        "colab_type": "code",
        "id": "Vs124CzgldcS",
        "outputId": "cc62f500-57b2-43a6-ad3c-05ca53d72e98",
        "colab": {
          "base_uri": "https://localhost:8080/",
          "height": 59
        }
      },
      "source": [
        "# get the label as string (either 'positive' or 'negative')\n",
        "y_train_str = train['label']\n",
        "y_valid_str = valid['label']\n",
        "#---------------------------\n",
        "# convert from string to boolean\n",
        "mapping = {'positive': True, 'negative': False}\n",
        "y_train_pd = y_train_str.map(mapping)\n",
        "y_valid_pd = y_valid_str.map(mapping)\n",
        "#---------------------------\n",
        "print(y_train_str[:1].values)\n",
        "print(y_train_pd[:1].values)"
      ],
      "execution_count": 30,
      "outputs": [
        {
          "output_type": "stream",
          "text": [
            "['negative']\n",
            "[False]\n"
          ],
          "name": "stdout"
        }
      ]
    },
    {
      "cell_type": "code",
      "metadata": {
        "id": "nupgh_EdncL-",
        "colab_type": "code",
        "outputId": "ad606403-09a8-4339-c921-0eb9d899387f",
        "colab": {
          "base_uri": "https://localhost:8080/",
          "height": 80
        }
      },
      "source": [
        "# convert from pandas series to PyTorch\n",
        "y_train = torch.LongTensor(y_train_pd.values)\n",
        "y_valid = torch.LongTensor(y_valid_pd.values)\n",
        "#---------------------------\n",
        "print('type of \"y_train_pd\":', type(y_train_pd))\n",
        "print('type of \"y_train\":', type(y_train))\n",
        "print(y_train.shape)"
      ],
      "execution_count": 31,
      "outputs": [
        {
          "output_type": "stream",
          "text": [
            "type of \"y_train_pd\": <class 'pandas.core.series.Series'>\n",
            "type of \"y_train\": <class 'torch.Tensor'>\n",
            "torch.Size([800])\n"
          ],
          "name": "stdout"
        }
      ]
    },
    {
      "cell_type": "markdown",
      "metadata": {
        "id": "UoCDR4p0BYcy",
        "colab_type": "text"
      },
      "source": [
        "### 3.3 PyTorch dataset creation"
      ]
    },
    {
      "cell_type": "code",
      "metadata": {
        "id": "2a8kAF4zCAol",
        "colab_type": "code",
        "colab": {}
      },
      "source": [
        "if TFIDF:\n",
        "    # datasets using TF-IDF\n",
        "    ds_train = TensorDataset(X_train_tfidf, y_train)\n",
        "    ds_valid = TensorDataset(X_valid_tfidf, y_valid)\n",
        "else:\n",
        "    # dataset using Word Embeddings\n",
        "    ds_train = TensorDataset(X_train_emb, y_train)\n",
        "    ds_valid = TensorDataset(X_valid_emb, y_valid)"
      ],
      "execution_count": 0,
      "outputs": []
    },
    {
      "cell_type": "markdown",
      "metadata": {
        "id": "UPsgbfqGsm5V",
        "colab_type": "text"
      },
      "source": [
        "### 3.4 PyTorch loader creation\n",
        "\n",
        "- BATCH_SIZE definition\n",
        "- training dataset\n",
        "- validation dataset"
      ]
    },
    {
      "cell_type": "code",
      "metadata": {
        "id": "9sESeX_SqoXr",
        "colab_type": "code",
        "colab": {}
      },
      "source": [
        "BATCH_SIZE = 100\n",
        "#-------------------------------------------------\n",
        "# training data loader\n",
        "dl_train = torch.utils.data.DataLoader(\n",
        "            dataset=ds_train, \n",
        "            drop_last = False,\n",
        "            shuffle = True,\n",
        "            batch_size = BATCH_SIZE)\n",
        "#-------------------------------------------------\n",
        "# validation data loader\n",
        "dl_valid =  torch.utils.data.DataLoader(\n",
        "            dataset = ds_valid,\n",
        "            drop_last = False,\n",
        "            shuffle = False,\n",
        "            batch_size = BATCH_SIZE)"
      ],
      "execution_count": 0,
      "outputs": []
    },
    {
      "cell_type": "markdown",
      "metadata": {
        "id": "XFwZVZfQssoV",
        "colab_type": "text"
      },
      "source": [
        "### 3.5 Verifying shape, batch data type from loader and optionally its visualization"
      ]
    },
    {
      "cell_type": "code",
      "metadata": {
        "id": "NQbDl3QVql8m",
        "colab_type": "code",
        "outputId": "960386e9-98cf-45dd-e2df-6b398c2a8ceb",
        "colab": {
          "base_uri": "https://localhost:8080/",
          "height": 80
        }
      },
      "source": [
        "tx, ty = iter(dl_train).next()\n",
        "print('train:', tx.shape, tx.dtype, ty.shape, ty.dtype)\n",
        "tx, ty = iter(dl_valid).next()\n",
        "print('val:', tx.shape, tx.dtype, ty.shape, ty.dtype)\n",
        "print('last batch size:', len(ds_train)%BATCH_SIZE, len(ds_valid)%BATCH_SIZE)"
      ],
      "execution_count": 34,
      "outputs": [
        {
          "output_type": "stream",
          "text": [
            "train: torch.Size([100, 16461]) torch.float32 torch.Size([100]) torch.int64\n",
            "val: torch.Size([100, 16461]) torch.float32 torch.Size([100]) torch.int64\n",
            "last batch size: 0 0\n"
          ],
          "name": "stdout"
        }
      ]
    },
    {
      "cell_type": "markdown",
      "metadata": {
        "id": "Bw_Z9cMgs8Kf",
        "colab_type": "text"
      },
      "source": [
        "## 4. Network Model"
      ]
    },
    {
      "cell_type": "markdown",
      "metadata": {
        "id": "7vn0r32bamG7",
        "colab_type": "text"
      },
      "source": [
        "### 4.1 Network class definition"
      ]
    },
    {
      "cell_type": "code",
      "metadata": {
        "id": "HY7n0S0vq-1Z",
        "colab_type": "code",
        "colab": {}
      },
      "source": [
        "class NN(torch.nn.Module):\n",
        "    def __init__(self, inputs, layer1_neurons, layer2_neurons):\n",
        "        super(NN, self).__init__()\n",
        "        self.inputs = inputs\n",
        "        self.layer1_neurons = layer1_neurons\n",
        "        self.layer2_neurons = layer2_neurons\n",
        "\n",
        "        self.dropout = torch.nn.Dropout(0.5)\n",
        "        self.layer1 = torch.nn.Linear(in_features=self.inputs,  out_features=self.layer1_neurons)\n",
        "        self.layer2 = torch.nn.Linear(in_features=self.layer1_neurons,  out_features=self.layer2_neurons)\n",
        "        self.layer3 = torch.nn.Linear(in_features=self.layer2_neurons,  out_features=2)\n",
        "\n",
        "    def forward(self, x):\n",
        "        #-------------------\n",
        "        # dense layer, ReLU, dropout\n",
        "        x = self.layer1(x)\n",
        "        x = F.relu(x)\n",
        "        x = self.dropout(x)\n",
        "        #-------------------\n",
        "        # dense layer, ReLU, dropout\n",
        "        x = self.layer2(x)\n",
        "        x = F.relu(x)\n",
        "        x = self.dropout(x)\n",
        "        #-------------------\n",
        "        # dense layer\n",
        "        x = self.layer3(x)\n",
        "        #-------------------\n",
        "        return x"
      ],
      "execution_count": 0,
      "outputs": []
    },
    {
      "cell_type": "markdown",
      "metadata": {
        "id": "r6NbQ9ygasBE",
        "colab_type": "text"
      },
      "source": [
        "### 4.2 Network instantiation"
      ]
    },
    {
      "cell_type": "code",
      "metadata": {
        "id": "bIRZSsqNq_Zl",
        "colab_type": "code",
        "outputId": "4883683b-30eb-4786-f963-0f526bc96585",
        "colab": {
          "base_uri": "https://localhost:8080/",
          "height": 143
        }
      },
      "source": [
        "model = NN(inputs=vocab_size, layer1_neurons=600, layer2_neurons=100)\n",
        "model.to(device)"
      ],
      "execution_count": 36,
      "outputs": [
        {
          "output_type": "execute_result",
          "data": {
            "text/plain": [
              "NN(\n",
              "  (dropout): Dropout(p=0.5, inplace=False)\n",
              "  (layer1): Linear(in_features=16461, out_features=600, bias=True)\n",
              "  (layer2): Linear(in_features=600, out_features=100, bias=True)\n",
              "  (layer3): Linear(in_features=100, out_features=2, bias=True)\n",
              ")"
            ]
          },
          "metadata": {
            "tags": []
          },
          "execution_count": 36
        }
      ]
    },
    {
      "cell_type": "markdown",
      "metadata": {
        "id": "WFcCML_SayNO",
        "colab_type": "text"
      },
      "source": [
        "### 4.3 Network predict with few samples of batch from loader"
      ]
    },
    {
      "cell_type": "code",
      "metadata": {
        "id": "IX2K9fQ3rAkO",
        "colab_type": "code",
        "outputId": "91eaf77d-2904-4882-d898-9498fc4c1cc4",
        "colab": {
          "base_uri": "https://localhost:8080/",
          "height": 38
        }
      },
      "source": [
        "model(ds_train[0][0].to(device))"
      ],
      "execution_count": 37,
      "outputs": [
        {
          "output_type": "execute_result",
          "data": {
            "text/plain": [
              "tensor([-0.0331,  0.0758], device='cuda:0', grad_fn=<AddBackward0>)"
            ]
          },
          "metadata": {
            "tags": []
          },
          "execution_count": 37
        }
      ]
    },
    {
      "cell_type": "markdown",
      "metadata": {
        "id": "gqbHi424bDid",
        "colab_type": "text"
      },
      "source": [
        "## 5. Network training"
      ]
    },
    {
      "cell_type": "markdown",
      "metadata": {
        "id": "o4_rINNlbH17",
        "colab_type": "text"
      },
      "source": [
        "### 5.1 Training definitions\n",
        "\n",
        "- number of epochs\n",
        "- optimizer and LR (learning rate)\n",
        "- loss function\n"
      ]
    },
    {
      "cell_type": "code",
      "metadata": {
        "id": "07mvkthGrcVe",
        "colab_type": "code",
        "colab": {}
      },
      "source": [
        "# Training parameters\n",
        "EPOCH = 1000\n",
        "LR = 0.05\n",
        "PATIENCE = 20\n",
        "loss_func = torch.nn.CrossEntropyLoss()\n",
        "opt = torch.optim.SGD(model.parameters(), lr=LR)\n",
        "#-------------------\n",
        "best_valid_loss = 999_999.\n",
        "train_samples = len(ds_train)\n",
        "valid_samples = len(ds_valid)\n",
        "#-------------------\n",
        "trainer = TrainingLoop(device, model, dl_train, loss_func, opt)\n",
        "validator = ValidatingLoop(device, model, dl_valid, loss_func)\n",
        "#-------------------\n",
        "# loss history\n",
        "loss_train_his = []\n",
        "loss_valid_his = []\n",
        "acc_train_his = []\n",
        "acc_valid_his = []"
      ],
      "execution_count": 0,
      "outputs": []
    },
    {
      "cell_type": "markdown",
      "metadata": {
        "id": "Mifo0jGebd6z",
        "colab_type": "text"
      },
      "source": [
        "### 5.2 Training loop"
      ]
    },
    {
      "cell_type": "code",
      "metadata": {
        "id": "gmZtFWUqrgeu",
        "colab_type": "code",
        "outputId": "f9d6ab2e-2790-41ce-88ee-8cbc3d0e35f9",
        "colab": {
          "base_uri": "https://localhost:8080/",
          "height": 710
        }
      },
      "source": [
        "for epoch in range(EPOCH):\n",
        "    # training\n",
        "    his_train = trainer()\n",
        "    loss_train_his.append(his_train[0])\n",
        "    acc_train_his.append(his_train[1] / train_samples)\n",
        "    #-------------------\n",
        "    # validating\n",
        "    his_valid = validator()\n",
        "    loss_valid_his.append(his_valid[0])\n",
        "    acc_valid_his.append(his_valid[1] / valid_samples)\n",
        "    #-------------------------------------------------\n",
        "    # early stopping: check if new validation accuracy occurred\n",
        "    if loss_valid_his[-1] < best_valid_loss:\n",
        "        # print('New best loss in validation set!', end=' ')\n",
        "        best_valid_loss = loss_valid_his[-1]\n",
        "        patience_counter = 0\n",
        "    else:\n",
        "        patience_counter += 1\n",
        "        if patience_counter == PATIENCE:\n",
        "            print('Early stopping:', PATIENCE, 'iterations without validation loss improve')\n",
        "            break\n",
        "    #-------------------------------------------------\n",
        "    if not (epoch % 10):\n",
        "        print('epoch =', epoch, end='; ')\n",
        "        print('loss_train = {0:.4f}'.format(loss_train_his[-1]), end='; ')\n",
        "        print('loss_val = {0:.4f}'.format(loss_valid_his[-1]), end='; ')\n",
        "        print('acc_train = {0:.4f}'.format(acc_train_his[-1]), end='; ')\n",
        "        print('acc_val = {0:.4f}'.format(acc_valid_his[-1]), end='\\n')"
      ],
      "execution_count": 39,
      "outputs": [
        {
          "output_type": "stream",
          "text": [
            "epoch = 0; loss_train = 0.6965; loss_val = 0.6964; acc_train = 0.4788; acc_val = 0.4650\n",
            "epoch = 10; loss_train = 0.6925; loss_val = 0.6913; acc_train = 0.5212; acc_val = 0.5350\n",
            "epoch = 20; loss_train = 0.6922; loss_val = 0.6909; acc_train = 0.5212; acc_val = 0.5350\n",
            "epoch = 30; loss_train = 0.6923; loss_val = 0.6909; acc_train = 0.5212; acc_val = 0.5350\n",
            "epoch = 40; loss_train = 0.6920; loss_val = 0.6907; acc_train = 0.5212; acc_val = 0.5350\n",
            "epoch = 50; loss_train = 0.6917; loss_val = 0.6906; acc_train = 0.5212; acc_val = 0.5350\n",
            "epoch = 60; loss_train = 0.6909; loss_val = 0.6905; acc_train = 0.5212; acc_val = 0.5350\n",
            "epoch = 70; loss_train = 0.6902; loss_val = 0.6902; acc_train = 0.5212; acc_val = 0.5350\n",
            "epoch = 80; loss_train = 0.6907; loss_val = 0.6900; acc_train = 0.5212; acc_val = 0.5350\n",
            "epoch = 90; loss_train = 0.6902; loss_val = 0.6898; acc_train = 0.5212; acc_val = 0.5350\n",
            "epoch = 100; loss_train = 0.6900; loss_val = 0.6894; acc_train = 0.5212; acc_val = 0.5350\n",
            "epoch = 110; loss_train = 0.6886; loss_val = 0.6890; acc_train = 0.5212; acc_val = 0.5350\n",
            "epoch = 120; loss_train = 0.6880; loss_val = 0.6885; acc_train = 0.5225; acc_val = 0.5350\n",
            "epoch = 130; loss_train = 0.6867; loss_val = 0.6877; acc_train = 0.5212; acc_val = 0.5350\n",
            "epoch = 140; loss_train = 0.6862; loss_val = 0.6868; acc_train = 0.5225; acc_val = 0.5350\n",
            "epoch = 150; loss_train = 0.6835; loss_val = 0.6853; acc_train = 0.5262; acc_val = 0.5350\n",
            "epoch = 160; loss_train = 0.6793; loss_val = 0.6833; acc_train = 0.5525; acc_val = 0.5350\n",
            "epoch = 170; loss_train = 0.6760; loss_val = 0.6804; acc_train = 0.5850; acc_val = 0.5350\n",
            "epoch = 180; loss_train = 0.6668; loss_val = 0.6760; acc_train = 0.6863; acc_val = 0.5500\n",
            "epoch = 190; loss_train = 0.6562; loss_val = 0.6694; acc_train = 0.7275; acc_val = 0.6200\n",
            "epoch = 200; loss_train = 0.6402; loss_val = 0.6592; acc_train = 0.7762; acc_val = 0.6750\n",
            "epoch = 210; loss_train = 0.6121; loss_val = 0.6429; acc_train = 0.8275; acc_val = 0.6950\n",
            "epoch = 220; loss_train = 0.5735; loss_val = 0.6187; acc_train = 0.8550; acc_val = 0.7250\n",
            "epoch = 230; loss_train = 0.5175; loss_val = 0.5853; acc_train = 0.8550; acc_val = 0.7250\n",
            "epoch = 240; loss_train = 0.4400; loss_val = 0.5468; acc_train = 0.8925; acc_val = 0.7550\n",
            "epoch = 250; loss_train = 0.3499; loss_val = 0.5094; acc_train = 0.9350; acc_val = 0.7600\n",
            "epoch = 260; loss_train = 0.2742; loss_val = 0.4775; acc_train = 0.9650; acc_val = 0.7700\n",
            "epoch = 270; loss_train = 0.2053; loss_val = 0.4560; acc_train = 0.9663; acc_val = 0.7850\n",
            "epoch = 280; loss_train = 0.1415; loss_val = 0.4472; acc_train = 0.9950; acc_val = 0.7950\n",
            "epoch = 290; loss_train = 0.1165; loss_val = 0.4570; acc_train = 0.9912; acc_val = 0.8000\n",
            "epoch = 300; loss_train = 0.0838; loss_val = 0.4415; acc_train = 0.9988; acc_val = 0.7950\n",
            "epoch = 310; loss_train = 0.0669; loss_val = 0.4472; acc_train = 0.9975; acc_val = 0.7950\n",
            "Early stopping: 20 iterations without validation loss improve\n"
          ],
          "name": "stdout"
        }
      ]
    },
    {
      "cell_type": "markdown",
      "metadata": {
        "id": "v6aK9evCbmB2",
        "colab_type": "text"
      },
      "source": [
        "## 6. Training evaluation\n",
        "\n",
        "- metrics:\n",
        "  - accuracy\n",
        "  - confusion matrix\n",
        "  - others"
      ]
    },
    {
      "cell_type": "markdown",
      "metadata": {
        "id": "Ny22wh3MaUdI",
        "colab_type": "text"
      },
      "source": [
        "### 6.1 Training and Validation Losses"
      ]
    },
    {
      "cell_type": "code",
      "metadata": {
        "id": "BYHGPjRkaeNN",
        "colab_type": "code",
        "colab": {
          "base_uri": "https://localhost:8080/",
          "height": 295
        },
        "outputId": "218786cc-a06a-4105-ee08-3295f03e894f"
      },
      "source": [
        "# plot training and validation loss\n",
        "plt.plot(loss_train_his, label='training loss', color='blue')\n",
        "plt.plot(loss_valid_his, label='validation loss', color='red')\n",
        "#-------------------------------------------------\n",
        "# axis label\n",
        "plt.xlabel('Epochs')\n",
        "plt.ylabel('CE Loss')\n",
        "# title\n",
        "plt.title('Loss progression')\n",
        "#-------------------------------------------------\n",
        "plt.autoscale(axis='x', tight=True) # axis adjust\n",
        "plt.grid(True) # add grid\n",
        "plt.legend() # add legend\n",
        "plt.show()"
      ],
      "execution_count": 40,
      "outputs": [
        {
          "output_type": "display_data",
          "data": {
            "image/png": "[encoded data removed]",
            "text/plain": [
              "<Figure size 432x288 with 1 Axes>"
            ]
          },
          "metadata": {
            "tags": []
          }
        }
      ]
    },
    {
      "cell_type": "markdown",
      "metadata": {
        "id": "thGUnNmdiqa6",
        "colab_type": "text"
      },
      "source": [
        "### 6.2 Zoom at the minimum CE loss in the validation loss curve"
      ]
    },
    {
      "cell_type": "code",
      "metadata": {
        "id": "zP5L2Gk4iraH",
        "colab_type": "code",
        "outputId": "48093ed0-0024-438d-c343-74ebff672036",
        "colab": {
          "base_uri": "https://localhost:8080/",
          "height": 316
        }
      },
      "source": [
        "BEST_EPOCH = loss_valid_his.index(min(loss_valid_his)) + 1\n",
        "print('Epoch with minimum validation loss =', BEST_EPOCH)\n",
        "#-------------------------------------------------\n",
        "# plots\n",
        "plt.plot(range(max(1,BEST_EPOCH-2),min(EPOCH,BEST_EPOCH+3)), loss_valid_his[max(1,BEST_EPOCH-3):min(EPOCH-1,BEST_EPOCH+2)], 'green')\n",
        "plt.xlabel('Epochs')\n",
        "plt.ylabel('CE loss')\n",
        "plt.autoscale(axis='x', tight=True)\n",
        "plt.title('Progression of validation loss acording to epochs')\n",
        "plt.grid(True)\n",
        "plt.show()"
      ],
      "execution_count": 41,
      "outputs": [
        {
          "output_type": "stream",
          "text": [
            "Epoch with minimum validation loss = 293\n"
          ],
          "name": "stdout"
        },
        {
          "output_type": "display_data",
          "data": {
            "image/png": "[encoded data removed]",
            "text/plain": [
              "<Figure size 432x288 with 1 Axes>"
            ]
          },
          "metadata": {
            "tags": []
          }
        }
      ]
    },
    {
      "cell_type": "markdown",
      "metadata": {
        "id": "tOfz0gMnaw_h",
        "colab_type": "text"
      },
      "source": [
        "### 6.3 Accuracy "
      ]
    },
    {
      "cell_type": "code",
      "metadata": {
        "id": "4gqP9tfybRTA",
        "colab_type": "code",
        "colab": {
          "base_uri": "https://localhost:8080/",
          "height": 295
        },
        "outputId": "0f5eef0f-0594-4a5a-a71a-539e3ae03ee0"
      },
      "source": [
        "# plot training and validation accuracy\n",
        "plt.plot(acc_train_his, label='training accuracy', color='blue')\n",
        "plt.plot(acc_valid_his, label='validation accuracy', color='red')\n",
        "#-------------------------------------------------\n",
        "# axis label\n",
        "plt.xlabel('Epochs')\n",
        "plt.ylabel('Accuracy')\n",
        "# title\n",
        "plt.title('Accuracy progression')\n",
        "#-------------------------------------------------\n",
        "plt.autoscale(axis='x', tight=True) # axis adjust\n",
        "plt.grid(True) # add grid\n",
        "plt.legend() # add legend\n",
        "plt.show()"
      ],
      "execution_count": 42,
      "outputs": [
        {
          "output_type": "display_data",
          "data": {
            "image/png": "[encoded data removed]",
            "text/plain": [
              "<Figure size 432x288 with 1 Axes>"
            ]
          },
          "metadata": {
            "tags": []
          }
        }
      ]
    },
    {
      "cell_type": "markdown",
      "metadata": {
        "id": "_8Xzipr2B9to",
        "colab_type": "text"
      },
      "source": [
        "### 6.4 Print the final values of the main training monitoring variables:\n",
        "- loss function final value:\n",
        "- metrics final values:"
      ]
    },
    {
      "cell_type": "code",
      "metadata": {
        "id": "VEVVlMqVs69I",
        "colab_type": "code",
        "outputId": "b9914f4a-f9a3-4ec6-9766-70058a9e52ba",
        "colab": {
          "base_uri": "https://localhost:8080/",
          "height": 122
        }
      },
      "source": [
        "print('last training loss = {0:.4f}'.format(loss_train_his[-1]))\n",
        "print('last validation loss = {0:.4f}'.format(loss_valid_his[-1]))\n",
        "print('#-------------------------------------------------')\n",
        "print('last train accuracy = {0:.4f}'.format(acc_train_his[-1]))\n",
        "print('last validation accuracy = {0:.4f}'.format(acc_valid_his[-1]))"
      ],
      "execution_count": 43,
      "outputs": [
        {
          "output_type": "stream",
          "text": [
            "last training loss = 0.0616\n",
            "last validation loss = 0.4492\n",
            "#-------------------------------------------------\n",
            "last train accuracy = 0.9975\n",
            "last validation accuracy = 0.8000\n"
          ],
          "name": "stdout"
        }
      ]
    },
    {
      "cell_type": "markdown",
      "metadata": {
        "id": "XKTY_W1wkXch",
        "colab_type": "text"
      },
      "source": [
        "## 7. Metrics on test set"
      ]
    },
    {
      "cell_type": "markdown",
      "metadata": {
        "id": "WWTIYqKlbLXi",
        "colab_type": "text"
      },
      "source": [
        "For this particular dataset, we will be using the validation set to calculate the performance metrics"
      ]
    },
    {
      "cell_type": "code",
      "metadata": {
        "id": "qJiD5v3Ir703",
        "colab_type": "code",
        "outputId": "4a63f116-e176-4b95-da0d-e968b170114d",
        "colab": {
          "base_uri": "https://localhost:8080/",
          "height": 143
        }
      },
      "source": [
        "# load model in CPU\n",
        "model.to('cpu');\n",
        "# evaluation mode\n",
        "model.eval()"
      ],
      "execution_count": 44,
      "outputs": [
        {
          "output_type": "execute_result",
          "data": {
            "text/plain": [
              "NN(\n",
              "  (dropout): Dropout(p=0.5, inplace=False)\n",
              "  (layer1): Linear(in_features=16461, out_features=600, bias=True)\n",
              "  (layer2): Linear(in_features=600, out_features=100, bias=True)\n",
              "  (layer3): Linear(in_features=100, out_features=2, bias=True)\n",
              ")"
            ]
          },
          "metadata": {
            "tags": []
          },
          "execution_count": 44
        }
      ]
    },
    {
      "cell_type": "code",
      "metadata": {
        "id": "4TuQISj8rUiG",
        "colab_type": "code",
        "colab": {}
      },
      "source": [
        "# y_true\n",
        "y_true = ds_valid[:][1]"
      ],
      "execution_count": 0,
      "outputs": []
    },
    {
      "cell_type": "code",
      "metadata": {
        "id": "6wXUcabMkQZE",
        "colab_type": "code",
        "colab": {}
      },
      "source": [
        "# y_pred\n",
        "score = 0.\n",
        "y_logitos = model(ds_valid[:][0])\n",
        "y_pred = torch.argmax(y_logitos, dim=1)"
      ],
      "execution_count": 0,
      "outputs": []
    },
    {
      "cell_type": "markdown",
      "metadata": {
        "id": "vvPMDpb8n32I",
        "colab_type": "text"
      },
      "source": [
        "### 7.1 Accuracy"
      ]
    },
    {
      "cell_type": "code",
      "metadata": {
        "id": "8w3ttQcyrXSw",
        "colab_type": "code",
        "outputId": "bb0bd380-5768-45f4-ef01-3f4db79ed849",
        "colab": {
          "base_uri": "https://localhost:8080/",
          "height": 38
        }
      },
      "source": [
        "# accuracy\n",
        "score += (y_true == y_pred).sum()\n",
        "acc_test = score / len(ds_valid[:][0])\n",
        "acc_test.item()"
      ],
      "execution_count": 47,
      "outputs": [
        {
          "output_type": "execute_result",
          "data": {
            "text/plain": [
              "0.800000011920929"
            ]
          },
          "metadata": {
            "tags": []
          },
          "execution_count": 47
        }
      ]
    },
    {
      "cell_type": "markdown",
      "metadata": {
        "id": "-20zJRKVn8tn",
        "colab_type": "text"
      },
      "source": [
        "### 7.2 Confusion matrix"
      ]
    },
    {
      "cell_type": "code",
      "metadata": {
        "id": "i9qPaBp7rF-R",
        "colab_type": "code",
        "colab": {}
      },
      "source": [
        "cm = confusion_matrix(y_true, y_pred)\n",
        "#classes = enc.get_feature_names()\n",
        "classes = ['negative', 'positive']"
      ],
      "execution_count": 0,
      "outputs": []
    },
    {
      "cell_type": "code",
      "metadata": {
        "id": "9v4ZvKB5nJ5J",
        "colab_type": "code",
        "outputId": "f97e33bf-0e64-4111-e8f8-3ba38ca01161",
        "colab": {
          "base_uri": "https://localhost:8080/",
          "height": 269
        }
      },
      "source": [
        "# CM raw\n",
        "cm_raw = print_confusion_matrix(cm, classes, title='Confusion Matrix', normalize=False, cmap=plt.cm.Blues, fontsize=10, figsize = (5,3))"
      ],
      "execution_count": 49,
      "outputs": [
        {
          "output_type": "display_data",
          "data": {
            "image/png": "[encoded data removed]",
            "text/plain": [
              "<Figure size 360x216 with 2 Axes>"
            ]
          },
          "metadata": {
            "tags": []
          }
        }
      ]
    },
    {
      "cell_type": "code",
      "metadata": {
        "id": "93uNywPSnwnJ",
        "colab_type": "code",
        "outputId": "02092e06-811c-46ce-c088-b453670cdb4b",
        "colab": {
          "base_uri": "https://localhost:8080/",
          "height": 269
        }
      },
      "source": [
        "# CM normalized\n",
        "cm_norm = print_confusion_matrix(cm, classes, title='Confusion Matrix normalized', normalize=True, cmap=plt.cm.Blues, fontsize=10, figsize = (5,3))"
      ],
      "execution_count": 50,
      "outputs": [
        {
          "output_type": "display_data",
          "data": {
            "image/png": "[encoded data removed]",
            "text/plain": [
              "<Figure size 360x216 with 2 Axes>"
            ]
          },
          "metadata": {
            "tags": []
          }
        }
      ]
    },
    {
      "cell_type": "markdown",
      "metadata": {
        "id": "I_SzvT7Tn1mx",
        "colab_type": "text"
      },
      "source": [
        "### 7.3 F1-score (macro, micro and weighted)"
      ]
    },
    {
      "cell_type": "code",
      "metadata": {
        "id": "PdsW-lsg52tF",
        "colab_type": "code",
        "colab": {}
      },
      "source": [
        "macro = f1_score(y_true, y_pred, average='macro')\n",
        "micro = f1_score(y_true, y_pred, average='micro')\n",
        "weighted = f1_score(y_true, y_pred, average='weighted')"
      ],
      "execution_count": 0,
      "outputs": []
    },
    {
      "cell_type": "code",
      "metadata": {
        "id": "AWnLOjG50mZ2",
        "colab_type": "code",
        "outputId": "5fd68030-0a02-4560-a82f-87e920d50a9c",
        "colab": {
          "base_uri": "https://localhost:8080/",
          "height": 80
        }
      },
      "source": [
        "print('F1-score macro =', macro)\n",
        "print('F1-score micro =', micro)\n",
        "print('F1-score weighted =', weighted)"
      ],
      "execution_count": 52,
      "outputs": [
        {
          "output_type": "stream",
          "text": [
            "F1-score macro = 0.7987117552334944\n",
            "F1-score micro = 0.8000000000000002\n",
            "F1-score weighted = 0.7998389694041868\n"
          ],
          "name": "stdout"
        }
      ]
    },
    {
      "cell_type": "markdown",
      "metadata": {
        "id": "o-ZMZrl5LT07",
        "colab_type": "text"
      },
      "source": [
        "### 7.4 Accuracy and Precision"
      ]
    },
    {
      "cell_type": "code",
      "metadata": {
        "id": "kC6rLq1RJTvf",
        "colab_type": "code",
        "colab": {}
      },
      "source": [
        "acc = accuracy_score(y_true, y_pred)\n",
        "prec = precision_score(y_true, y_pred, average='macro')"
      ],
      "execution_count": 0,
      "outputs": []
    },
    {
      "cell_type": "code",
      "metadata": {
        "id": "r1ZSEi0_LPoV",
        "colab_type": "code",
        "outputId": "c9e06779-4bcf-4bbb-dac4-4064d3002a39",
        "colab": {
          "base_uri": "https://localhost:8080/",
          "height": 59
        }
      },
      "source": [
        "print('Accuracy score = ', acc, sep='')\n",
        "print('Precision score = ', prec, sep='')"
      ],
      "execution_count": 54,
      "outputs": [
        {
          "output_type": "stream",
          "text": [
            "Accuracy score = 0.8\n",
            "Precision score = 0.7992741203750378\n"
          ],
          "name": "stdout"
        }
      ]
    },
    {
      "cell_type": "markdown",
      "metadata": {
        "id": "q45GvKDwPbri",
        "colab_type": "text"
      },
      "source": [
        "### 7.5 Precision, Recall and F1-Score for each class"
      ]
    },
    {
      "cell_type": "code",
      "metadata": {
        "id": "XKyQhAEbPcAz",
        "colab_type": "code",
        "outputId": "76a01e3e-9e21-4145-ee3f-f8c32856c8b8",
        "colab": {
          "base_uri": "https://localhost:8080/",
          "height": 206
        }
      },
      "source": [
        "from sklearn.metrics import classification_report as cr\n",
        "print(cr(y_true, y_pred))"
      ],
      "execution_count": 55,
      "outputs": [
        {
          "output_type": "stream",
          "text": [
            "              precision    recall  f1-score   support\n",
            "\n",
            "           0       0.81      0.82      0.81       107\n",
            "           1       0.79      0.77      0.78        93\n",
            "\n",
            "    accuracy                           0.80       200\n",
            "   macro avg       0.80      0.80      0.80       200\n",
            "weighted avg       0.80      0.80      0.80       200\n",
            "\n"
          ],
          "name": "stdout"
        }
      ]
    },
    {
      "cell_type": "markdown",
      "metadata": {
        "colab_type": "text",
        "id": "4Gof3OtwRik3"
      },
      "source": [
        "## 8. Repeat training using GloVe Word Embeddings"
      ]
    },
    {
      "cell_type": "code",
      "metadata": {
        "id": "BJdSpgbtRvzL",
        "colab_type": "code",
        "colab": {}
      },
      "source": [
        "TFIDF = False"
      ],
      "execution_count": 0,
      "outputs": []
    },
    {
      "cell_type": "code",
      "metadata": {
        "colab_type": "code",
        "id": "5l2ZdmpCRik8",
        "colab": {}
      },
      "source": [
        "if TFIDF:\n",
        "    # datasets using TF-IDF\n",
        "    ds_train = TensorDataset(X_train_tfidf, y_train)\n",
        "    ds_valid = TensorDataset(X_valid_tfidf, y_valid)\n",
        "else:\n",
        "    # dataset using Word Embeddings\n",
        "    ds_train = TensorDataset(X_train_emb, y_train)\n",
        "    ds_valid = TensorDataset(X_valid_emb, y_valid)"
      ],
      "execution_count": 0,
      "outputs": []
    },
    {
      "cell_type": "markdown",
      "metadata": {
        "colab_type": "text",
        "id": "rA6RvPb3RilA"
      },
      "source": [
        "### 8.1 Data loader"
      ]
    },
    {
      "cell_type": "code",
      "metadata": {
        "colab_type": "code",
        "id": "c470g6FYRilB",
        "colab": {}
      },
      "source": [
        "BATCH_SIZE = 100\n",
        "#-------------------------------------------------\n",
        "# training data loader\n",
        "dl_train = torch.utils.data.DataLoader(\n",
        "            dataset=ds_train, \n",
        "            drop_last = False,\n",
        "            shuffle = True,\n",
        "            batch_size = BATCH_SIZE)\n",
        "#-------------------------------------------------\n",
        "# validation data loader\n",
        "dl_valid =  torch.utils.data.DataLoader(\n",
        "            dataset = ds_valid,\n",
        "            drop_last = False,\n",
        "            shuffle = False,\n",
        "            batch_size = BATCH_SIZE)"
      ],
      "execution_count": 0,
      "outputs": []
    },
    {
      "cell_type": "markdown",
      "metadata": {
        "colab_type": "text",
        "id": "ua9MMSTgRilK"
      },
      "source": [
        "### 8.2 Network instantiation"
      ]
    },
    {
      "cell_type": "code",
      "metadata": {
        "colab_type": "code",
        "outputId": "bc68be94-52d6-44cd-cc06-6da336051790",
        "id": "DIa82OJlRilK",
        "colab": {
          "base_uri": "https://localhost:8080/",
          "height": 143
        }
      },
      "source": [
        "model_emb = NN(glove_embedding.dim, layer1_neurons=500, layer2_neurons=100)\n",
        "model_emb.to(device)"
      ],
      "execution_count": 59,
      "outputs": [
        {
          "output_type": "execute_result",
          "data": {
            "text/plain": [
              "NN(\n",
              "  (dropout): Dropout(p=0.5, inplace=False)\n",
              "  (layer1): Linear(in_features=300, out_features=500, bias=True)\n",
              "  (layer2): Linear(in_features=500, out_features=100, bias=True)\n",
              "  (layer3): Linear(in_features=100, out_features=2, bias=True)\n",
              ")"
            ]
          },
          "metadata": {
            "tags": []
          },
          "execution_count": 59
        }
      ]
    },
    {
      "cell_type": "markdown",
      "metadata": {
        "colab_type": "text",
        "id": "cN0SI3--RilQ"
      },
      "source": [
        "### 8.3 Network training"
      ]
    },
    {
      "cell_type": "markdown",
      "metadata": {
        "colab_type": "text",
        "id": "ZegMpJ8aTbLO"
      },
      "source": [
        "Training definitions"
      ]
    },
    {
      "cell_type": "code",
      "metadata": {
        "colab_type": "code",
        "id": "ZAWVcZ-eRilR",
        "colab": {}
      },
      "source": [
        "# Training parameters\n",
        "EPOCH = 1000\n",
        "LR = 0.01\n",
        "PATIENCE = 10\n",
        "loss_func = torch.nn.CrossEntropyLoss()\n",
        "opt = torch.optim.SGD(model_emb.parameters(), lr=LR)\n",
        "#-------------------\n",
        "best_valid_loss = 999_999.\n",
        "train_samples = len(ds_train)\n",
        "valid_samples = len(ds_valid)\n",
        "#-------------------\n",
        "trainer = TrainingLoop(device, model_emb, dl_train, loss_func, opt)\n",
        "validator = ValidatingLoop(device, model_emb, dl_valid, loss_func)\n",
        "#-------------------\n",
        "# loss history\n",
        "loss_train_his = []\n",
        "loss_valid_his = []\n",
        "acc_train_his = []\n",
        "acc_valid_his = []"
      ],
      "execution_count": 0,
      "outputs": []
    },
    {
      "cell_type": "markdown",
      "metadata": {
        "colab_type": "text",
        "id": "dpHa8ErIRilT"
      },
      "source": [
        "Training loop"
      ]
    },
    {
      "cell_type": "code",
      "metadata": {
        "colab_type": "code",
        "outputId": "f30f91c6-0b06-4d6a-98a2-ce431ee2c5f5",
        "id": "VIG9yyhwRilT",
        "colab": {
          "base_uri": "https://localhost:8080/",
          "height": 1000
        }
      },
      "source": [
        "for epoch in range(EPOCH):\n",
        "    # training\n",
        "    his_train = trainer()\n",
        "    loss_train_his.append(his_train[0])\n",
        "    acc_train_his.append(his_train[1] / train_samples)\n",
        "    #-------------------\n",
        "    # validating\n",
        "    his_valid = validator()\n",
        "    loss_valid_his.append(his_valid[0])\n",
        "    acc_valid_his.append(his_valid[1] / valid_samples)\n",
        "    #-------------------------------------------------\n",
        "    # early stopping: check if new validation accuracy occurred\n",
        "    if loss_valid_his[-1] < best_valid_loss:\n",
        "        # print('New best loss in validation set!', end=' ')\n",
        "        best_valid_loss = loss_valid_his[-1]\n",
        "        patience_counter = 0\n",
        "    else:\n",
        "        patience_counter += 1\n",
        "        if patience_counter == PATIENCE:\n",
        "            print('Early stopping:', PATIENCE, 'iterations without validation loss improve')\n",
        "            break\n",
        "    #-------------------------------------------------\n",
        "    if not (epoch % 10):\n",
        "        print('epoch =', epoch, end='; ')\n",
        "        print('loss_train = {0:.4f}'.format(loss_train_his[-1]), end='; ')\n",
        "        print('loss_val = {0:.4f}'.format(loss_valid_his[-1]), end='; ')\n",
        "        print('acc_train = {0:.4f}'.format(acc_train_his[-1]), end='; ')\n",
        "        print('acc_val = {0:.4f}'.format(acc_valid_his[-1]), end='\\n')"
      ],
      "execution_count": 61,
      "outputs": [
        {
          "output_type": "stream",
          "text": [
            "epoch = 0; loss_train = 0.6919; loss_val = 0.6908; acc_train = 0.5225; acc_val = 0.5350\n",
            "epoch = 10; loss_train = 0.6925; loss_val = 0.6905; acc_train = 0.5225; acc_val = 0.5350\n",
            "epoch = 20; loss_train = 0.6916; loss_val = 0.6902; acc_train = 0.5225; acc_val = 0.5350\n",
            "epoch = 30; loss_train = 0.6914; loss_val = 0.6898; acc_train = 0.5188; acc_val = 0.5350\n",
            "epoch = 40; loss_train = 0.6918; loss_val = 0.6894; acc_train = 0.5250; acc_val = 0.5350\n",
            "epoch = 50; loss_train = 0.6903; loss_val = 0.6890; acc_train = 0.5250; acc_val = 0.5350\n",
            "epoch = 60; loss_train = 0.6898; loss_val = 0.6885; acc_train = 0.5262; acc_val = 0.5350\n",
            "epoch = 70; loss_train = 0.6888; loss_val = 0.6879; acc_train = 0.5300; acc_val = 0.5350\n",
            "epoch = 80; loss_train = 0.6897; loss_val = 0.6874; acc_train = 0.5337; acc_val = 0.5350\n",
            "epoch = 90; loss_train = 0.6885; loss_val = 0.6868; acc_train = 0.5350; acc_val = 0.5350\n",
            "epoch = 100; loss_train = 0.6891; loss_val = 0.6862; acc_train = 0.5288; acc_val = 0.5350\n",
            "epoch = 110; loss_train = 0.6893; loss_val = 0.6855; acc_train = 0.5337; acc_val = 0.5350\n",
            "epoch = 120; loss_train = 0.6863; loss_val = 0.6848; acc_train = 0.5413; acc_val = 0.5350\n",
            "epoch = 130; loss_train = 0.6874; loss_val = 0.6839; acc_train = 0.5337; acc_val = 0.5350\n",
            "epoch = 140; loss_train = 0.6858; loss_val = 0.6830; acc_train = 0.5625; acc_val = 0.5350\n",
            "epoch = 150; loss_train = 0.6863; loss_val = 0.6820; acc_train = 0.5625; acc_val = 0.5350\n",
            "epoch = 160; loss_train = 0.6837; loss_val = 0.6809; acc_train = 0.5650; acc_val = 0.5350\n",
            "epoch = 170; loss_train = 0.6819; loss_val = 0.6797; acc_train = 0.5837; acc_val = 0.5400\n",
            "epoch = 180; loss_train = 0.6802; loss_val = 0.6784; acc_train = 0.5913; acc_val = 0.5450\n",
            "epoch = 190; loss_train = 0.6797; loss_val = 0.6768; acc_train = 0.5925; acc_val = 0.5500\n",
            "epoch = 200; loss_train = 0.6760; loss_val = 0.6752; acc_train = 0.6200; acc_val = 0.5650\n",
            "epoch = 210; loss_train = 0.6757; loss_val = 0.6734; acc_train = 0.6112; acc_val = 0.5750\n",
            "epoch = 220; loss_train = 0.6739; loss_val = 0.6712; acc_train = 0.6188; acc_val = 0.5850\n",
            "epoch = 230; loss_train = 0.6727; loss_val = 0.6691; acc_train = 0.6288; acc_val = 0.6050\n",
            "epoch = 240; loss_train = 0.6652; loss_val = 0.6664; acc_train = 0.6625; acc_val = 0.6250\n",
            "epoch = 250; loss_train = 0.6683; loss_val = 0.6635; acc_train = 0.6150; acc_val = 0.6350\n",
            "epoch = 260; loss_train = 0.6660; loss_val = 0.6603; acc_train = 0.6512; acc_val = 0.6850\n",
            "epoch = 270; loss_train = 0.6583; loss_val = 0.6565; acc_train = 0.6750; acc_val = 0.7000\n",
            "epoch = 280; loss_train = 0.6575; loss_val = 0.6523; acc_train = 0.6763; acc_val = 0.7150\n",
            "epoch = 290; loss_train = 0.6511; loss_val = 0.6476; acc_train = 0.6700; acc_val = 0.7350\n",
            "epoch = 300; loss_train = 0.6510; loss_val = 0.6427; acc_train = 0.6737; acc_val = 0.7550\n",
            "epoch = 310; loss_train = 0.6464; loss_val = 0.6370; acc_train = 0.6550; acc_val = 0.7600\n",
            "epoch = 320; loss_train = 0.6449; loss_val = 0.6306; acc_train = 0.6637; acc_val = 0.7700\n",
            "epoch = 330; loss_train = 0.6346; loss_val = 0.6238; acc_train = 0.6875; acc_val = 0.7700\n",
            "epoch = 340; loss_train = 0.6211; loss_val = 0.6162; acc_train = 0.7212; acc_val = 0.7750\n",
            "epoch = 350; loss_train = 0.6153; loss_val = 0.6085; acc_train = 0.7212; acc_val = 0.7700\n",
            "epoch = 360; loss_train = 0.6071; loss_val = 0.6003; acc_train = 0.7300; acc_val = 0.7850\n",
            "epoch = 370; loss_train = 0.6006; loss_val = 0.5915; acc_train = 0.7163; acc_val = 0.7900\n",
            "epoch = 380; loss_train = 0.5853; loss_val = 0.5826; acc_train = 0.7400; acc_val = 0.7850\n",
            "epoch = 390; loss_train = 0.5860; loss_val = 0.5737; acc_train = 0.7425; acc_val = 0.7850\n",
            "epoch = 400; loss_train = 0.5726; loss_val = 0.5649; acc_train = 0.7350; acc_val = 0.7950\n",
            "epoch = 410; loss_train = 0.5579; loss_val = 0.5566; acc_train = 0.7388; acc_val = 0.7950\n",
            "epoch = 420; loss_train = 0.5497; loss_val = 0.5482; acc_train = 0.7588; acc_val = 0.8050\n",
            "epoch = 430; loss_train = 0.5597; loss_val = 0.5404; acc_train = 0.7238; acc_val = 0.8000\n",
            "epoch = 440; loss_train = 0.5508; loss_val = 0.5331; acc_train = 0.7450; acc_val = 0.8200\n",
            "epoch = 450; loss_train = 0.5371; loss_val = 0.5263; acc_train = 0.7488; acc_val = 0.7950\n",
            "epoch = 460; loss_train = 0.5185; loss_val = 0.5195; acc_train = 0.7800; acc_val = 0.8250\n",
            "epoch = 470; loss_train = 0.5214; loss_val = 0.5136; acc_train = 0.7675; acc_val = 0.8250\n",
            "epoch = 480; loss_train = 0.5188; loss_val = 0.5075; acc_train = 0.7675; acc_val = 0.8250\n",
            "epoch = 490; loss_train = 0.5041; loss_val = 0.5024; acc_train = 0.7700; acc_val = 0.8250\n",
            "epoch = 500; loss_train = 0.4983; loss_val = 0.4991; acc_train = 0.7762; acc_val = 0.8150\n",
            "epoch = 510; loss_train = 0.4833; loss_val = 0.4927; acc_train = 0.7800; acc_val = 0.8300\n",
            "epoch = 520; loss_train = 0.4970; loss_val = 0.4888; acc_train = 0.7688; acc_val = 0.8400\n",
            "epoch = 530; loss_train = 0.4876; loss_val = 0.4870; acc_train = 0.7762; acc_val = 0.8150\n",
            "epoch = 540; loss_train = 0.4736; loss_val = 0.4818; acc_train = 0.7937; acc_val = 0.8350\n",
            "epoch = 550; loss_train = 0.4753; loss_val = 0.4765; acc_train = 0.7900; acc_val = 0.8350\n",
            "epoch = 560; loss_train = 0.4668; loss_val = 0.4748; acc_train = 0.7937; acc_val = 0.8400\n",
            "epoch = 570; loss_train = 0.4559; loss_val = 0.4696; acc_train = 0.7900; acc_val = 0.8350\n",
            "epoch = 580; loss_train = 0.4548; loss_val = 0.4664; acc_train = 0.8125; acc_val = 0.8400\n",
            "epoch = 590; loss_train = 0.4556; loss_val = 0.4648; acc_train = 0.7837; acc_val = 0.8300\n",
            "epoch = 600; loss_train = 0.4543; loss_val = 0.4612; acc_train = 0.7975; acc_val = 0.8450\n",
            "epoch = 610; loss_train = 0.4332; loss_val = 0.4616; acc_train = 0.8087; acc_val = 0.8250\n",
            "epoch = 620; loss_train = 0.4386; loss_val = 0.4560; acc_train = 0.8150; acc_val = 0.8250\n",
            "epoch = 630; loss_train = 0.4304; loss_val = 0.4539; acc_train = 0.8063; acc_val = 0.8250\n",
            "epoch = 640; loss_train = 0.4349; loss_val = 0.4512; acc_train = 0.8075; acc_val = 0.8350\n",
            "epoch = 650; loss_train = 0.4238; loss_val = 0.4518; acc_train = 0.8150; acc_val = 0.8300\n",
            "epoch = 660; loss_train = 0.4200; loss_val = 0.4473; acc_train = 0.8175; acc_val = 0.8200\n",
            "epoch = 670; loss_train = 0.4022; loss_val = 0.4449; acc_train = 0.8263; acc_val = 0.8250\n",
            "epoch = 680; loss_train = 0.4020; loss_val = 0.4466; acc_train = 0.8213; acc_val = 0.8250\n",
            "epoch = 690; loss_train = 0.4095; loss_val = 0.4445; acc_train = 0.8263; acc_val = 0.8300\n",
            "epoch = 700; loss_train = 0.3982; loss_val = 0.4408; acc_train = 0.8200; acc_val = 0.8250\n",
            "epoch = 710; loss_train = 0.3871; loss_val = 0.4419; acc_train = 0.8438; acc_val = 0.8250\n",
            "epoch = 720; loss_train = 0.3969; loss_val = 0.4376; acc_train = 0.8450; acc_val = 0.8150\n",
            "epoch = 730; loss_train = 0.3813; loss_val = 0.4378; acc_train = 0.8387; acc_val = 0.8200\n",
            "epoch = 740; loss_train = 0.3810; loss_val = 0.4418; acc_train = 0.8337; acc_val = 0.8150\n",
            "Early stopping: 10 iterations without validation loss improve\n"
          ],
          "name": "stdout"
        }
      ]
    },
    {
      "cell_type": "markdown",
      "metadata": {
        "colab_type": "text",
        "id": "gbVbjtscRilW"
      },
      "source": [
        "### 8.4 Training evaluation"
      ]
    },
    {
      "cell_type": "markdown",
      "metadata": {
        "colab_type": "text",
        "id": "vthR_FNpRilW"
      },
      "source": [
        "Training Loss"
      ]
    },
    {
      "cell_type": "code",
      "metadata": {
        "colab_type": "code",
        "outputId": "acd761cc-6e21-4556-c90f-9e469ccfde24",
        "id": "BU3NZZrYRilX",
        "colab": {
          "base_uri": "https://localhost:8080/",
          "height": 295
        }
      },
      "source": [
        "# plot training and validation loss\n",
        "plt.plot(loss_train_his, label='training loss', color='blue')\n",
        "plt.plot(loss_valid_his, label='validation loss', color='red')\n",
        "#-------------------------------------------------\n",
        "# axis label\n",
        "plt.xlabel('Epochs')\n",
        "plt.ylabel('CE Loss')\n",
        "# title\n",
        "plt.title('Loss progression')\n",
        "#-------------------------------------------------\n",
        "plt.autoscale(axis='x', tight=True) # axis adjust\n",
        "plt.grid(True) # add grid\n",
        "#plt.legend() # add legend\n",
        "plt.show()"
      ],
      "execution_count": 62,
      "outputs": [
        {
          "output_type": "display_data",
          "data": {
            "image/png": "[encoded data removed]",
            "text/plain": [
              "<Figure size 432x288 with 1 Axes>"
            ]
          },
          "metadata": {
            "tags": []
          }
        }
      ]
    },
    {
      "cell_type": "markdown",
      "metadata": {
        "colab_type": "text",
        "id": "an4s72_4Rilc"
      },
      "source": [
        "Zoom at the minimum of CE loss curve"
      ]
    },
    {
      "cell_type": "code",
      "metadata": {
        "colab_type": "code",
        "outputId": "62309bcc-8932-44c6-f480-6a5c6a57ed15",
        "id": "eehL_eDtRild",
        "colab": {
          "base_uri": "https://localhost:8080/",
          "height": 316
        }
      },
      "source": [
        "BEST_EPOCH = loss_valid_his.index(min(loss_valid_his)) + 1\n",
        "print('Epoch with minimum validation loss =', BEST_EPOCH)\n",
        "#-------------------------------------------------\n",
        "# plots\n",
        "plt.plot(range(max(1,BEST_EPOCH-2),min(EPOCH,BEST_EPOCH+3)), loss_valid_his[max(1,BEST_EPOCH-3):min(EPOCH-1,BEST_EPOCH+2)], 'green')\n",
        "plt.xlabel('Epochs')\n",
        "plt.ylabel('CE loss')\n",
        "plt.autoscale(axis='x', tight=True)\n",
        "plt.title('Progression of validation loss acording to epochs')\n",
        "plt.grid(True)\n",
        "plt.show()"
      ],
      "execution_count": 63,
      "outputs": [
        {
          "output_type": "stream",
          "text": [
            "Epoch with minimum validation loss = 737\n"
          ],
          "name": "stdout"
        },
        {
          "output_type": "display_data",
          "data": {
            "image/png": "[encoded data removed]",
            "text/plain": [
              "<Figure size 432x288 with 1 Axes>"
            ]
          },
          "metadata": {
            "tags": []
          }
        }
      ]
    },
    {
      "cell_type": "markdown",
      "metadata": {
        "id": "UPokpbWebm0I",
        "colab_type": "text"
      },
      "source": [
        "Accuracy"
      ]
    },
    {
      "cell_type": "code",
      "metadata": {
        "id": "8fTHH6vmbnC0",
        "colab_type": "code",
        "colab": {
          "base_uri": "https://localhost:8080/",
          "height": 295
        },
        "outputId": "70b0742e-8898-40e3-bff9-980c742d8efc"
      },
      "source": [
        "# plot training and validation accuracy\n",
        "plt.plot(acc_train_his, label='training accuracy', color='blue')\n",
        "plt.plot(acc_valid_his, label='validation accuracy', color='red')\n",
        "#-------------------------------------------------\n",
        "# axis label\n",
        "plt.xlabel('Epochs')\n",
        "plt.ylabel('Accuracy')\n",
        "# title\n",
        "plt.title('Accuracy progression')\n",
        "#-------------------------------------------------\n",
        "plt.autoscale(axis='x', tight=True) # axis adjust\n",
        "plt.grid(True) # add grid\n",
        "plt.legend() # add legend\n",
        "plt.show()"
      ],
      "execution_count": 65,
      "outputs": [
        {
          "output_type": "display_data",
          "data": {
            "image/png": "[encoded data removed]",
            "text/plain": [
              "<Figure size 432x288 with 1 Axes>"
            ]
          },
          "metadata": {
            "tags": []
          }
        }
      ]
    },
    {
      "cell_type": "markdown",
      "metadata": {
        "colab_type": "text",
        "id": "BcTOEUxcRilf"
      },
      "source": [
        "Print the final values of the main training monitoring variables:"
      ]
    },
    {
      "cell_type": "code",
      "metadata": {
        "colab_type": "code",
        "outputId": "2f5c0b08-bd41-4840-8cca-3e894dc26c5b",
        "id": "XwXXT3moRilf",
        "colab": {
          "base_uri": "https://localhost:8080/",
          "height": 122
        }
      },
      "source": [
        "print('last training loss = {0:.4f}'.format(loss_train_his[-1]))\n",
        "print('last validation loss = {0:.4f}'.format(loss_valid_his[-1]))\n",
        "print('#-------------------------------------------------')\n",
        "print('last train accuracy = {0:.4f}'.format(acc_train_his[-1]))\n",
        "print('last validation accuracy = {0:.4f}'.format(acc_valid_his[-1]))"
      ],
      "execution_count": 66,
      "outputs": [
        {
          "output_type": "stream",
          "text": [
            "last training loss = 0.3834\n",
            "last validation loss = 0.4358\n",
            "#-------------------------------------------------\n",
            "last train accuracy = 0.8337\n",
            "last validation accuracy = 0.8100\n"
          ],
          "name": "stdout"
        }
      ]
    },
    {
      "cell_type": "markdown",
      "metadata": {
        "colab_type": "text",
        "id": "wzEI8jClRilh"
      },
      "source": [
        "### 8.5. Metrics on test set"
      ]
    },
    {
      "cell_type": "markdown",
      "metadata": {
        "colab_type": "text",
        "id": "w8dAhkClRili"
      },
      "source": [
        "For this particular dataset, we will be using the validation set to calculate the performance metrics"
      ]
    },
    {
      "cell_type": "code",
      "metadata": {
        "colab_type": "code",
        "outputId": "286a8c2b-bc1d-4103-c7c1-1a95ccfad7c2",
        "id": "RbmBhiyARili",
        "colab": {
          "base_uri": "https://localhost:8080/",
          "height": 143
        }
      },
      "source": [
        "# load model in CPU\n",
        "model_emb.to('cpu');\n",
        "# evaluation mode\n",
        "model_emb.eval()"
      ],
      "execution_count": 67,
      "outputs": [
        {
          "output_type": "execute_result",
          "data": {
            "text/plain": [
              "NN(\n",
              "  (dropout): Dropout(p=0.5, inplace=False)\n",
              "  (layer1): Linear(in_features=300, out_features=500, bias=True)\n",
              "  (layer2): Linear(in_features=500, out_features=100, bias=True)\n",
              "  (layer3): Linear(in_features=100, out_features=2, bias=True)\n",
              ")"
            ]
          },
          "metadata": {
            "tags": []
          },
          "execution_count": 67
        }
      ]
    },
    {
      "cell_type": "code",
      "metadata": {
        "colab_type": "code",
        "id": "MU8baXpeRilk",
        "colab": {}
      },
      "source": [
        "# y_true\n",
        "y_true = ds_valid[:][1]"
      ],
      "execution_count": 0,
      "outputs": []
    },
    {
      "cell_type": "code",
      "metadata": {
        "colab_type": "code",
        "id": "9P3gZsoxRilm",
        "colab": {}
      },
      "source": [
        "# y_pred\n",
        "score = 0.\n",
        "y_logitos = model_emb(ds_valid[:][0])\n",
        "y_pred = torch.argmax(y_logitos, dim=1)"
      ],
      "execution_count": 0,
      "outputs": []
    },
    {
      "cell_type": "markdown",
      "metadata": {
        "colab_type": "text",
        "id": "1xhl2R--Rilp"
      },
      "source": [
        "Accuracy"
      ]
    },
    {
      "cell_type": "code",
      "metadata": {
        "colab_type": "code",
        "outputId": "ac97a63e-bad4-4258-8f55-89bed65155f7",
        "id": "6q70vuSuRilp",
        "colab": {
          "base_uri": "https://localhost:8080/",
          "height": 38
        }
      },
      "source": [
        "# accuracy\n",
        "score += (y_true == y_pred).sum()\n",
        "acc_test = score / len(ds_valid[:][0])\n",
        "acc_test.item()"
      ],
      "execution_count": 70,
      "outputs": [
        {
          "output_type": "execute_result",
          "data": {
            "text/plain": [
              "0.8100000023841858"
            ]
          },
          "metadata": {
            "tags": []
          },
          "execution_count": 70
        }
      ]
    },
    {
      "cell_type": "markdown",
      "metadata": {
        "colab_type": "text",
        "id": "YoMbHJfcRilr"
      },
      "source": [
        "Confusion matrix"
      ]
    },
    {
      "cell_type": "code",
      "metadata": {
        "colab_type": "code",
        "id": "uVVJhl4FRils",
        "colab": {}
      },
      "source": [
        "cm = confusion_matrix(y_true, y_pred)\n",
        "#classes = enc.get_feature_names()\n",
        "classes = ['negative', 'positive']"
      ],
      "execution_count": 0,
      "outputs": []
    },
    {
      "cell_type": "code",
      "metadata": {
        "colab_type": "code",
        "outputId": "4279cfb2-7bd4-4335-b8d6-d90653b5b1bc",
        "id": "8-GkLUOKRilu",
        "colab": {
          "base_uri": "https://localhost:8080/",
          "height": 269
        }
      },
      "source": [
        "# CM raw\n",
        "cm_raw = print_confusion_matrix(cm, classes, title='Confusion Matrix', normalize=False, cmap=plt.cm.Reds, fontsize=10, figsize = (5,3))"
      ],
      "execution_count": 72,
      "outputs": [
        {
          "output_type": "display_data",
          "data": {
            "image/png": "[encoded data removed]",
            "text/plain": [
              "<Figure size 360x216 with 2 Axes>"
            ]
          },
          "metadata": {
            "tags": []
          }
        }
      ]
    },
    {
      "cell_type": "code",
      "metadata": {
        "colab_type": "code",
        "outputId": "4b049181-c9ad-437f-fd51-8b9da1ad4643",
        "id": "XSDkCbeyRilw",
        "colab": {
          "base_uri": "https://localhost:8080/",
          "height": 269
        }
      },
      "source": [
        "# CM normalized\n",
        "cm_norm = print_confusion_matrix(cm, classes, title='Confusion Matrix normalized', normalize=True, cmap=plt.cm.Reds, fontsize=10, figsize = (5,3))"
      ],
      "execution_count": 73,
      "outputs": [
        {
          "output_type": "display_data",
          "data": {
            "image/png": "[encoded data removed]",
            "text/plain": [
              "<Figure size 360x216 with 2 Axes>"
            ]
          },
          "metadata": {
            "tags": []
          }
        }
      ]
    },
    {
      "cell_type": "markdown",
      "metadata": {
        "colab_type": "text",
        "id": "HZztmQ02Rily"
      },
      "source": [
        "F1-score (macro, micro and weighted)"
      ]
    },
    {
      "cell_type": "code",
      "metadata": {
        "colab_type": "code",
        "id": "isGWmeUYRily",
        "colab": {}
      },
      "source": [
        "macro = f1_score(y_true, y_pred, average='macro')\n",
        "micro = f1_score(y_true, y_pred, average='micro')\n",
        "weighted = f1_score(y_true, y_pred, average='weighted')"
      ],
      "execution_count": 0,
      "outputs": []
    },
    {
      "cell_type": "code",
      "metadata": {
        "colab_type": "code",
        "outputId": "6cb41085-a722-4374-9ad9-ef792fa3f882",
        "id": "kfYdd2v3Ril0",
        "colab": {
          "base_uri": "https://localhost:8080/",
          "height": 80
        }
      },
      "source": [
        "print('F1-score macro =', macro)\n",
        "print('F1-score micro =', micro)\n",
        "print('F1-score weighted =', weighted)"
      ],
      "execution_count": 75,
      "outputs": [
        {
          "output_type": "stream",
          "text": [
            "F1-score macro = 0.8076728413807066\n",
            "F1-score micro = 0.81\n",
            "F1-score weighted = 0.8091537605020753\n"
          ],
          "name": "stdout"
        }
      ]
    },
    {
      "cell_type": "markdown",
      "metadata": {
        "colab_type": "text",
        "id": "fF9A6wBGRil4"
      },
      "source": [
        "Accuracy and Precision"
      ]
    },
    {
      "cell_type": "code",
      "metadata": {
        "colab_type": "code",
        "id": "gRe1Zl69Ril5",
        "colab": {}
      },
      "source": [
        "acc = accuracy_score(y_true, y_pred)\n",
        "prec = precision_score(y_true, y_pred, average='macro')"
      ],
      "execution_count": 0,
      "outputs": []
    },
    {
      "cell_type": "code",
      "metadata": {
        "colab_type": "code",
        "outputId": "d0bf313f-082e-48ac-e189-00a9cd2e42be",
        "id": "NaO7RxcfRil7",
        "colab": {
          "base_uri": "https://localhost:8080/",
          "height": 59
        }
      },
      "source": [
        "print('Accuracy score = ', acc, sep='')\n",
        "print('Precision score = ', prec, sep='')"
      ],
      "execution_count": 77,
      "outputs": [
        {
          "output_type": "stream",
          "text": [
            "Accuracy score = 0.81\n",
            "Precision score = 0.8117647058823529\n"
          ],
          "name": "stdout"
        }
      ]
    },
    {
      "cell_type": "markdown",
      "metadata": {
        "colab_type": "text",
        "id": "NgOTwSC5Ril9"
      },
      "source": [
        "Precision, Recall and F1-Score for each class"
      ]
    },
    {
      "cell_type": "code",
      "metadata": {
        "colab_type": "code",
        "outputId": "9bbd7a45-67d2-447c-918f-4ba72ba1ada8",
        "id": "PaaouDS7Ril9",
        "colab": {
          "base_uri": "https://localhost:8080/",
          "height": 206
        }
      },
      "source": [
        "from sklearn.metrics import classification_report as cr\n",
        "print(cr(y_true, y_pred))"
      ],
      "execution_count": 78,
      "outputs": [
        {
          "output_type": "stream",
          "text": [
            "              precision    recall  f1-score   support\n",
            "\n",
            "           0       0.80      0.86      0.83       107\n",
            "           1       0.82      0.75      0.79        93\n",
            "\n",
            "    accuracy                           0.81       200\n",
            "   macro avg       0.81      0.81      0.81       200\n",
            "weighted avg       0.81      0.81      0.81       200\n",
            "\n"
          ],
          "name": "stdout"
        }
      ]
    },
    {
      "cell_type": "markdown",
      "metadata": {
        "id": "yLdo6-mrdClK",
        "colab_type": "text"
      },
      "source": [
        "## 9. Number of parameters"
      ]
    },
    {
      "cell_type": "markdown",
      "metadata": {
        "id": "4yLv4Uc_dOjj",
        "colab_type": "text"
      },
      "source": [
        "### 9.1 TF-IDF"
      ]
    },
    {
      "cell_type": "code",
      "metadata": {
        "id": "XX0qhxPDdIon",
        "colab_type": "code",
        "colab": {
          "base_uri": "https://localhost:8080/",
          "height": 164
        },
        "outputId": "bce73f12-d3ce-49b8-99d2-15e4f0d0a867"
      },
      "source": [
        "nparam(model, verbose=True)"
      ],
      "execution_count": 79,
      "outputs": [
        {
          "output_type": "stream",
          "text": [
            "layer 0: layer1.weight; parameters: 9876600\n",
            "layer 1: layer1.bias; parameters: 600\n",
            "layer 2: layer2.weight; parameters: 60000\n",
            "layer 3: layer2.bias; parameters: 100\n",
            "layer 4: layer3.weight; parameters: 200\n",
            "layer 5: layer3.bias; parameters: 2\n",
            "total parameters =  9937502\n"
          ],
          "name": "stdout"
        }
      ]
    },
    {
      "cell_type": "markdown",
      "metadata": {
        "id": "mLqX6R2sdSJH",
        "colab_type": "text"
      },
      "source": [
        "### 9.2 GloVe word embeddings"
      ]
    },
    {
      "cell_type": "code",
      "metadata": {
        "id": "wjD8hpKLdRip",
        "colab_type": "code",
        "colab": {
          "base_uri": "https://localhost:8080/",
          "height": 164
        },
        "outputId": "525b9330-d54b-4ade-999d-3d442a4833f1"
      },
      "source": [
        "nparam(model_emb, verbose=True)"
      ],
      "execution_count": 80,
      "outputs": [
        {
          "output_type": "stream",
          "text": [
            "layer 0: layer1.weight; parameters: 150000\n",
            "layer 1: layer1.bias; parameters: 500\n",
            "layer 2: layer2.weight; parameters: 50000\n",
            "layer 3: layer2.bias; parameters: 100\n",
            "layer 4: layer3.weight; parameters: 200\n",
            "layer 5: layer3.bias; parameters: 2\n",
            "total parameters =  200802\n"
          ],
          "name": "stdout"
        }
      ]
    },
    {
      "cell_type": "markdown",
      "metadata": {
        "colab_type": "text",
        "id": "PtuXpG9wRimA"
      },
      "source": [
        "## End of the notebook"
      ]
    }
  ]
}