{
  "nbformat": 4,
  "nbformat_minor": 0,
  "metadata": {
    "colab": {
      "provenance": [],
      "collapsed_sections": []
    },
    "kernelspec": {
      "name": "gophernotes",
      "display_name": "Go"
    }
  },
  "cells": [
    {
      "cell_type": "code",
      "metadata": {
        "id": "caT1iMfshw62",
        "colab": {
          "base_uri": "https://localhost:8080/"
        },
        "outputId": "57f50114-174b-487d-f750-6686c938676e"
      },
      "source": [
        "# run this cell first time using python runtime\n",
        "!add-apt-repository ppa:longsleep/golang-backports -y\n",
        "!apt update\n",
        "!apt install golang-go\n",
        "%env GOPATH=/root/go\n",
        "!go get -u github.com/gopherdata/gophernotes\n",
        "!cp ~/go/bin/gophernotes /usr/bin/\n",
        "!npx degit gopherdata/gophernotes/kernel \\\n",
        "     /usr/local/share/jupyter/kernels/gophernotes\n",
        "# then refresh, it will now use gophernotes. Skip to golang in later cells"
      ],
      "execution_count": null,
      "outputs": [
        {
          "output_type": "stream",
          "name": "stdout",
          "text": [
            "Ign:1 https://developer.download.nvidia.com/compute/cuda/repos/ubuntu1804/x86_64  InRelease\n",
            "Get:2 https://cloud.r-project.org/bin/linux/ubuntu bionic-cran40/ InRelease [3,626 B]\n",
            "Ign:3 https://developer.download.nvidia.com/compute/machine-learning/repos/ubuntu1804/x86_64  InRelease\n",
            "Hit:4 http://archive.ubuntu.com/ubuntu bionic InRelease\n",
            "Hit:5 https://developer.download.nvidia.com/compute/cuda/repos/ubuntu1804/x86_64  Release\n",
            "Get:6 http://ppa.launchpad.net/c2d4u.team/c2d4u4.0+/ubuntu bionic InRelease [15.9 kB]\n",
            "Get:7 http://security.ubuntu.com/ubuntu bionic-security InRelease [88.7 kB]\n",
            "Hit:8 https://developer.download.nvidia.com/compute/machine-learning/repos/ubuntu1804/x86_64  Release\n",
            "Get:9 http://archive.ubuntu.com/ubuntu bionic-updates InRelease [88.7 kB]\n",
            "Hit:10 http://ppa.launchpad.net/cran/libgit2/ubuntu bionic InRelease\n",
            "Get:11 http://archive.ubuntu.com/ubuntu bionic-backports InRelease [74.6 kB]\n",
            "Hit:12 http://ppa.launchpad.net/deadsnakes/ppa/ubuntu bionic InRelease\n",
            "Hit:13 http://ppa.launchpad.net/graphics-drivers/ppa/ubuntu bionic InRelease\n",
            "Get:15 http://ppa.launchpad.net/longsleep/golang-backports/ubuntu bionic InRelease [15.4 kB]\n",
            "Get:17 http://ppa.launchpad.net/c2d4u.team/c2d4u4.0+/ubuntu bionic/main Sources [1,827 kB]\n",
            "Get:18 http://security.ubuntu.com/ubuntu bionic-security/universe amd64 Packages [1,479 kB]\n",
            "Get:19 http://archive.ubuntu.com/ubuntu bionic-updates/universe amd64 Packages [2,257 kB]\n",
            "Get:20 http://security.ubuntu.com/ubuntu bionic-security/main amd64 Packages [2,628 kB]\n",
            "Get:21 http://ppa.launchpad.net/c2d4u.team/c2d4u4.0+/ubuntu bionic/main amd64 Packages [936 kB]\n",
            "Get:22 http://archive.ubuntu.com/ubuntu bionic-updates/main amd64 Packages [3,067 kB]\n",
            "Get:23 http://ppa.launchpad.net/longsleep/golang-backports/ubuntu bionic/main amd64 Packages [7,201 B]\n",
            "Fetched 12.5 MB in 4s (3,169 kB/s)\n",
            "Reading package lists... Done\n",
            "Hit:1 http://security.ubuntu.com/ubuntu bionic-security InRelease\n",
            "Hit:2 https://cloud.r-project.org/bin/linux/ubuntu bionic-cran40/ InRelease\n",
            "Ign:3 https://developer.download.nvidia.com/compute/cuda/repos/ubuntu1804/x86_64  InRelease\n",
            "Ign:4 https://developer.download.nvidia.com/compute/machine-learning/repos/ubuntu1804/x86_64  InRelease\n",
            "Hit:5 https://developer.download.nvidia.com/compute/cuda/repos/ubuntu1804/x86_64  Release\n",
            "Hit:6 http://ppa.launchpad.net/c2d4u.team/c2d4u4.0+/ubuntu bionic InRelease\n",
            "Hit:7 https://developer.download.nvidia.com/compute/machine-learning/repos/ubuntu1804/x86_64  Release\n",
            "Hit:8 http://archive.ubuntu.com/ubuntu bionic InRelease\n",
            "Hit:9 http://archive.ubuntu.com/ubuntu bionic-updates InRelease\n",
            "Hit:10 http://ppa.launchpad.net/cran/libgit2/ubuntu bionic InRelease\n",
            "Hit:11 http://archive.ubuntu.com/ubuntu bionic-backports InRelease\n",
            "Hit:12 http://ppa.launchpad.net/deadsnakes/ppa/ubuntu bionic InRelease\n",
            "Hit:13 http://ppa.launchpad.net/graphics-drivers/ppa/ubuntu bionic InRelease\n",
            "Hit:14 http://ppa.launchpad.net/longsleep/golang-backports/ubuntu bionic InRelease\n",
            "Reading package lists... Done\n",
            "Building dependency tree       \n",
            "Reading state information... Done\n",
            "52 packages can be upgraded. Run 'apt list --upgradable' to see them.\n",
            "Reading package lists... Done\n",
            "Building dependency tree       \n",
            "Reading state information... Done\n",
            "The following additional packages will be installed:\n",
            "  golang-1.17-go golang-1.17-src golang-src\n",
            "Suggested packages:\n",
            "  bzr | brz mercurial subversion\n",
            "The following NEW packages will be installed:\n",
            "  golang-1.17-go golang-1.17-src golang-go golang-src\n",
            "0 upgraded, 4 newly installed, 0 to remove and 52 not upgraded.\n",
            "Need to get 71.9 MB of archives.\n",
            "After this operation, 424 MB of additional disk space will be used.\n",
            "Get:1 http://ppa.launchpad.net/longsleep/golang-backports/ubuntu bionic/main amd64 golang-1.17-src all 1.17.8-1longsleep1+focal [15.2 MB]\n",
            "Get:2 http://ppa.launchpad.net/longsleep/golang-backports/ubuntu bionic/main amd64 golang-1.17-go amd64 1.17.8-1longsleep1+focal [56.6 MB]\n",
            "Get:3 http://ppa.launchpad.net/longsleep/golang-backports/ubuntu bionic/main amd64 golang-src amd64 2:1.17~1longsleep1 [5,056 B]\n",
            "Get:4 http://ppa.launchpad.net/longsleep/golang-backports/ubuntu bionic/main amd64 golang-go amd64 2:1.17~1longsleep1 [24.1 kB]\n",
            "Fetched 71.9 MB in 5s (13.7 MB/s)\n",
            "Selecting previously unselected package golang-1.17-src.\n",
            "(Reading database ... 155335 files and directories currently installed.)\n",
            "Preparing to unpack .../golang-1.17-src_1.17.8-1longsleep1+focal_all.deb ...\n",
            "Unpacking golang-1.17-src (1.17.8-1longsleep1+focal) ...\n",
            "Selecting previously unselected package golang-1.17-go.\n",
            "Preparing to unpack .../golang-1.17-go_1.17.8-1longsleep1+focal_amd64.deb ...\n",
            "Unpacking golang-1.17-go (1.17.8-1longsleep1+focal) ...\n",
            "Selecting previously unselected package golang-src:amd64.\n",
            "Preparing to unpack .../golang-src_2%3a1.17~1longsleep1_amd64.deb ...\n",
            "Unpacking golang-src:amd64 (2:1.17~1longsleep1) ...\n",
            "Selecting previously unselected package golang-go.\n",
            "Preparing to unpack .../golang-go_2%3a1.17~1longsleep1_amd64.deb ...\n",
            "Unpacking golang-go (2:1.17~1longsleep1) ...\n",
            "Setting up golang-1.17-src (1.17.8-1longsleep1+focal) ...\n",
            "Setting up golang-src:amd64 (2:1.17~1longsleep1) ...\n",
            "Setting up golang-1.17-go (1.17.8-1longsleep1+focal) ...\n",
            "Setting up golang-go (2:1.17~1longsleep1) ...\n",
            "Processing triggers for man-db (2.8.3-2ubuntu0.1) ...\n",
            "env: GOPATH=/root/go\n",
            "go: downloading github.com/gopherdata/gophernotes v0.7.4\n",
            "go: downloading github.com/cosmos72/gomacro v0.0.0-20220109145729-f19a149b3738\n",
            "go: downloading github.com/cosmos72/gomacro v0.0.0-20220226114457-23a0d19a6b1e\n",
            "go: downloading github.com/go-zeromq/zmq4 v0.13.0\n",
            "go: downloading github.com/go-zeromq/zmq4 v0.14.1\n",
            "go: downloading github.com/gofrs/uuid v4.2.0+incompatible\n",
            "go: downloading golang.org/x/xerrors v0.0.0-20200804184101-5ec99f83aff1\n",
            "go: downloading github.com/peterh/liner v1.2.1\n",
            "go: downloading github.com/peterh/liner v1.2.2\n",
            "go: downloading github.com/go-zeromq/goczmq/v4 v4.2.2\n",
            "go: downloading github.com/go-zeromq/goczmq v4.1.0+incompatible\n",
            "go: downloading golang.org/x/sync v0.0.0-20210220032951-036812b2e83c\n",
            "go: downloading golang.org/x/tools v0.1.8\n",
            "go: downloading github.com/mattn/go-runewidth v0.0.13\n",
            "go: downloading golang.org/x/tools v0.1.10\n",
            "go: downloading github.com/rivo/uniseg v0.2.0\n",
            "go: downloading golang.org/x/sys v0.0.0-20211019181941-9d821ace8654\n",
            "go: downloading golang.org/x/sys v0.0.0-20220315194320-039c03cc5b86\n",
            "go: downloading golang.org/x/mod v0.5.1\n",
            "go: downloading golang.org/x/mod v0.6.0-dev.0.20220106191415-9b9b3d81d5e3\n",
            "go get: installing executables with 'go get' in module mode is deprecated.\n",
            "\tUse 'go install pkg@version' instead.\n",
            "\tFor more information, see https://golang.org/doc/go-get-install-deprecation\n",
            "\tor run 'go help get' or 'go help install'.\n",
            "\u001b[K\u001b[?25hnpx: installed 1 in 2.517s\n",
            "\u001b[36m> cloned \u001b[1mgopherdata/gophernotes\u001b[22m#\u001b[1mHEAD\u001b[22m to /usr/local/share/jupyter/kernels/gophernotes\u001b[39m\n"
          ]
        }
      ]
    },
    {
      "cell_type": "code",
      "metadata": {
        "id": "T0GlicFaQ0oo",
        "colab": {
          "base_uri": "https://localhost:8080/"
        },
        "outputId": "e83c8a7d-0c7c-42af-b717-471abafa6bf6"
      },
      "source": [
        "1+1"
      ],
      "execution_count": null,
      "outputs": [
        {
          "output_type": "execute_result",
          "data": {
            "text/plain": [
              "2"
            ]
          },
          "metadata": {},
          "execution_count": 1
        }
      ]
    },
    {
      "cell_type": "code",
      "metadata": {
        "id": "dv29Doq9azBC",
        "colab": {
          "base_uri": "https://localhost:8080/"
        },
        "outputId": "7da09e91-0bd9-4020-e3e5-2f53eb9db457"
      },
      "source": [
        "print(\"Hello\", \"World\")"
      ],
      "execution_count": null,
      "outputs": [
        {
          "output_type": "stream",
          "name": "stderr",
          "text": [
            "HelloWorld"
          ]
        }
      ]
    },
    {
      "cell_type": "code",
      "metadata": {
        "id": "iU0OKR8Natzl",
        "colab": {
          "base_uri": "https://localhost:8080/",
          "height": 34
        },
        "outputId": "f390ae94-981b-4d37-b5b3-a01ef0da9988"
      },
      "source": [
        "display.HTML(\"<b>Hello, World</b>\")"
      ],
      "execution_count": null,
      "outputs": [
        {
          "output_type": "execute_result",
          "data": {
            "text/html": [
              "<b>Hello, World</b>"
            ],
            "text/plain": [
              "<b>Hello, World</b>"
            ]
          },
          "metadata": {},
          "execution_count": 3
        }
      ]
    },
    {
      "cell_type": "code",
      "source": [],
      "metadata": {
        "id": "m28PvITnkCUV"
      },
      "execution_count": null,
      "outputs": []
    }
  ]
}