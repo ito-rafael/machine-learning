{
  "nbformat": 4,
  "nbformat_minor": 0,
  "metadata": {
    "colab": {
      "name": "(Rafael Ito) MNIST_CNN - from template.ipynb",
      "provenance": [],
      "collapsed_sections": []
    },
    "kernelspec": {
      "name": "python3",
      "display_name": "Python 3"
    }
  },
  "cells": [
    {
      "cell_type": "markdown",
      "metadata": {
        "id": "aibQMqn3rEp8",
        "colab_type": "text"
      },
      "source": [
        "# MNIST with CNN"
      ]
    },
    {
      "cell_type": "markdown",
      "metadata": {
        "id": "399F2GKforfi",
        "colab_type": "text"
      },
      "source": [
        "Author: **Rafael Ito**  \n",
        "e-mail: ito.rafael@gmail.com"
      ]
    },
    {
      "cell_type": "markdown",
      "metadata": {
        "id": "eV7swfVuBvgm",
        "colab_type": "text"
      },
      "source": [
        "## 0. Dataset and Description\n",
        "\n",
        "**Name:**  \n",
        "**Description:** this notebook uses the MNIST database to perform a supervised learning with the aim of image classification of handwritten digits."
      ]
    },
    {
      "cell_type": "markdown",
      "metadata": {
        "id": "ZnLtgkmhr0y0",
        "colab_type": "text"
      },
      "source": [
        "## 1. Libraries and packages"
      ]
    },
    {
      "cell_type": "code",
      "metadata": {
        "id": "44YWHZaqwDo4",
        "colab_type": "code",
        "colab": {}
      },
      "source": [
        "!pip install -q \\\n",
        "    numpy       \\\n",
        "    torch       \\\n",
        "    sklearn     \\\n",
        "    skorch      \\\n",
        "    matplotlib  "
      ],
      "execution_count": 0,
      "outputs": []
    },
    {
      "cell_type": "code",
      "metadata": {
        "id": "XYPw4vBWq_nd",
        "colab_type": "code",
        "colab": {}
      },
      "source": [
        "#-------------------------------------------------\n",
        "# general\n",
        "#-------------------\n",
        "#import pandas as pd\n",
        "#import numpy as np\n",
        "#-------------------------------------------------\n",
        "# PyTorch\n",
        "#-------------------\n",
        "import torch\n",
        "import torchvision\n",
        "import torch.nn.functional as F\n",
        "#-------------------------------------------------\n",
        "# skorch\n",
        "#-------------------\n",
        "#from skorch import NeuralNetClassifier\n",
        "#-------------------------------------------------\n",
        "# scikit-learn\n",
        "#-------------------\n",
        "# preprocessing\n",
        "#from sklearn.preprocessing import StandardScaler\n",
        "#from sklearn.preprocessing import OneHotEncoder\n",
        "# model_selection\n",
        "#from sklearn.model_selection import train_test_split\n",
        "#from sklearn.model_selection import KFold\n",
        "#from sklearn.model_selection import GridSearchCV\n",
        "# metrics\n",
        "#from sklearn.metrics import \\\n",
        "#    confusion_matrix,       \\\n",
        "#    f1_score,               \\\n",
        "#    roc_curve,              \\\n",
        "#    roc_auc_score,          \\\n",
        "#    classification_report\n",
        "# utils\n",
        "#from sklearn.utils import shuffle\n",
        "#-------------------------------------------------\n",
        "# data visualization\n",
        "#-------------------\n",
        "import matplotlib.pyplot as plt\n",
        "#import seaborn as sns\n",
        "#from IPython import display\n",
        "#-------------------------------------------------\n",
        "# additional config\n",
        "#-------------------\n",
        "# random seed generator\n",
        "torch.manual_seed(42);\n",
        "#use fixed point notation\n",
        "#np.set_printoptions(suppress=True)"
      ],
      "execution_count": 0,
      "outputs": []
    },
    {
      "cell_type": "markdown",
      "metadata": {
        "id": "C4IayX1HsCyC",
        "colab_type": "text"
      },
      "source": [
        "## 2. Dataset loading"
      ]
    },
    {
      "cell_type": "markdown",
      "metadata": {
        "id": "LWGpvacBsdW_",
        "colab_type": "text"
      },
      "source": [
        "### 2.1 PyTorch dataset creation"
      ]
    },
    {
      "cell_type": "code",
      "metadata": {
        "id": "mh-Qdbkuqn0l",
        "colab_type": "code",
        "colab": {}
      },
      "source": [
        "# transforms\n",
        "pil2tensor = torchvision.transforms.ToTensor()\n",
        "tensor2pil = torchvision.transforms.ToPILImage()\n",
        "#-------------------------------------------------\n",
        "# new reshape transform\n",
        "class ReshapeTransform:\n",
        "    def __init__(self, new_size):\n",
        "        self.new_size = new_size\n",
        "    def __call__(self, img):\n",
        "        return torch.reshape(img, self.new_size)\n",
        "#-------------------\n",
        "mnist_transforms = [\n",
        "    pil2tensor,\n",
        "#    ReshapeTransform((-1,))\n",
        "]\n",
        "#-------------------------------------------------\n",
        "ds = torchvision.datasets.MNIST('sample_data', download=True, transform=torchvision.transforms.Compose(mnist_transforms))"
      ],
      "execution_count": 0,
      "outputs": []
    },
    {
      "cell_type": "code",
      "metadata": {
        "id": "XqDLadMAAUQb",
        "colab_type": "code",
        "colab": {}
      },
      "source": [
        "ds_train, ds_val, ds_dummy = torch.utils.data.random_split(ds, (10000, 2000, 48000))"
      ],
      "execution_count": 0,
      "outputs": []
    },
    {
      "cell_type": "markdown",
      "metadata": {
        "id": "UPsgbfqGsm5V",
        "colab_type": "text"
      },
      "source": [
        "### 2.2 PyTorch loader creation\n",
        "\n",
        "- BATCH_SIZE definition\n",
        "- training dataset\n",
        "- validation dataset"
      ]
    },
    {
      "cell_type": "code",
      "metadata": {
        "id": "9sESeX_SqoXr",
        "colab_type": "code",
        "colab": {
          "base_uri": "https://localhost:8080/",
          "height": 75
        },
        "outputId": "1288cdd2-a7d2-45be-df49-13b1545fb577"
      },
      "source": [
        "BATCH_SIZE = 500\n",
        "dl_train = torch.utils.data.DataLoader(\n",
        "              dataset=ds_train, \n",
        "              batch_size = BATCH_SIZE, \n",
        "              drop_last = True,\n",
        "              shuffle=True)\n",
        "dl_val   = torch.utils.data.DataLoader(\n",
        "              dataset = ds_val,\n",
        "              drop_last = True,\n",
        "              batch_size = BATCH_SIZE)\n",
        "\n",
        "tx, ty = iter(dl_train).next()\n",
        "print('train:', tx.shape,tx.dtype,ty.shape,ty.dtype)\n",
        "tx, ty = iter(dl_val).next()\n",
        "print('train:', tx.shape,tx.dtype,ty.shape,ty.dtype)\n",
        "print('tamanho último batch:', len(ds_train)%BATCH_SIZE, len(ds_val)%BATCH_SIZE)"
      ],
      "execution_count": 5,
      "outputs": [
        {
          "output_type": "stream",
          "text": [
            "train: torch.Size([500, 1, 28, 28]) torch.float32 torch.Size([500]) torch.int64\n",
            "train: torch.Size([500, 1, 28, 28]) torch.float32 torch.Size([500]) torch.int64\n",
            "tamanho último batch: 0 0\n"
          ],
          "name": "stdout"
        }
      ]
    },
    {
      "cell_type": "markdown",
      "metadata": {
        "id": "XFwZVZfQssoV",
        "colab_type": "text"
      },
      "source": [
        "### 2.3 Verifying shape, batch data type from loader and optionally its visualization"
      ]
    },
    {
      "cell_type": "code",
      "metadata": {
        "id": "NQbDl3QVql8m",
        "colab_type": "code",
        "colab": {}
      },
      "source": [
        ""
      ],
      "execution_count": 0,
      "outputs": []
    },
    {
      "cell_type": "markdown",
      "metadata": {
        "id": "Bw_Z9cMgs8Kf",
        "colab_type": "text"
      },
      "source": [
        "## 3. Network Model"
      ]
    },
    {
      "cell_type": "markdown",
      "metadata": {
        "id": "7vn0r32bamG7",
        "colab_type": "text"
      },
      "source": [
        "### 3.1 Network class definition"
      ]
    },
    {
      "cell_type": "code",
      "metadata": {
        "id": "HY7n0S0vq-1Z",
        "colab_type": "code",
        "colab": {}
      },
      "source": [
        "'''\n",
        "#-------------------------------------------------\n",
        "1st layer: 'conv1' [convolution]\n",
        "  - in_channels = 1\n",
        "  - out_channels = 10\n",
        "  - kernel_size = (5,5)\n",
        "  - stride = 1\n",
        "#-------------------\n",
        "2nd layer: 'mp1' [subsampling]\n",
        "  - kernel_size = (2,2)\n",
        "  - stride = 2\n",
        "#-------------------\n",
        "3rd layer: 'conv2' [convolution]\n",
        "  - in_channels = 10\n",
        "  - out_channels = 30\n",
        "  - kernel_size = (6,6)\n",
        "  - stride = 1\n",
        "#-------------------\n",
        "4th layer: 'mp2' [subsampling]\n",
        "  - kernel_size = (2,2)\n",
        "  - stride = 2\n",
        "#-------------------\n",
        "fc1 (3rd layer): in_channels = (1,28,28), out_channels = (20,28,28)\n",
        "fc2 (4th layer): output layer: 100 input, 10 output\n",
        "#=================================================\n",
        "conv1:   1x28x28 --> 10@24x24 (5x5 kernel)\n",
        "mp1:    10@24x24 --> 10@12x12 (2x2 kernel)\n",
        "conv2:  10@12x12 --> 30@6x6   (7x7 kernel)\n",
        "mp2:    30@6x6   --> 30@3x3   (2x2 kernel)\n",
        "conv3:  30@3x3   --> 100@1x1  (3x3 kernel)\n",
        "#-------------------\n",
        "fc1: 100 --> 30\n",
        "fc2: 30 --> 10\n",
        "'''\n",
        "\n",
        "class NN(torch.nn.Module):\n",
        "    def __init__(self):\n",
        "        super(NN, self).__init__()\n",
        "        self.conv1 = torch.nn.Conv2d(1, 10, kernel_size=(5,5), stride=1)\n",
        "        self.mp1 = torch.nn.MaxPool2d(kernel_size=(2,2), stride=2)\n",
        "        self.conv2 = torch.nn.Conv2d(10, 30, kernel_size=(7,7), stride=1)\n",
        "        self.mp2 = torch.nn.MaxPool2d(kernel_size=(2,2), stride=2)\n",
        "        self.conv3 = torch.nn.Conv2d(30, 100, kernel_size=(3,3), stride=1)\n",
        "        self.fc1 = torch.nn.Linear(in_features=100, out_features=30)\n",
        "        self.fc2 = torch.nn.Linear(in_features=30, out_features=10)\n",
        "        #self.Dropout = torch.nn.Dropout(0.5)\n",
        "\n",
        "    def forward(self, x):\n",
        "        #-------------------\n",
        "        # convolutional layer, ReLU\n",
        "        x = self.conv1(x)\n",
        "        x = F.relu(x)\n",
        "        # max-pooling\n",
        "        x = self.mp1(x)\n",
        "        #-------------------\n",
        "        # convolutional layer, ReLU\n",
        "        x = self.conv2(x)\n",
        "        x = F.relu(x)\n",
        "        # max-pooling\n",
        "        x = self.mp2(x)\n",
        "        #-------------------\n",
        "        # convolutional layer, ReLU\n",
        "        x = self.conv3(x)\n",
        "        x = F.relu(x)\n",
        "        x = x.view(x.size(0), -1)\n",
        "        #-------------------\n",
        "        # dense layer\n",
        "        x = self.fc1(x)\n",
        "        x = F.relu(x)\n",
        "        x = self.fc2(x)\n",
        "        #-------------------\n",
        "        return x"
      ],
      "execution_count": 0,
      "outputs": []
    },
    {
      "cell_type": "markdown",
      "metadata": {
        "id": "r6NbQ9ygasBE",
        "colab_type": "text"
      },
      "source": [
        "### 3.2 Network instantiation"
      ]
    },
    {
      "cell_type": "code",
      "metadata": {
        "id": "bIRZSsqNq_Zl",
        "colab_type": "code",
        "colab": {}
      },
      "source": [
        "model = NN()"
      ],
      "execution_count": 0,
      "outputs": []
    },
    {
      "cell_type": "code",
      "metadata": {
        "id": "ILvOKhI3JtNR",
        "colab_type": "code",
        "colab": {}
      },
      "source": [
        "# check if GPU is available\n",
        "#model.cuda()"
      ],
      "execution_count": 0,
      "outputs": []
    },
    {
      "cell_type": "markdown",
      "metadata": {
        "id": "WFcCML_SayNO",
        "colab_type": "text"
      },
      "source": [
        "### 3.3 Network predict with few samples of batch from loader"
      ]
    },
    {
      "cell_type": "code",
      "metadata": {
        "id": "IX2K9fQ3rAkO",
        "colab_type": "code",
        "colab": {
          "base_uri": "https://localhost:8080/",
          "height": 172
        },
        "outputId": "7251d43e-4f69-4037-ab4e-943fc0b7ac43"
      },
      "source": [
        "model(iter(dl_train).next()[0])"
      ],
      "execution_count": 9,
      "outputs": [
        {
          "output_type": "execute_result",
          "data": {
            "text/plain": [
              "tensor([[ 0.0157,  0.1716, -0.1263,  ...,  0.1207, -0.0663, -0.1332],\n",
              "        [ 0.0132,  0.1709, -0.1283,  ...,  0.1140, -0.0671, -0.1437],\n",
              "        [ 0.0082,  0.1836, -0.1264,  ...,  0.1200, -0.0613, -0.1322],\n",
              "        ...,\n",
              "        [ 0.0254,  0.1637, -0.1376,  ...,  0.1329, -0.0688, -0.1263],\n",
              "        [ 0.0064,  0.1754, -0.1293,  ...,  0.1123, -0.0665, -0.1404],\n",
              "        [ 0.0084,  0.1758, -0.1340,  ...,  0.1241, -0.0672, -0.1340]],\n",
              "       grad_fn=<AddmmBackward>)"
            ]
          },
          "metadata": {
            "tags": []
          },
          "execution_count": 9
        }
      ]
    },
    {
      "cell_type": "markdown",
      "metadata": {
        "id": "gqbHi424bDid",
        "colab_type": "text"
      },
      "source": [
        "## 4. Network training"
      ]
    },
    {
      "cell_type": "markdown",
      "metadata": {
        "id": "o4_rINNlbH17",
        "colab_type": "text"
      },
      "source": [
        "### 4.1 Training definitions\n",
        "\n",
        "- number of epochs\n",
        "- optimizer and LR (learning rate)\n",
        "- loss function\n"
      ]
    },
    {
      "cell_type": "code",
      "metadata": {
        "id": "07mvkthGrcVe",
        "colab_type": "code",
        "colab": {}
      },
      "source": [
        "# Training parameters\n",
        "EPOCH = 50\n",
        "LR = 0.05\n",
        "loss_func = torch.nn.CrossEntropyLoss()\n",
        "opt = torch.optim.SGD(model.parameters(), lr=LR)\n",
        "# loss history\n",
        "loss_his = []\n",
        "loss_val_his = []"
      ],
      "execution_count": 0,
      "outputs": []
    },
    {
      "cell_type": "markdown",
      "metadata": {
        "id": "Mifo0jGebd6z",
        "colab_type": "text"
      },
      "source": [
        "### 4.2 Training loop"
      ]
    },
    {
      "cell_type": "code",
      "metadata": {
        "id": "gmZtFWUqrgeu",
        "colab_type": "code",
        "colab": {
          "base_uri": "https://localhost:8080/",
          "height": 985
        },
        "outputId": "06536556-921e-410b-e324-97e162cced71"
      },
      "source": [
        "N_SAMPLES = len(ds_train)\n",
        "for epoch in range(EPOCH):\n",
        "    print('epoch =', epoch, end='; ')\n",
        "    #-------------------------------------------------\n",
        "    # training\n",
        "    model.train()\n",
        "    zero_one_loss = 0.\n",
        "    for b_i, (b_x, b_y) in enumerate(dl_train):   # for each training step\n",
        "        y_pred = model(b_x)\n",
        "        loss = loss_func(y_pred, b_y)\n",
        "        opt.zero_grad()                 # clear gradients for next train\n",
        "        loss.backward()                 # backpropagation, compute gradients\n",
        "        opt.step()                      # apply gradients\n",
        "    #-------------------\n",
        "    max_polling = torch.argmax(y_pred, dim=1)\n",
        "    zero_one_loss += (b_y == max_polling).sum()\n",
        "    acc_train = zero_one_loss / len(y_pred)\n",
        "    #-------------------------------------------------\n",
        "    # validation\n",
        "    model.eval()\n",
        "    zero_one_loss_val = 0.\n",
        "    for b_ival, (b_xval, b_yval) in enumerate(dl_val):\n",
        "        y_logitos = model(b_xval)\n",
        "        loss_val = loss_func(y_logitos, b_yval)\n",
        "        yval_pred = torch.argmax(y_logitos, dim=1)\n",
        "        zero_one_loss_val += (b_yval == yval_pred).sum()\n",
        "    #-------------------------------------------------\n",
        "    loss_his.append(loss.item())    # loss recoder\n",
        "    loss_val_his.append(loss_val.item())    # loss recoder\n",
        "    acc_val = zero_one_loss_val / len(ds_val)\n",
        "    #-------------------------------------------------\n",
        "    print('loss_train = {0:.4f}'.format(loss_his[-1]), end='; ')\n",
        "    print('loss_val = {0:.4f}'.format(loss_val_his[-1]), end='; ')\n",
        "    print('acc_train = {0:.4f}'.format(acc_train), end='; ')\n",
        "    print('acc_val = {0:.4f}'.format(acc_val), end='\\n')"
      ],
      "execution_count": 11,
      "outputs": [
        {
          "output_type": "stream",
          "text": [
            "epoch = 0; loss_train = 2.3062; loss_val = 2.3036; acc_train = 0.1060; acc_val = 0.1095\n",
            "epoch = 1; loss_train = 2.3075; loss_val = 2.3001; acc_train = 0.1160; acc_val = 0.1095\n",
            "epoch = 2; loss_train = 2.2958; loss_val = 2.2970; acc_train = 0.1200; acc_val = 0.1095\n",
            "epoch = 3; loss_train = 2.2915; loss_val = 2.2933; acc_train = 0.1060; acc_val = 0.1095\n",
            "epoch = 4; loss_train = 2.2843; loss_val = 2.2887; acc_train = 0.1320; acc_val = 0.1215\n",
            "epoch = 5; loss_train = 2.2818; loss_val = 2.2825; acc_train = 0.2160; acc_val = 0.1860\n",
            "epoch = 6; loss_train = 2.2745; loss_val = 2.2730; acc_train = 0.2200; acc_val = 0.2270\n",
            "epoch = 7; loss_train = 2.2537; loss_val = 2.2552; acc_train = 0.3120; acc_val = 0.2875\n",
            "epoch = 8; loss_train = 2.2200; loss_val = 2.2141; acc_train = 0.3240; acc_val = 0.3310\n",
            "epoch = 9; loss_train = 2.1068; loss_val = 2.0967; acc_train = 0.3420; acc_val = 0.3515\n",
            "epoch = 10; loss_train = 1.7162; loss_val = 1.7186; acc_train = 0.4660; acc_val = 0.5160\n",
            "epoch = 11; loss_train = 1.5065; loss_val = 1.4718; acc_train = 0.4840; acc_val = 0.4955\n",
            "epoch = 12; loss_train = 0.9666; loss_val = 1.0793; acc_train = 0.6680; acc_val = 0.5890\n",
            "epoch = 13; loss_train = 0.6518; loss_val = 0.6845; acc_train = 0.7940; acc_val = 0.7810\n",
            "epoch = 14; loss_train = 0.7338; loss_val = 0.8011; acc_train = 0.7100; acc_val = 0.7265\n",
            "epoch = 15; loss_train = 0.6010; loss_val = 0.5682; acc_train = 0.8040; acc_val = 0.8075\n",
            "epoch = 16; loss_train = 0.4547; loss_val = 0.4084; acc_train = 0.8580; acc_val = 0.8795\n",
            "epoch = 17; loss_train = 0.3702; loss_val = 0.3585; acc_train = 0.8880; acc_val = 0.8890\n",
            "epoch = 18; loss_train = 0.3948; loss_val = 0.3062; acc_train = 0.8960; acc_val = 0.8965\n",
            "epoch = 19; loss_train = 0.3227; loss_val = 0.2928; acc_train = 0.9100; acc_val = 0.9015\n",
            "epoch = 20; loss_train = 0.5188; loss_val = 0.4291; acc_train = 0.8260; acc_val = 0.8365\n",
            "epoch = 21; loss_train = 0.3097; loss_val = 0.2485; acc_train = 0.9160; acc_val = 0.9200\n",
            "epoch = 22; loss_train = 0.3034; loss_val = 0.2681; acc_train = 0.9020; acc_val = 0.9045\n",
            "epoch = 23; loss_train = 0.1917; loss_val = 0.2112; acc_train = 0.9480; acc_val = 0.9335\n",
            "epoch = 24; loss_train = 0.2100; loss_val = 0.2046; acc_train = 0.9340; acc_val = 0.9330\n",
            "epoch = 25; loss_train = 0.1879; loss_val = 0.1967; acc_train = 0.9380; acc_val = 0.9365\n",
            "epoch = 26; loss_train = 0.2237; loss_val = 0.2133; acc_train = 0.9320; acc_val = 0.9210\n",
            "epoch = 27; loss_train = 0.2179; loss_val = 0.1819; acc_train = 0.9320; acc_val = 0.9425\n",
            "epoch = 28; loss_train = 0.2137; loss_val = 0.1890; acc_train = 0.9320; acc_val = 0.9410\n",
            "epoch = 29; loss_train = 0.2016; loss_val = 0.1747; acc_train = 0.9400; acc_val = 0.9445\n",
            "epoch = 30; loss_train = 0.1916; loss_val = 0.1681; acc_train = 0.9340; acc_val = 0.9490\n",
            "epoch = 31; loss_train = 0.2063; loss_val = 0.1610; acc_train = 0.9400; acc_val = 0.9505\n",
            "epoch = 32; loss_train = 0.1293; loss_val = 0.1544; acc_train = 0.9600; acc_val = 0.9540\n",
            "epoch = 33; loss_train = 0.1974; loss_val = 0.1479; acc_train = 0.9420; acc_val = 0.9530\n",
            "epoch = 34; loss_train = 0.1653; loss_val = 0.1398; acc_train = 0.9460; acc_val = 0.9565\n",
            "epoch = 35; loss_train = 0.1708; loss_val = 0.1394; acc_train = 0.9440; acc_val = 0.9550\n",
            "epoch = 36; loss_train = 0.1440; loss_val = 0.1397; acc_train = 0.9640; acc_val = 0.9600\n",
            "epoch = 37; loss_train = 0.1309; loss_val = 0.1556; acc_train = 0.9540; acc_val = 0.9490\n",
            "epoch = 38; loss_train = 0.1668; loss_val = 0.1515; acc_train = 0.9480; acc_val = 0.9525\n",
            "epoch = 39; loss_train = 0.1503; loss_val = 0.1388; acc_train = 0.9620; acc_val = 0.9530\n",
            "epoch = 40; loss_train = 0.1349; loss_val = 0.1271; acc_train = 0.9640; acc_val = 0.9635\n",
            "epoch = 41; loss_train = 0.1307; loss_val = 0.1317; acc_train = 0.9640; acc_val = 0.9625\n",
            "epoch = 42; loss_train = 0.1573; loss_val = 0.1271; acc_train = 0.9520; acc_val = 0.9650\n",
            "epoch = 43; loss_train = 0.1172; loss_val = 0.1227; acc_train = 0.9600; acc_val = 0.9635\n",
            "epoch = 44; loss_train = 0.1050; loss_val = 0.1240; acc_train = 0.9680; acc_val = 0.9675\n",
            "epoch = 45; loss_train = 0.1310; loss_val = 0.1211; acc_train = 0.9620; acc_val = 0.9675\n",
            "epoch = 46; loss_train = 0.0719; loss_val = 0.1196; acc_train = 0.9860; acc_val = 0.9620\n",
            "epoch = 47; loss_train = 0.0835; loss_val = 0.1255; acc_train = 0.9760; acc_val = 0.9615\n",
            "epoch = 48; loss_train = 0.1038; loss_val = 0.1189; acc_train = 0.9740; acc_val = 0.9660\n",
            "epoch = 49; loss_train = 0.0928; loss_val = 0.1246; acc_train = 0.9680; acc_val = 0.9640\n"
          ],
          "name": "stdout"
        }
      ]
    },
    {
      "cell_type": "markdown",
      "metadata": {
        "id": "v6aK9evCbmB2",
        "colab_type": "text"
      },
      "source": [
        "## 5. Performance evaluation\n",
        "\n",
        "- metrics:\n",
        "  - accuracy\n",
        "  - confusion matrix\n",
        "  - others"
      ]
    },
    {
      "cell_type": "markdown",
      "metadata": {
        "id": "l0gce53NhzuH",
        "colab_type": "text"
      },
      "source": [
        "### Training Loss"
      ]
    },
    {
      "cell_type": "code",
      "metadata": {
        "id": "aIey4Ob7r3kn",
        "colab_type": "code",
        "colab": {
          "base_uri": "https://localhost:8080/",
          "height": 295
        },
        "outputId": "1c8d8725-0295-4fb1-9c1b-4874196d2ab2"
      },
      "source": [
        "# plot training loss\n",
        "plt.plot(loss_his, label='training loss', color='blue')\n",
        "#-------------------------------------------------\n",
        "# axis label\n",
        "plt.xlabel('Epochs')\n",
        "plt.ylabel('CE Loss')\n",
        "# title\n",
        "plt.title('Training loss')\n",
        "#-------------------------------------------------\n",
        "plt.autoscale(axis='x', tight=True) # axis adjust\n",
        "plt.grid(True) # add grid\n",
        "#plt.legend() # add legend\n",
        "plt.show()"
      ],
      "execution_count": 12,
      "outputs": [
        {
          "output_type": "display_data",
          "data": {
            "image/png": "[encoded data removed]",
            "text/plain": [
              "<Figure size 432x288 with 1 Axes>"
            ]
          },
          "metadata": {
            "tags": []
          }
        }
      ]
    },
    {
      "cell_type": "markdown",
      "metadata": {
        "id": "F-PIiPLehyNG",
        "colab_type": "text"
      },
      "source": [
        "### Validation Loss"
      ]
    },
    {
      "cell_type": "code",
      "metadata": {
        "id": "4XjpUYdOhwEx",
        "colab_type": "code",
        "colab": {
          "base_uri": "https://localhost:8080/",
          "height": 295
        },
        "outputId": "fd3531c8-dda4-4cfc-f165-26001ab5b78e"
      },
      "source": [
        "# plot validation loss\n",
        "plt.plot(loss_val_his, label='validation loss', color='red')\n",
        "#-------------------------------------------------\n",
        "# axis label\n",
        "plt.xlabel('Epochs')\n",
        "plt.ylabel('CE Loss')\n",
        "# title\n",
        "plt.title('Validation loss')\n",
        "#-------------------------------------------------\n",
        "plt.autoscale(axis='x', tight=True) # axis adjust\n",
        "plt.grid(True) # add grid\n",
        "#plt.legend() # add legend\n",
        "plt.show()"
      ],
      "execution_count": 13,
      "outputs": [
        {
          "output_type": "display_data",
          "data": {
            "image/png": "[encoded data removed]",
            "text/plain": [
              "<Figure size 432x288 with 1 Axes>"
            ]
          },
          "metadata": {
            "tags": []
          }
        }
      ]
    },
    {
      "cell_type": "markdown",
      "metadata": {
        "id": "thGUnNmdiqa6",
        "colab_type": "text"
      },
      "source": [
        "### Zoom at the minimum of CE loss curve"
      ]
    },
    {
      "cell_type": "code",
      "metadata": {
        "id": "zP5L2Gk4iraH",
        "colab_type": "code",
        "colab": {
          "base_uri": "https://localhost:8080/",
          "height": 314
        },
        "outputId": "99064d99-e57c-4599-e2c4-19ce825278a8"
      },
      "source": [
        "best_epoch = loss_val_his.index(min(loss_val_his)) + 1\n",
        "print('Epoch with minimum validation loss =', best_epoch)\n",
        "#-------------------------------------------------\n",
        "# plots\n",
        "plt.plot(range(max(1,best_epoch-2),min(EPOCH,best_epoch+3)), loss_val_his[max(1,best_epoch-3):min(EPOCH-1,best_epoch+2)], 'green')\n",
        "plt.xlabel('Epochs')\n",
        "plt.ylabel('CE loss')\n",
        "plt.autoscale(axis='x', tight=True)\n",
        "plt.title('Progression of validation loss acording to epochs')\n",
        "plt.grid(True)\n",
        "plt.show()"
      ],
      "execution_count": 14,
      "outputs": [
        {
          "output_type": "stream",
          "text": [
            "Epoch with minimum validation loss = 49\n"
          ],
          "name": "stdout"
        },
        {
          "output_type": "display_data",
          "data": {
            "image/png": "[encoded data removed]",
            "text/plain": [
              "<Figure size 432x288 with 1 Axes>"
            ]
          },
          "metadata": {
            "tags": []
          }
        }
      ]
    },
    {
      "cell_type": "markdown",
      "metadata": {
        "id": "_8Xzipr2B9to",
        "colab_type": "text"
      },
      "source": [
        "### 5.1 Print the final values of the main training monitoring variables:\n",
        "- loss function final value:\n",
        "- metrics final values:"
      ]
    },
    {
      "cell_type": "code",
      "metadata": {
        "id": "VEVVlMqVs69I",
        "colab_type": "code",
        "colab": {
          "base_uri": "https://localhost:8080/",
          "height": 114
        },
        "outputId": "eb678ac8-b221-4fe9-fe59-0086ff90ad11"
      },
      "source": [
        "print('last training loss = {0:.4f}'.format(loss_his[-1]))\n",
        "print('last validation loss = {0:.4f}'.format(loss_val_his[-1]))\n",
        "#-------------------------------------------------\n",
        "print('#-------------------------------------------------')\n",
        "print('last train accuracy = {0:.4f}'.format(acc_train.item()))\n",
        "print('last validation accuracy = {0:.4f}'.format(acc_val.item()))"
      ],
      "execution_count": 15,
      "outputs": [
        {
          "output_type": "stream",
          "text": [
            "last training loss = 0.0928\n",
            "last validation loss = 0.1246\n",
            "#-------------------------------------------------\n",
            "last train accuracy = 0.9680\n",
            "last validation accuracy = 0.9640\n"
          ],
          "name": "stdout"
        }
      ]
    }
  ]
}