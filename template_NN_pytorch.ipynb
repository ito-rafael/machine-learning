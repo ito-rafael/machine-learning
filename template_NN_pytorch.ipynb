{
  "nbformat": 4,
  "nbformat_minor": 0,
  "metadata": {
    "colab": {
      "name": "template_NN_pytorch.ipynb",
      "provenance": [],
      "collapsed_sections": []
    },
    "kernelspec": {
      "name": "python3",
      "display_name": "Python 3"
    }
  },
  "cells": [
    {
      "cell_type": "markdown",
      "metadata": {
        "id": "aibQMqn3rEp8",
        "colab_type": "text"
      },
      "source": [
        "# PyTorch Template: supervised models with training loop\n",
        "\n",
        "This template can be used with supervised models that uses training through any loss function."
      ]
    },
    {
      "cell_type": "markdown",
      "metadata": {
        "id": "399F2GKforfi",
        "colab_type": "text"
      },
      "source": [
        "Author: **Rafael Ito**  \n",
        "e-mail: ito.rafael@gmail.com"
      ]
    },
    {
      "cell_type": "markdown",
      "metadata": {
        "id": "eV7swfVuBvgm",
        "colab_type": "text"
      },
      "source": [
        "## 0. Dataset and Description\n",
        "\n",
        "Name:  \n",
        "Description: *insert here what is this notebook for*"
      ]
    },
    {
      "cell_type": "markdown",
      "metadata": {
        "id": "ZnLtgkmhr0y0",
        "colab_type": "text"
      },
      "source": [
        "## 1. Libraries and packages"
      ]
    },
    {
      "cell_type": "code",
      "metadata": {
        "id": "XYPw4vBWq_nd",
        "colab_type": "code",
        "colab": {}
      },
      "source": [
        "import torch\n",
        "import matplotlib.pyplot as plt"
      ],
      "execution_count": 0,
      "outputs": []
    },
    {
      "cell_type": "markdown",
      "metadata": {
        "id": "C4IayX1HsCyC",
        "colab_type": "text"
      },
      "source": [
        "## 2. Dataset loading"
      ]
    },
    {
      "cell_type": "code",
      "metadata": {
        "id": "ezt6-czxrwBM",
        "colab_type": "code",
        "colab": {}
      },
      "source": [
        "# dataset reading"
      ],
      "execution_count": 0,
      "outputs": []
    },
    {
      "cell_type": "markdown",
      "metadata": {
        "id": "LWGpvacBsdW_",
        "colab_type": "text"
      },
      "source": [
        "### 2.1 PyTorch dataset creation"
      ]
    },
    {
      "cell_type": "code",
      "metadata": {
        "id": "mh-Qdbkuqn0l",
        "colab_type": "code",
        "colab": {}
      },
      "source": [
        ""
      ],
      "execution_count": 0,
      "outputs": []
    },
    {
      "cell_type": "markdown",
      "metadata": {
        "id": "UPsgbfqGsm5V",
        "colab_type": "text"
      },
      "source": [
        "### 2.2 PyTorch loader creation\n",
        "\n",
        "- BATCH_SIZE definition\n",
        "- training dataset\n",
        "- validation dataset"
      ]
    },
    {
      "cell_type": "code",
      "metadata": {
        "id": "9sESeX_SqoXr",
        "colab_type": "code",
        "colab": {}
      },
      "source": [
        ""
      ],
      "execution_count": 0,
      "outputs": []
    },
    {
      "cell_type": "markdown",
      "metadata": {
        "id": "XFwZVZfQssoV",
        "colab_type": "text"
      },
      "source": [
        "### 2.3 Verifying shape, batch data type from loader and optionally its visualization"
      ]
    },
    {
      "cell_type": "code",
      "metadata": {
        "id": "NQbDl3QVql8m",
        "colab_type": "code",
        "colab": {}
      },
      "source": [
        ""
      ],
      "execution_count": 0,
      "outputs": []
    },
    {
      "cell_type": "markdown",
      "metadata": {
        "id": "Bw_Z9cMgs8Kf",
        "colab_type": "text"
      },
      "source": [
        "## 3. Network Model"
      ]
    },
    {
      "cell_type": "markdown",
      "metadata": {
        "id": "7vn0r32bamG7",
        "colab_type": "text"
      },
      "source": [
        "### 3.1 Network class definition"
      ]
    },
    {
      "cell_type": "code",
      "metadata": {
        "id": "HY7n0S0vq-1Z",
        "colab_type": "code",
        "colab": {}
      },
      "source": [
        ""
      ],
      "execution_count": 0,
      "outputs": []
    },
    {
      "cell_type": "markdown",
      "metadata": {
        "id": "r6NbQ9ygasBE",
        "colab_type": "text"
      },
      "source": [
        "### 3.2 Network instantiation"
      ]
    },
    {
      "cell_type": "code",
      "metadata": {
        "id": "bIRZSsqNq_Zl",
        "colab_type": "code",
        "colab": {}
      },
      "source": [
        ""
      ],
      "execution_count": 0,
      "outputs": []
    },
    {
      "cell_type": "markdown",
      "metadata": {
        "id": "WFcCML_SayNO",
        "colab_type": "text"
      },
      "source": [
        "### 3.3 Network predict with few samples of batch from loader"
      ]
    },
    {
      "cell_type": "code",
      "metadata": {
        "id": "IX2K9fQ3rAkO",
        "colab_type": "code",
        "colab": {}
      },
      "source": [
        ""
      ],
      "execution_count": 0,
      "outputs": []
    },
    {
      "cell_type": "markdown",
      "metadata": {
        "id": "gqbHi424bDid",
        "colab_type": "text"
      },
      "source": [
        "## 4. Network training"
      ]
    },
    {
      "cell_type": "markdown",
      "metadata": {
        "id": "o4_rINNlbH17",
        "colab_type": "text"
      },
      "source": [
        "### 4.1 Training definitions\n",
        "\n",
        "- number of epochs\n",
        "- optimizer and LR (learning rate)\n",
        "- loss function\n"
      ]
    },
    {
      "cell_type": "code",
      "metadata": {
        "id": "07mvkthGrcVe",
        "colab_type": "code",
        "colab": {}
      },
      "source": [
        ""
      ],
      "execution_count": 0,
      "outputs": []
    },
    {
      "cell_type": "markdown",
      "metadata": {
        "id": "Mifo0jGebd6z",
        "colab_type": "text"
      },
      "source": [
        "### 4.2 Training loop"
      ]
    },
    {
      "cell_type": "code",
      "metadata": {
        "id": "gmZtFWUqrgeu",
        "colab_type": "code",
        "colab": {}
      },
      "source": [
        ""
      ],
      "execution_count": 0,
      "outputs": []
    },
    {
      "cell_type": "markdown",
      "metadata": {
        "id": "v6aK9evCbmB2",
        "colab_type": "text"
      },
      "source": [
        "## 5. Performance evaluation\n",
        "\n",
        "- metrics:\n",
        "  - accuracy\n",
        "  - confusion matrix\n",
        "  - others"
      ]
    },
    {
      "cell_type": "code",
      "metadata": {
        "id": "aIey4Ob7r3kn",
        "colab_type": "code",
        "colab": {}
      },
      "source": [
        ""
      ],
      "execution_count": 0,
      "outputs": []
    },
    {
      "cell_type": "markdown",
      "metadata": {
        "id": "_8Xzipr2B9to",
        "colab_type": "text"
      },
      "source": [
        "### 5.1 Print the final values of the main training monitoring variables:\n",
        "- loss function final value:\n",
        "- metrics final values:"
      ]
    },
    {
      "cell_type": "code",
      "metadata": {
        "id": "VEVVlMqVs69I",
        "colab_type": "code",
        "colab": {}
      },
      "source": [
        ""
      ],
      "execution_count": 0,
      "outputs": []
    }
  ]
}