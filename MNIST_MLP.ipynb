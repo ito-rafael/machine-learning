{
  "nbformat": 4,
  "nbformat_minor": 0,
  "metadata": {
    "colab": {
      "name": "(Rafael Ito) MNIST_MLP - from template.ipynb",
      "provenance": [],
      "collapsed_sections": []
    },
    "kernelspec": {
      "name": "python3",
      "display_name": "Python 3"
    }
  },
  "cells": [
    {
      "cell_type": "markdown",
      "metadata": {
        "id": "aibQMqn3rEp8",
        "colab_type": "text"
      },
      "source": [
        "# MNIST with MLP"
      ]
    },
    {
      "cell_type": "markdown",
      "metadata": {
        "id": "399F2GKforfi",
        "colab_type": "text"
      },
      "source": [
        "Author: **Rafael Ito**  \n",
        "e-mail: ito.rafael@gmail.com"
      ]
    },
    {
      "cell_type": "markdown",
      "metadata": {
        "id": "eV7swfVuBvgm",
        "colab_type": "text"
      },
      "source": [
        "## 0. Dataset and Description\n",
        "\n",
        "**Name:**  \n",
        "**Description:** this notebook uses the MNIST database to perform a supervised learning with the aim of image classification of handwritten digits."
      ]
    },
    {
      "cell_type": "markdown",
      "metadata": {
        "id": "ZnLtgkmhr0y0",
        "colab_type": "text"
      },
      "source": [
        "## 1. Libraries and packages"
      ]
    },
    {
      "cell_type": "code",
      "metadata": {
        "id": "44YWHZaqwDo4",
        "colab_type": "code",
        "colab": {}
      },
      "source": [
        "!pip install -q \\\n",
        "    numpy       \\\n",
        "    torch       \\\n",
        "    sklearn     \\\n",
        "    skorch      \\\n",
        "    matplotlib  "
      ],
      "execution_count": 0,
      "outputs": []
    },
    {
      "cell_type": "code",
      "metadata": {
        "id": "XYPw4vBWq_nd",
        "colab_type": "code",
        "colab": {}
      },
      "source": [
        "#-------------------------------------------------\n",
        "# general\n",
        "#-------------------\n",
        "#import pandas as pd\n",
        "#import numpy as np\n",
        "#-------------------------------------------------\n",
        "# PyTorch\n",
        "#-------------------\n",
        "import torch\n",
        "import torchvision\n",
        "import torch.nn.functional as F\n",
        "#-------------------------------------------------\n",
        "# skorch\n",
        "#-------------------\n",
        "#from skorch import NeuralNetClassifier\n",
        "#-------------------------------------------------\n",
        "# scikit-learn\n",
        "#-------------------\n",
        "# preprocessing\n",
        "#from sklearn.preprocessing import StandardScaler\n",
        "#from sklearn.preprocessing import OneHotEncoder\n",
        "# model_selection\n",
        "#from sklearn.model_selection import train_test_split\n",
        "#from sklearn.model_selection import KFold\n",
        "#from sklearn.model_selection import GridSearchCV\n",
        "# metrics\n",
        "#from sklearn.metrics import \\\n",
        "#    confusion_matrix,       \\\n",
        "#    f1_score,               \\\n",
        "#    roc_curve,              \\\n",
        "#    roc_auc_score,          \\\n",
        "#    classification_report\n",
        "# utils\n",
        "#from sklearn.utils import shuffle\n",
        "#-------------------------------------------------\n",
        "# data visualization\n",
        "#-------------------\n",
        "import matplotlib.pyplot as plt\n",
        "#import seaborn as sns\n",
        "#from IPython import display\n",
        "#-------------------------------------------------\n",
        "# additional config\n",
        "#-------------------\n",
        "# random seed generator\n",
        "torch.manual_seed(42);\n",
        "#use fixed point notation\n",
        "#np.set_printoptions(suppress=True)"
      ],
      "execution_count": 0,
      "outputs": []
    },
    {
      "cell_type": "markdown",
      "metadata": {
        "id": "C4IayX1HsCyC",
        "colab_type": "text"
      },
      "source": [
        "## 2. Dataset loading"
      ]
    },
    {
      "cell_type": "markdown",
      "metadata": {
        "id": "LWGpvacBsdW_",
        "colab_type": "text"
      },
      "source": [
        "### 2.1 PyTorch dataset creation"
      ]
    },
    {
      "cell_type": "code",
      "metadata": {
        "id": "mh-Qdbkuqn0l",
        "colab_type": "code",
        "colab": {}
      },
      "source": [
        "# transforms\n",
        "pil2tensor = torchvision.transforms.ToTensor()\n",
        "tensor2pil = torchvision.transforms.ToPILImage()\n",
        "#-------------------------------------------------\n",
        "# new reshape transform\n",
        "class ReshapeTransform:\n",
        "    def __init__(self, new_size):\n",
        "        self.new_size = new_size\n",
        "    def __call__(self, img):\n",
        "        return torch.reshape(img, self.new_size)\n",
        "#-------------------\n",
        "mnist_transforms = [\n",
        "    pil2tensor,\n",
        "    ReshapeTransform((-1,))]\n",
        "#-------------------------------------------------\n",
        "ds = torchvision.datasets.MNIST('sample_data', download=True, transform=torchvision.transforms.Compose(mnist_transforms))"
      ],
      "execution_count": 0,
      "outputs": []
    },
    {
      "cell_type": "code",
      "metadata": {
        "id": "XqDLadMAAUQb",
        "colab_type": "code",
        "colab": {}
      },
      "source": [
        "ds_train, ds_val, ds_dummy = torch.utils.data.random_split(ds, (10000, 2000, 48000))"
      ],
      "execution_count": 0,
      "outputs": []
    },
    {
      "cell_type": "markdown",
      "metadata": {
        "id": "UPsgbfqGsm5V",
        "colab_type": "text"
      },
      "source": [
        "### 2.2 PyTorch loader creation\n",
        "\n",
        "- BATCH_SIZE definition\n",
        "- training dataset\n",
        "- validation dataset"
      ]
    },
    {
      "cell_type": "code",
      "metadata": {
        "id": "9sESeX_SqoXr",
        "colab_type": "code",
        "outputId": "813131fc-e757-4dbe-e4bf-0c0feaed5684",
        "colab": {
          "base_uri": "https://localhost:8080/",
          "height": 75
        }
      },
      "source": [
        "BATCH_SIZE = 500\n",
        "dl_train = torch.utils.data.DataLoader(\n",
        "              dataset=ds_train, \n",
        "              batch_size = BATCH_SIZE, \n",
        "              drop_last = True,\n",
        "              shuffle=True)\n",
        "dl_val   = torch.utils.data.DataLoader(\n",
        "              dataset = ds_val,\n",
        "              drop_last = True,\n",
        "              batch_size = BATCH_SIZE)\n",
        "\n",
        "tx, ty = iter(dl_train).next()\n",
        "print('train:', tx.shape,tx.dtype,ty.shape,ty.dtype)\n",
        "tx, ty = iter(dl_val).next()\n",
        "print('train:', tx.shape,tx.dtype,ty.shape,ty.dtype)\n",
        "print('tamanho último batch:', len(ds_train)%BATCH_SIZE, len(ds_val)%BATCH_SIZE)"
      ],
      "execution_count": 5,
      "outputs": [
        {
          "output_type": "stream",
          "text": [
            "train: torch.Size([500, 784]) torch.float32 torch.Size([500]) torch.int64\n",
            "train: torch.Size([500, 784]) torch.float32 torch.Size([500]) torch.int64\n",
            "tamanho último batch: 0 0\n"
          ],
          "name": "stdout"
        }
      ]
    },
    {
      "cell_type": "markdown",
      "metadata": {
        "id": "XFwZVZfQssoV",
        "colab_type": "text"
      },
      "source": [
        "### 2.3 Verifying shape, batch data type from loader and optionally its visualization"
      ]
    },
    {
      "cell_type": "code",
      "metadata": {
        "id": "NQbDl3QVql8m",
        "colab_type": "code",
        "colab": {}
      },
      "source": [
        ""
      ],
      "execution_count": 0,
      "outputs": []
    },
    {
      "cell_type": "markdown",
      "metadata": {
        "id": "Bw_Z9cMgs8Kf",
        "colab_type": "text"
      },
      "source": [
        "## 3. Network Model"
      ]
    },
    {
      "cell_type": "markdown",
      "metadata": {
        "id": "7vn0r32bamG7",
        "colab_type": "text"
      },
      "source": [
        "### 3.1 Network class definition"
      ]
    },
    {
      "cell_type": "code",
      "metadata": {
        "id": "HY7n0S0vq-1Z",
        "colab_type": "code",
        "colab": {}
      },
      "source": [
        "'''\n",
        "L1 (1st layer): 784 (28*28) input, 500 output\n",
        "L2 (2nd layer): 500 input, 300 output\n",
        "L3 (3rd layer): 300 input, 100 output\n",
        "L4 (4th layer): output layer: 100 input, 10 output\n",
        "'''\n",
        "class NN(torch.nn.Module):\n",
        "    def __init__(self):\n",
        "        super(NN, self).__init__()\n",
        "        self.L1 = torch.nn.Linear(in_features=784,  out_features=500)\n",
        "        self.L1D = torch.nn.Dropout(0.5)\n",
        "        self.L2 = torch.nn.Linear(in_features=500,  out_features=300)\n",
        "        self.L2D = torch.nn.Dropout(0.5)\n",
        "        self.L3 = torch.nn.Linear(in_features=300,  out_features=100)\n",
        "        self.L3D = torch.nn.Dropout(0.5)\n",
        "        self.L4 = torch.nn.Linear(in_features=100,  out_features=10)\n",
        "\n",
        "    def forward(self, x):\n",
        "        #-------------------\n",
        "        # dense layer, ReLU, dropout\n",
        "        x = self.L1(x)\n",
        "        x = F.relu(x)\n",
        "        x = self.L1D(x)\n",
        "        #-------------------\n",
        "        # dense layer, ReLU, dropout\n",
        "        x = self.L2(x)\n",
        "        x = F.relu(x)\n",
        "        x = self.L2D(x)\n",
        "        #-------------------\n",
        "        # dense layer, ReLU, dropout\n",
        "        x = self.L3(x)\n",
        "        x = F.relu(x)\n",
        "        x = self.L3D(x)\n",
        "        #-------------------\n",
        "        # dense layer\n",
        "        x = self.L4(x)\n",
        "        #-------------------\n",
        "        return x"
      ],
      "execution_count": 0,
      "outputs": []
    },
    {
      "cell_type": "markdown",
      "metadata": {
        "id": "r6NbQ9ygasBE",
        "colab_type": "text"
      },
      "source": [
        "### 3.2 Network instantiation"
      ]
    },
    {
      "cell_type": "code",
      "metadata": {
        "id": "bIRZSsqNq_Zl",
        "colab_type": "code",
        "colab": {}
      },
      "source": [
        "model = NN()"
      ],
      "execution_count": 0,
      "outputs": []
    },
    {
      "cell_type": "code",
      "metadata": {
        "id": "ILvOKhI3JtNR",
        "colab_type": "code",
        "colab": {}
      },
      "source": [
        "# check if GPU is available\n",
        "#model.cuda()"
      ],
      "execution_count": 0,
      "outputs": []
    },
    {
      "cell_type": "markdown",
      "metadata": {
        "id": "WFcCML_SayNO",
        "colab_type": "text"
      },
      "source": [
        "### 3.3 Network predict with few samples of batch from loader"
      ]
    },
    {
      "cell_type": "code",
      "metadata": {
        "id": "IX2K9fQ3rAkO",
        "colab_type": "code",
        "outputId": "aa127dd7-f90e-4241-8176-414c66904185",
        "colab": {
          "base_uri": "https://localhost:8080/",
          "height": 56
        }
      },
      "source": [
        "model(ds_train[0][0])"
      ],
      "execution_count": 9,
      "outputs": [
        {
          "output_type": "execute_result",
          "data": {
            "text/plain": [
              "tensor([ 0.1141,  0.0936, -0.1917,  0.0270,  0.0437, -0.1571,  0.0335,  0.1124,\n",
              "         0.1062, -0.0187], grad_fn=<AddBackward0>)"
            ]
          },
          "metadata": {
            "tags": []
          },
          "execution_count": 9
        }
      ]
    },
    {
      "cell_type": "markdown",
      "metadata": {
        "id": "gqbHi424bDid",
        "colab_type": "text"
      },
      "source": [
        "## 4. Network training"
      ]
    },
    {
      "cell_type": "markdown",
      "metadata": {
        "id": "o4_rINNlbH17",
        "colab_type": "text"
      },
      "source": [
        "### 4.1 Training definitions\n",
        "\n",
        "- number of epochs\n",
        "- optimizer and LR (learning rate)\n",
        "- loss function\n"
      ]
    },
    {
      "cell_type": "code",
      "metadata": {
        "id": "07mvkthGrcVe",
        "colab_type": "code",
        "colab": {}
      },
      "source": [
        "# Training parameters\n",
        "EPOCH = 200\n",
        "LR = 0.05\n",
        "loss_func = torch.nn.CrossEntropyLoss()\n",
        "opt = torch.optim.SGD(model.parameters(), lr=LR)\n",
        "# loss history\n",
        "loss_his = []\n",
        "loss_val_his = []"
      ],
      "execution_count": 0,
      "outputs": []
    },
    {
      "cell_type": "markdown",
      "metadata": {
        "id": "Mifo0jGebd6z",
        "colab_type": "text"
      },
      "source": [
        "### 4.2 Training loop"
      ]
    },
    {
      "cell_type": "code",
      "metadata": {
        "id": "gmZtFWUqrgeu",
        "colab_type": "code",
        "colab": {
          "base_uri": "https://localhost:8080/",
          "height": 1000
        },
        "outputId": "f29cbae4-2461-471d-aa73-f3291d5a12df"
      },
      "source": [
        "N_SAMPLES = len(ds_train)\n",
        "for epoch in range(EPOCH):\n",
        "    print('epoch =', epoch, end='; ')\n",
        "    #-------------------------------------------------\n",
        "    # training\n",
        "    model.train()\n",
        "    zero_one_loss = 0.\n",
        "    for b_i, (b_x, b_y) in enumerate(dl_train):   # for each training step\n",
        "        y_pred = model(b_x)\n",
        "        loss = loss_func(y_pred, b_y)\n",
        "        opt.zero_grad()                 # clear gradients for next train\n",
        "        loss.backward()                 # backpropagation, compute gradients\n",
        "        opt.step()                      # apply gradients\n",
        "    #-------------------\n",
        "    max_polling = torch.argmax(y_pred, dim=1)\n",
        "    zero_one_loss += (b_y == max_polling).sum()\n",
        "    acc_train = zero_one_loss / len(y_pred)\n",
        "    #-------------------------------------------------\n",
        "    # validation\n",
        "    model.eval()\n",
        "    zero_one_loss_val = 0.\n",
        "    for b_ival, (b_xval, b_yval) in enumerate(dl_val):\n",
        "        y_logitos = model(b_xval)\n",
        "        loss_val = loss_func(y_logitos, b_yval)\n",
        "        yval_pred = torch.argmax(y_logitos, dim=1)\n",
        "        zero_one_loss_val += (b_yval == yval_pred).sum()\n",
        "    #-------------------------------------------------\n",
        "    loss_his.append(loss.item())    # loss recoder\n",
        "    loss_val_his.append(loss_val.item())    # loss recoder\n",
        "    acc_val = zero_one_loss_val / len(ds_val)\n",
        "    #-------------------------------------------------\n",
        "    print('loss_train = {0:.4f}'.format(loss_his[-1]), end='; ')\n",
        "    print('loss_val = {0:.4f}'.format(loss_val_his[-1]), end='; ')\n",
        "    print('acc_train = {0:.4f}'.format(acc_train), end='; ')\n",
        "    print('acc_val = {0:.4f}'.format(acc_val), end='\\n')"
      ],
      "execution_count": 11,
      "outputs": [
        {
          "output_type": "stream",
          "text": [
            "epoch = 0; loss_train = 2.2994; loss_val = 2.2968; acc_train = 0.0880; acc_val = 0.1090\n",
            "epoch = 1; loss_train = 2.2956; loss_val = 2.2922; acc_train = 0.1180; acc_val = 0.1760\n",
            "epoch = 2; loss_train = 2.2933; loss_val = 2.2868; acc_train = 0.1560; acc_val = 0.2420\n",
            "epoch = 3; loss_train = 2.2858; loss_val = 2.2803; acc_train = 0.1660; acc_val = 0.3000\n",
            "epoch = 4; loss_train = 2.2865; loss_val = 2.2717; acc_train = 0.1600; acc_val = 0.3825\n",
            "epoch = 5; loss_train = 2.2727; loss_val = 2.2601; acc_train = 0.2000; acc_val = 0.4905\n",
            "epoch = 6; loss_train = 2.2584; loss_val = 2.2436; acc_train = 0.2680; acc_val = 0.5590\n",
            "epoch = 7; loss_train = 2.2452; loss_val = 2.2187; acc_train = 0.2360; acc_val = 0.5965\n",
            "epoch = 8; loss_train = 2.2126; loss_val = 2.1797; acc_train = 0.3140; acc_val = 0.6035\n",
            "epoch = 9; loss_train = 2.1592; loss_val = 2.1146; acc_train = 0.3280; acc_val = 0.5960\n",
            "epoch = 10; loss_train = 2.0517; loss_val = 2.0061; acc_train = 0.3620; acc_val = 0.5925\n",
            "epoch = 11; loss_train = 1.9139; loss_val = 1.8426; acc_train = 0.4360; acc_val = 0.6105\n",
            "epoch = 12; loss_train = 1.7991; loss_val = 1.6300; acc_train = 0.4140; acc_val = 0.6165\n",
            "epoch = 13; loss_train = 1.5653; loss_val = 1.4039; acc_train = 0.5000; acc_val = 0.6285\n",
            "epoch = 14; loss_train = 1.4516; loss_val = 1.2175; acc_train = 0.5180; acc_val = 0.6535\n",
            "epoch = 15; loss_train = 1.3164; loss_val = 1.0776; acc_train = 0.5360; acc_val = 0.6725\n",
            "epoch = 16; loss_train = 1.2403; loss_val = 0.9812; acc_train = 0.5780; acc_val = 0.7000\n",
            "epoch = 17; loss_train = 1.1495; loss_val = 0.9170; acc_train = 0.5740; acc_val = 0.7165\n",
            "epoch = 18; loss_train = 1.1546; loss_val = 0.8633; acc_train = 0.5840; acc_val = 0.7310\n",
            "epoch = 19; loss_train = 1.0408; loss_val = 0.8177; acc_train = 0.6660; acc_val = 0.7520\n",
            "epoch = 20; loss_train = 1.0824; loss_val = 0.7754; acc_train = 0.6340; acc_val = 0.7600\n",
            "epoch = 21; loss_train = 0.9657; loss_val = 0.7358; acc_train = 0.6800; acc_val = 0.7790\n",
            "epoch = 22; loss_train = 0.9622; loss_val = 0.7020; acc_train = 0.7060; acc_val = 0.7795\n",
            "epoch = 23; loss_train = 0.9042; loss_val = 0.6695; acc_train = 0.7020; acc_val = 0.7985\n",
            "epoch = 24; loss_train = 0.7975; loss_val = 0.6376; acc_train = 0.7400; acc_val = 0.8000\n",
            "epoch = 25; loss_train = 0.8669; loss_val = 0.6081; acc_train = 0.7160; acc_val = 0.8130\n",
            "epoch = 26; loss_train = 0.7923; loss_val = 0.5847; acc_train = 0.7200; acc_val = 0.8305\n",
            "epoch = 27; loss_train = 0.7633; loss_val = 0.5632; acc_train = 0.7560; acc_val = 0.8270\n",
            "epoch = 28; loss_train = 0.7129; loss_val = 0.5378; acc_train = 0.7820; acc_val = 0.8390\n",
            "epoch = 29; loss_train = 0.6935; loss_val = 0.5183; acc_train = 0.7840; acc_val = 0.8480\n",
            "epoch = 30; loss_train = 0.6781; loss_val = 0.5001; acc_train = 0.7760; acc_val = 0.8580\n",
            "epoch = 31; loss_train = 0.6425; loss_val = 0.4826; acc_train = 0.7840; acc_val = 0.8600\n",
            "epoch = 32; loss_train = 0.6777; loss_val = 0.4676; acc_train = 0.7860; acc_val = 0.8605\n",
            "epoch = 33; loss_train = 0.5951; loss_val = 0.4556; acc_train = 0.8080; acc_val = 0.8640\n",
            "epoch = 34; loss_train = 0.6287; loss_val = 0.4403; acc_train = 0.8080; acc_val = 0.8700\n",
            "epoch = 35; loss_train = 0.6711; loss_val = 0.4324; acc_train = 0.7960; acc_val = 0.8720\n",
            "epoch = 36; loss_train = 0.6162; loss_val = 0.4197; acc_train = 0.7980; acc_val = 0.8815\n",
            "epoch = 37; loss_train = 0.5682; loss_val = 0.4119; acc_train = 0.8460; acc_val = 0.8800\n",
            "epoch = 38; loss_train = 0.5408; loss_val = 0.4022; acc_train = 0.8420; acc_val = 0.8855\n",
            "epoch = 39; loss_train = 0.5484; loss_val = 0.3927; acc_train = 0.8420; acc_val = 0.8875\n",
            "epoch = 40; loss_train = 0.5449; loss_val = 0.3844; acc_train = 0.8140; acc_val = 0.8895\n",
            "epoch = 41; loss_train = 0.5861; loss_val = 0.3775; acc_train = 0.8440; acc_val = 0.8930\n",
            "epoch = 42; loss_train = 0.4890; loss_val = 0.3682; acc_train = 0.8580; acc_val = 0.8940\n",
            "epoch = 43; loss_train = 0.4830; loss_val = 0.3628; acc_train = 0.8500; acc_val = 0.8950\n",
            "epoch = 44; loss_train = 0.5258; loss_val = 0.3601; acc_train = 0.8480; acc_val = 0.8940\n",
            "epoch = 45; loss_train = 0.4359; loss_val = 0.3496; acc_train = 0.8740; acc_val = 0.9000\n",
            "epoch = 46; loss_train = 0.5908; loss_val = 0.3465; acc_train = 0.8280; acc_val = 0.9015\n",
            "epoch = 47; loss_train = 0.4181; loss_val = 0.3419; acc_train = 0.8760; acc_val = 0.9025\n",
            "epoch = 48; loss_train = 0.4881; loss_val = 0.3334; acc_train = 0.8480; acc_val = 0.9045\n",
            "epoch = 49; loss_train = 0.4574; loss_val = 0.3344; acc_train = 0.8680; acc_val = 0.9055\n",
            "epoch = 50; loss_train = 0.4094; loss_val = 0.3241; acc_train = 0.8640; acc_val = 0.9090\n",
            "epoch = 51; loss_train = 0.4250; loss_val = 0.3246; acc_train = 0.8900; acc_val = 0.9100\n",
            "epoch = 52; loss_train = 0.4133; loss_val = 0.3147; acc_train = 0.8640; acc_val = 0.9120\n",
            "epoch = 53; loss_train = 0.4638; loss_val = 0.3105; acc_train = 0.8680; acc_val = 0.9090\n",
            "epoch = 54; loss_train = 0.4916; loss_val = 0.3066; acc_train = 0.8500; acc_val = 0.9140\n",
            "epoch = 55; loss_train = 0.4067; loss_val = 0.3042; acc_train = 0.8900; acc_val = 0.9145\n",
            "epoch = 56; loss_train = 0.5299; loss_val = 0.2994; acc_train = 0.8440; acc_val = 0.9125\n",
            "epoch = 57; loss_train = 0.4057; loss_val = 0.2924; acc_train = 0.8860; acc_val = 0.9170\n",
            "epoch = 58; loss_train = 0.4209; loss_val = 0.2924; acc_train = 0.8680; acc_val = 0.9165\n",
            "epoch = 59; loss_train = 0.4345; loss_val = 0.2948; acc_train = 0.8640; acc_val = 0.9160\n",
            "epoch = 60; loss_train = 0.3264; loss_val = 0.2879; acc_train = 0.9040; acc_val = 0.9145\n",
            "epoch = 61; loss_train = 0.4213; loss_val = 0.2870; acc_train = 0.8880; acc_val = 0.9160\n",
            "epoch = 62; loss_train = 0.4196; loss_val = 0.2823; acc_train = 0.8840; acc_val = 0.9190\n",
            "epoch = 63; loss_train = 0.3929; loss_val = 0.2808; acc_train = 0.8820; acc_val = 0.9175\n",
            "epoch = 64; loss_train = 0.3830; loss_val = 0.2752; acc_train = 0.8740; acc_val = 0.9185\n",
            "epoch = 65; loss_train = 0.3694; loss_val = 0.2716; acc_train = 0.9000; acc_val = 0.9190\n",
            "epoch = 66; loss_train = 0.3081; loss_val = 0.2708; acc_train = 0.9060; acc_val = 0.9210\n",
            "epoch = 67; loss_train = 0.4448; loss_val = 0.2729; acc_train = 0.8600; acc_val = 0.9215\n",
            "epoch = 68; loss_train = 0.3063; loss_val = 0.2657; acc_train = 0.9180; acc_val = 0.9200\n",
            "epoch = 69; loss_train = 0.3858; loss_val = 0.2654; acc_train = 0.8880; acc_val = 0.9230\n",
            "epoch = 70; loss_train = 0.3687; loss_val = 0.2637; acc_train = 0.8920; acc_val = 0.9240\n",
            "epoch = 71; loss_train = 0.3301; loss_val = 0.2606; acc_train = 0.9040; acc_val = 0.9225\n",
            "epoch = 72; loss_train = 0.3236; loss_val = 0.2592; acc_train = 0.9120; acc_val = 0.9270\n",
            "epoch = 73; loss_train = 0.3097; loss_val = 0.2560; acc_train = 0.9080; acc_val = 0.9300\n",
            "epoch = 74; loss_train = 0.3239; loss_val = 0.2576; acc_train = 0.9080; acc_val = 0.9265\n",
            "epoch = 75; loss_train = 0.2964; loss_val = 0.2510; acc_train = 0.9200; acc_val = 0.9265\n",
            "epoch = 76; loss_train = 0.3075; loss_val = 0.2514; acc_train = 0.9040; acc_val = 0.9295\n",
            "epoch = 77; loss_train = 0.3418; loss_val = 0.2541; acc_train = 0.8960; acc_val = 0.9280\n",
            "epoch = 78; loss_train = 0.3205; loss_val = 0.2440; acc_train = 0.9100; acc_val = 0.9280\n",
            "epoch = 79; loss_train = 0.2747; loss_val = 0.2463; acc_train = 0.9180; acc_val = 0.9305\n",
            "epoch = 80; loss_train = 0.3178; loss_val = 0.2457; acc_train = 0.9180; acc_val = 0.9305\n",
            "epoch = 81; loss_train = 0.2917; loss_val = 0.2449; acc_train = 0.9240; acc_val = 0.9325\n",
            "epoch = 82; loss_train = 0.3120; loss_val = 0.2417; acc_train = 0.9020; acc_val = 0.9320\n",
            "epoch = 83; loss_train = 0.2407; loss_val = 0.2398; acc_train = 0.9400; acc_val = 0.9305\n",
            "epoch = 84; loss_train = 0.2969; loss_val = 0.2396; acc_train = 0.9240; acc_val = 0.9300\n",
            "epoch = 85; loss_train = 0.2936; loss_val = 0.2370; acc_train = 0.9060; acc_val = 0.9340\n",
            "epoch = 86; loss_train = 0.2500; loss_val = 0.2391; acc_train = 0.9320; acc_val = 0.9330\n",
            "epoch = 87; loss_train = 0.2454; loss_val = 0.2389; acc_train = 0.9260; acc_val = 0.9325\n",
            "epoch = 88; loss_train = 0.2636; loss_val = 0.2334; acc_train = 0.9300; acc_val = 0.9330\n",
            "epoch = 89; loss_train = 0.2639; loss_val = 0.2331; acc_train = 0.9320; acc_val = 0.9335\n",
            "epoch = 90; loss_train = 0.2450; loss_val = 0.2275; acc_train = 0.9360; acc_val = 0.9350\n",
            "epoch = 91; loss_train = 0.2604; loss_val = 0.2297; acc_train = 0.9300; acc_val = 0.9365\n",
            "epoch = 92; loss_train = 0.2164; loss_val = 0.2271; acc_train = 0.9320; acc_val = 0.9375\n",
            "epoch = 93; loss_train = 0.2282; loss_val = 0.2286; acc_train = 0.9320; acc_val = 0.9350\n",
            "epoch = 94; loss_train = 0.2876; loss_val = 0.2244; acc_train = 0.9160; acc_val = 0.9375\n",
            "epoch = 95; loss_train = 0.2347; loss_val = 0.2276; acc_train = 0.9300; acc_val = 0.9385\n",
            "epoch = 96; loss_train = 0.2407; loss_val = 0.2238; acc_train = 0.9280; acc_val = 0.9390\n",
            "epoch = 97; loss_train = 0.2651; loss_val = 0.2214; acc_train = 0.9280; acc_val = 0.9400\n",
            "epoch = 98; loss_train = 0.2411; loss_val = 0.2211; acc_train = 0.9320; acc_val = 0.9400\n",
            "epoch = 99; loss_train = 0.2201; loss_val = 0.2241; acc_train = 0.9360; acc_val = 0.9385\n",
            "epoch = 100; loss_train = 0.2311; loss_val = 0.2206; acc_train = 0.9360; acc_val = 0.9375\n",
            "epoch = 101; loss_train = 0.2692; loss_val = 0.2211; acc_train = 0.9300; acc_val = 0.9370\n",
            "epoch = 102; loss_train = 0.2215; loss_val = 0.2202; acc_train = 0.9380; acc_val = 0.9380\n",
            "epoch = 103; loss_train = 0.2256; loss_val = 0.2211; acc_train = 0.9320; acc_val = 0.9395\n",
            "epoch = 104; loss_train = 0.2113; loss_val = 0.2188; acc_train = 0.9300; acc_val = 0.9400\n",
            "epoch = 105; loss_train = 0.2160; loss_val = 0.2173; acc_train = 0.9320; acc_val = 0.9415\n",
            "epoch = 106; loss_train = 0.1759; loss_val = 0.2181; acc_train = 0.9520; acc_val = 0.9410\n",
            "epoch = 107; loss_train = 0.2105; loss_val = 0.2127; acc_train = 0.9320; acc_val = 0.9430\n",
            "epoch = 108; loss_train = 0.2295; loss_val = 0.2132; acc_train = 0.9380; acc_val = 0.9415\n",
            "epoch = 109; loss_train = 0.2478; loss_val = 0.2129; acc_train = 0.9260; acc_val = 0.9415\n",
            "epoch = 110; loss_train = 0.2265; loss_val = 0.2147; acc_train = 0.9340; acc_val = 0.9425\n",
            "epoch = 111; loss_train = 0.2686; loss_val = 0.2161; acc_train = 0.9080; acc_val = 0.9430\n",
            "epoch = 112; loss_train = 0.1716; loss_val = 0.2129; acc_train = 0.9520; acc_val = 0.9445\n",
            "epoch = 113; loss_train = 0.1982; loss_val = 0.2137; acc_train = 0.9400; acc_val = 0.9430\n",
            "epoch = 114; loss_train = 0.1699; loss_val = 0.2164; acc_train = 0.9560; acc_val = 0.9450\n",
            "epoch = 115; loss_train = 0.2291; loss_val = 0.2125; acc_train = 0.9220; acc_val = 0.9450\n",
            "epoch = 116; loss_train = 0.1702; loss_val = 0.2092; acc_train = 0.9540; acc_val = 0.9470\n",
            "epoch = 117; loss_train = 0.2390; loss_val = 0.2076; acc_train = 0.9220; acc_val = 0.9460\n",
            "epoch = 118; loss_train = 0.2064; loss_val = 0.2094; acc_train = 0.9440; acc_val = 0.9480\n",
            "epoch = 119; loss_train = 0.2018; loss_val = 0.2113; acc_train = 0.9480; acc_val = 0.9455\n",
            "epoch = 120; loss_train = 0.1412; loss_val = 0.2108; acc_train = 0.9540; acc_val = 0.9480\n",
            "epoch = 121; loss_train = 0.2553; loss_val = 0.2121; acc_train = 0.9300; acc_val = 0.9475\n",
            "epoch = 122; loss_train = 0.2212; loss_val = 0.2049; acc_train = 0.9240; acc_val = 0.9470\n",
            "epoch = 123; loss_train = 0.1677; loss_val = 0.2067; acc_train = 0.9440; acc_val = 0.9490\n",
            "epoch = 124; loss_train = 0.1417; loss_val = 0.2081; acc_train = 0.9520; acc_val = 0.9495\n",
            "epoch = 125; loss_train = 0.2078; loss_val = 0.2059; acc_train = 0.9440; acc_val = 0.9485\n",
            "epoch = 126; loss_train = 0.2028; loss_val = 0.2101; acc_train = 0.9380; acc_val = 0.9465\n",
            "epoch = 127; loss_train = 0.1784; loss_val = 0.2072; acc_train = 0.9480; acc_val = 0.9475\n",
            "epoch = 128; loss_train = 0.1762; loss_val = 0.2085; acc_train = 0.9520; acc_val = 0.9495\n",
            "epoch = 129; loss_train = 0.1350; loss_val = 0.2074; acc_train = 0.9580; acc_val = 0.9495\n",
            "epoch = 130; loss_train = 0.1581; loss_val = 0.2067; acc_train = 0.9540; acc_val = 0.9475\n",
            "epoch = 131; loss_train = 0.1887; loss_val = 0.2068; acc_train = 0.9480; acc_val = 0.9490\n",
            "epoch = 132; loss_train = 0.1536; loss_val = 0.2040; acc_train = 0.9580; acc_val = 0.9505\n",
            "epoch = 133; loss_train = 0.1407; loss_val = 0.2022; acc_train = 0.9620; acc_val = 0.9485\n",
            "epoch = 134; loss_train = 0.1474; loss_val = 0.2060; acc_train = 0.9560; acc_val = 0.9500\n",
            "epoch = 135; loss_train = 0.1415; loss_val = 0.2071; acc_train = 0.9620; acc_val = 0.9495\n",
            "epoch = 136; loss_train = 0.1705; loss_val = 0.2064; acc_train = 0.9420; acc_val = 0.9510\n",
            "epoch = 137; loss_train = 0.1442; loss_val = 0.2086; acc_train = 0.9520; acc_val = 0.9505\n",
            "epoch = 138; loss_train = 0.1271; loss_val = 0.2067; acc_train = 0.9640; acc_val = 0.9510\n",
            "epoch = 139; loss_train = 0.1600; loss_val = 0.2077; acc_train = 0.9540; acc_val = 0.9505\n",
            "epoch = 140; loss_train = 0.1603; loss_val = 0.2074; acc_train = 0.9640; acc_val = 0.9515\n",
            "epoch = 141; loss_train = 0.1398; loss_val = 0.2091; acc_train = 0.9560; acc_val = 0.9535\n",
            "epoch = 142; loss_train = 0.1335; loss_val = 0.2011; acc_train = 0.9560; acc_val = 0.9520\n",
            "epoch = 143; loss_train = 0.1187; loss_val = 0.2005; acc_train = 0.9640; acc_val = 0.9525\n",
            "epoch = 144; loss_train = 0.1979; loss_val = 0.2083; acc_train = 0.9440; acc_val = 0.9515\n",
            "epoch = 145; loss_train = 0.1596; loss_val = 0.2072; acc_train = 0.9520; acc_val = 0.9525\n",
            "epoch = 146; loss_train = 0.1292; loss_val = 0.2039; acc_train = 0.9640; acc_val = 0.9490\n",
            "epoch = 147; loss_train = 0.1349; loss_val = 0.2062; acc_train = 0.9500; acc_val = 0.9520\n",
            "epoch = 148; loss_train = 0.1408; loss_val = 0.2007; acc_train = 0.9500; acc_val = 0.9500\n",
            "epoch = 149; loss_train = 0.1456; loss_val = 0.2068; acc_train = 0.9640; acc_val = 0.9500\n",
            "epoch = 150; loss_train = 0.0946; loss_val = 0.2024; acc_train = 0.9860; acc_val = 0.9540\n",
            "epoch = 151; loss_train = 0.1255; loss_val = 0.2045; acc_train = 0.9740; acc_val = 0.9525\n",
            "epoch = 152; loss_train = 0.1047; loss_val = 0.2100; acc_train = 0.9700; acc_val = 0.9515\n",
            "epoch = 153; loss_train = 0.1295; loss_val = 0.2033; acc_train = 0.9560; acc_val = 0.9520\n",
            "epoch = 154; loss_train = 0.1226; loss_val = 0.1984; acc_train = 0.9680; acc_val = 0.9525\n",
            "epoch = 155; loss_train = 0.0843; loss_val = 0.2044; acc_train = 0.9820; acc_val = 0.9525\n",
            "epoch = 156; loss_train = 0.1354; loss_val = 0.2063; acc_train = 0.9540; acc_val = 0.9520\n",
            "epoch = 157; loss_train = 0.1351; loss_val = 0.2065; acc_train = 0.9600; acc_val = 0.9530\n",
            "epoch = 158; loss_train = 0.1225; loss_val = 0.1987; acc_train = 0.9680; acc_val = 0.9550\n",
            "epoch = 159; loss_train = 0.1708; loss_val = 0.1970; acc_train = 0.9520; acc_val = 0.9530\n",
            "epoch = 160; loss_train = 0.1463; loss_val = 0.2006; acc_train = 0.9660; acc_val = 0.9535\n",
            "epoch = 161; loss_train = 0.1180; loss_val = 0.2013; acc_train = 0.9660; acc_val = 0.9540\n",
            "epoch = 162; loss_train = 0.1252; loss_val = 0.2012; acc_train = 0.9560; acc_val = 0.9550\n",
            "epoch = 163; loss_train = 0.1140; loss_val = 0.2106; acc_train = 0.9640; acc_val = 0.9515\n",
            "epoch = 164; loss_train = 0.1148; loss_val = 0.2086; acc_train = 0.9580; acc_val = 0.9535\n",
            "epoch = 165; loss_train = 0.1080; loss_val = 0.2036; acc_train = 0.9700; acc_val = 0.9550\n",
            "epoch = 166; loss_train = 0.1346; loss_val = 0.2045; acc_train = 0.9660; acc_val = 0.9565\n",
            "epoch = 167; loss_train = 0.1363; loss_val = 0.2005; acc_train = 0.9640; acc_val = 0.9545\n",
            "epoch = 168; loss_train = 0.1551; loss_val = 0.2008; acc_train = 0.9500; acc_val = 0.9540\n",
            "epoch = 169; loss_train = 0.1089; loss_val = 0.2034; acc_train = 0.9640; acc_val = 0.9565\n",
            "epoch = 170; loss_train = 0.1374; loss_val = 0.2017; acc_train = 0.9600; acc_val = 0.9555\n",
            "epoch = 171; loss_train = 0.1109; loss_val = 0.2017; acc_train = 0.9640; acc_val = 0.9560\n",
            "epoch = 172; loss_train = 0.1241; loss_val = 0.1995; acc_train = 0.9680; acc_val = 0.9570\n",
            "epoch = 173; loss_train = 0.0999; loss_val = 0.2032; acc_train = 0.9680; acc_val = 0.9575\n",
            "epoch = 174; loss_train = 0.1241; loss_val = 0.2027; acc_train = 0.9600; acc_val = 0.9565\n",
            "epoch = 175; loss_train = 0.1103; loss_val = 0.2047; acc_train = 0.9720; acc_val = 0.9555\n",
            "epoch = 176; loss_train = 0.1004; loss_val = 0.2031; acc_train = 0.9720; acc_val = 0.9550\n",
            "epoch = 177; loss_train = 0.1100; loss_val = 0.2106; acc_train = 0.9640; acc_val = 0.9550\n",
            "epoch = 178; loss_train = 0.0890; loss_val = 0.2011; acc_train = 0.9820; acc_val = 0.9570\n",
            "epoch = 179; loss_train = 0.0848; loss_val = 0.2071; acc_train = 0.9660; acc_val = 0.9570\n",
            "epoch = 180; loss_train = 0.0732; loss_val = 0.2005; acc_train = 0.9840; acc_val = 0.9570\n",
            "epoch = 181; loss_train = 0.1041; loss_val = 0.2048; acc_train = 0.9760; acc_val = 0.9565\n",
            "epoch = 182; loss_train = 0.1565; loss_val = 0.2005; acc_train = 0.9580; acc_val = 0.9565\n",
            "epoch = 183; loss_train = 0.1202; loss_val = 0.2054; acc_train = 0.9660; acc_val = 0.9555\n",
            "epoch = 184; loss_train = 0.1081; loss_val = 0.2041; acc_train = 0.9660; acc_val = 0.9555\n",
            "epoch = 185; loss_train = 0.0912; loss_val = 0.2023; acc_train = 0.9680; acc_val = 0.9565\n",
            "epoch = 186; loss_train = 0.0895; loss_val = 0.2036; acc_train = 0.9780; acc_val = 0.9555\n",
            "epoch = 187; loss_train = 0.1276; loss_val = 0.2002; acc_train = 0.9680; acc_val = 0.9575\n",
            "epoch = 188; loss_train = 0.1079; loss_val = 0.2045; acc_train = 0.9760; acc_val = 0.9565\n",
            "epoch = 189; loss_train = 0.0848; loss_val = 0.2023; acc_train = 0.9800; acc_val = 0.9555\n",
            "epoch = 190; loss_train = 0.0996; loss_val = 0.2024; acc_train = 0.9740; acc_val = 0.9540\n",
            "epoch = 191; loss_train = 0.0880; loss_val = 0.1960; acc_train = 0.9720; acc_val = 0.9575\n",
            "epoch = 192; loss_train = 0.0999; loss_val = 0.1996; acc_train = 0.9740; acc_val = 0.9580\n",
            "epoch = 193; loss_train = 0.0858; loss_val = 0.2009; acc_train = 0.9720; acc_val = 0.9570\n",
            "epoch = 194; loss_train = 0.1172; loss_val = 0.1969; acc_train = 0.9700; acc_val = 0.9560\n",
            "epoch = 195; loss_train = 0.1019; loss_val = 0.2007; acc_train = 0.9640; acc_val = 0.9570\n",
            "epoch = 196; loss_train = 0.0664; loss_val = 0.2066; acc_train = 0.9880; acc_val = 0.9570\n",
            "epoch = 197; loss_train = 0.1048; loss_val = 0.1985; acc_train = 0.9660; acc_val = 0.9585\n",
            "epoch = 198; loss_train = 0.0810; loss_val = 0.2023; acc_train = 0.9800; acc_val = 0.9575\n",
            "epoch = 199; loss_train = 0.0873; loss_val = 0.2020; acc_train = 0.9760; acc_val = 0.9580\n"
          ],
          "name": "stdout"
        }
      ]
    },
    {
      "cell_type": "markdown",
      "metadata": {
        "id": "v6aK9evCbmB2",
        "colab_type": "text"
      },
      "source": [
        "## 5. Performance evaluation\n",
        "\n",
        "- metrics:\n",
        "  - accuracy\n",
        "  - confusion matrix\n",
        "  - others"
      ]
    },
    {
      "cell_type": "markdown",
      "metadata": {
        "id": "l0gce53NhzuH",
        "colab_type": "text"
      },
      "source": [
        "### Training Loss"
      ]
    },
    {
      "cell_type": "code",
      "metadata": {
        "id": "aIey4Ob7r3kn",
        "colab_type": "code",
        "colab": {
          "base_uri": "https://localhost:8080/",
          "height": 295
        },
        "outputId": "2fc6685f-8e18-4abe-ba14-bd9c2a0631df"
      },
      "source": [
        "# plot training loss\n",
        "plt.plot(loss_his, label='training loss', color='blue')\n",
        "#-------------------------------------------------\n",
        "# axis label\n",
        "plt.xlabel('Epochs')\n",
        "plt.ylabel('CE Loss')\n",
        "# title\n",
        "plt.title('Training loss')\n",
        "#-------------------------------------------------\n",
        "plt.autoscale(axis='x', tight=True) # axis adjust\n",
        "plt.grid(True) # add grid\n",
        "#plt.legend() # add legend\n",
        "plt.show()"
      ],
      "execution_count": 12,
      "outputs": [
        {
          "output_type": "display_data",
          "data": {
            "image/png": "[encoded data removed]",
            "text/plain": [
              "<Figure size 432x288 with 1 Axes>"
            ]
          },
          "metadata": {
            "tags": []
          }
        }
      ]
    },
    {
      "cell_type": "markdown",
      "metadata": {
        "id": "F-PIiPLehyNG",
        "colab_type": "text"
      },
      "source": [
        "### Validation Loss"
      ]
    },
    {
      "cell_type": "code",
      "metadata": {
        "id": "4XjpUYdOhwEx",
        "colab_type": "code",
        "colab": {
          "base_uri": "https://localhost:8080/",
          "height": 295
        },
        "outputId": "fb569262-eec8-4a66-cf11-8db1a17d8a1a"
      },
      "source": [
        "# plot validation loss\n",
        "plt.plot(loss_val_his, label='validation loss', color='red')\n",
        "#-------------------------------------------------\n",
        "# axis label\n",
        "plt.xlabel('Epochs')\n",
        "plt.ylabel('CE Loss')\n",
        "# title\n",
        "plt.title('Validation loss')\n",
        "#-------------------------------------------------\n",
        "plt.autoscale(axis='x', tight=True) # axis adjust\n",
        "plt.grid(True) # add grid\n",
        "#plt.legend() # add legend\n",
        "plt.show()"
      ],
      "execution_count": 13,
      "outputs": [
        {
          "output_type": "display_data",
          "data": {
            "image/png": "[encoded data removed]",
            "text/plain": [
              "<Figure size 432x288 with 1 Axes>"
            ]
          },
          "metadata": {
            "tags": []
          }
        }
      ]
    },
    {
      "cell_type": "markdown",
      "metadata": {
        "id": "thGUnNmdiqa6",
        "colab_type": "text"
      },
      "source": [
        "### Zoom at the minimum of CE loss curve"
      ]
    },
    {
      "cell_type": "code",
      "metadata": {
        "id": "zP5L2Gk4iraH",
        "colab_type": "code",
        "colab": {
          "base_uri": "https://localhost:8080/",
          "height": 314
        },
        "outputId": "5e5ddebd-95d3-45cf-94ca-4650939ebd87"
      },
      "source": [
        "best_epoch = loss_val_his.index(min(loss_val_his)) + 1\n",
        "print('Epoch with minimum validation loss =', best_epoch)\n",
        "#-------------------------------------------------\n",
        "# plots\n",
        "plt.plot(range(max(1,best_epoch-2),min(EPOCH,best_epoch+3)), loss_val_his[max(1,best_epoch-3):min(EPOCH-1,best_epoch+2)], 'green')\n",
        "plt.xlabel('Epochs')\n",
        "plt.ylabel('CE loss')\n",
        "plt.autoscale(axis='x', tight=True)\n",
        "plt.title('Progression of validation loss acording to epochs')\n",
        "plt.grid(True)\n",
        "plt.show()"
      ],
      "execution_count": 14,
      "outputs": [
        {
          "output_type": "stream",
          "text": [
            "Epoch with minimum validation loss = 192\n"
          ],
          "name": "stdout"
        },
        {
          "output_type": "display_data",
          "data": {
            "image/png": "[encoded data removed]",
            "text/plain": [
              "<Figure size 432x288 with 1 Axes>"
            ]
          },
          "metadata": {
            "tags": []
          }
        }
      ]
    },
    {
      "cell_type": "markdown",
      "metadata": {
        "id": "_8Xzipr2B9to",
        "colab_type": "text"
      },
      "source": [
        "### 5.1 Print the final values of the main training monitoring variables:\n",
        "- loss function final value:\n",
        "- metrics final values:"
      ]
    },
    {
      "cell_type": "code",
      "metadata": {
        "id": "VEVVlMqVs69I",
        "colab_type": "code",
        "colab": {
          "base_uri": "https://localhost:8080/",
          "height": 114
        },
        "outputId": "ca7e7829-835b-4751-851e-27bef4b70537"
      },
      "source": [
        "print('last training loss = {0:.4f}'.format(loss_his[-1]))\n",
        "print('last validation loss = {0:.4f}'.format(loss_val_his[-1]))\n",
        "#-------------------------------------------------\n",
        "print('#-------------------------------------------------')\n",
        "print('last train accuracy = {0:.4f}'.format(acc_train.item()))\n",
        "print('last validation accuracy = {0:.4f}'.format(acc_val.item()))"
      ],
      "execution_count": 15,
      "outputs": [
        {
          "output_type": "stream",
          "text": [
            "last training loss = 0.0873\n",
            "last validation loss = 0.2020\n",
            "#-------------------------------------------------\n",
            "last train accuracy = 0.9760\n",
            "last validation accuracy = 0.9580\n"
          ],
          "name": "stdout"
        }
      ]
    }
  ]
}